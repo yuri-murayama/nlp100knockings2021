{
 "cells": [
  {
   "cell_type": "markdown",
   "id": "hawaiian-evaluation",
   "metadata": {},
   "source": [
    "# 第6章: 機械学習\n",
    "本章では，Fabio Gasparetti氏が公開しているNews Aggregator Data Setを用い，ニュース記事の見出しを「ビジネス」「科学技術」「エンターテイメント」「健康」のカテゴリに分類するタスク（カテゴリ分類）に取り組む．\n",
    "\n",
    "## 50. データの入手・整形\n",
    "[News Aggregator Data Set](https://archive.ics.uci.edu/ml/datasets/News+Aggregator)をダウンロードし、以下の要領で学習データ（train.txt），検証データ（valid.txt），評価データ（test.txt）を作成せよ．\n",
    "\n",
    "1. ダウンロードしたzipファイルを解凍し，readme.txtの説明を読む．\n",
    "2. 情報源（publisher）が”Reuters”, “Huffington Post”, “Businessweek”, “Contactmusic.com”, “Daily Mail”の事例（記事）のみを抽出する．\n",
    "3. 抽出された事例をランダムに並び替える．\n",
    "4. 抽出された事例の80%を学習データ，残りの10%ずつを検証データと評価データに分割し，それぞれtrain.txt，valid.txt，test.txtというファイル名で保存する．ファイルには，１行に１事例を書き出すこととし，カテゴリ名と記事見出しのタブ区切り形式とせよ（このファイルは後に問題70で再利用する）．\n",
    "\n",
    "学習データと評価データを作成したら，各カテゴリの事例数を確認せよ．"
   ]
  },
  {
   "cell_type": "code",
   "execution_count": 1,
   "id": "boxed-gilbert",
   "metadata": {},
   "outputs": [
    {
     "name": "stdout",
     "output_type": "stream",
     "text": [
      "2pageSessions.csv  newsCorpora.csv    readme.txt\n"
     ]
    }
   ],
   "source": [
    "ls NewsAggregatorDataset/"
   ]
  },
  {
   "cell_type": "markdown",
   "id": "insured-happening",
   "metadata": {},
   "source": [
    "id title url publisher category story hostname timestamp"
   ]
  },
  {
   "cell_type": "code",
   "execution_count": 2,
   "id": "historic-jimmy",
   "metadata": {},
   "outputs": [],
   "source": [
    "import pandas as pd\n",
    "from sklearn.model_selection import train_test_split"
   ]
  },
  {
   "cell_type": "code",
   "execution_count": 3,
   "id": "inside-cooler",
   "metadata": {},
   "outputs": [],
   "source": [
    "df = pd.read_csv('./NewsAggregatorDataset/newsCorpora.csv', header=None, sep='\\t', names=['ID', 'TITLE', 'PUBLISHER', 'CATEGORY', 'STORY', 'HOSTNAME', 'TIMESTAMP'])\n",
    "df_2 = df[df['PUBLISHER'].isin(['Reuters', 'Huffington Post', 'Businessweek', 'Contactmusic.com', 'Daily Mail'])]"
   ]
  },
  {
   "cell_type": "code",
   "execution_count": 4,
   "id": "literary-uncertainty",
   "metadata": {},
   "outputs": [
    {
     "data": {
      "text/plain": [
       "13340"
      ]
     },
     "execution_count": 4,
     "metadata": {},
     "output_type": "execute_result"
    }
   ],
   "source": [
    "len(df_2)"
   ]
  },
  {
   "cell_type": "code",
   "execution_count": 5,
   "id": "elegant-dairy",
   "metadata": {},
   "outputs": [],
   "source": [
    "# 分割\n",
    "train, val_tra = train_test_split(df_2, test_size=0.2, shuffle=True, random_state=111, stratify=df_2['CATEGORY'])\n",
    "valid, test = train_test_split(val_tra, test_size=0.5, shuffle=True, random_state=111, stratify=val_tra['CATEGORY'])"
   ]
  },
  {
   "cell_type": "code",
   "execution_count": 6,
   "id": "proud-swaziland",
   "metadata": {},
   "outputs": [],
   "source": [
    "# 保存\n",
    "train.to_csv('./train.txt', sep='\\t', index=False)\n",
    "valid.to_csv('./valid.txt', sep='\\t', index=False)\n",
    "test.to_csv('./test.txt', sep='\\t', index=False)"
   ]
  },
  {
   "cell_type": "code",
   "execution_count": 7,
   "id": "civic-jungle",
   "metadata": {},
   "outputs": [
    {
     "name": "stdout",
     "output_type": "stream",
     "text": [
      "学習データ\n",
      "b    4502\n",
      "e    4223\n",
      "t    1219\n",
      "m     728\n",
      "Name: CATEGORY, dtype: int64\n",
      "検証データ\n",
      "b    562\n",
      "e    528\n",
      "t    153\n",
      "m     91\n",
      "Name: CATEGORY, dtype: int64\n",
      "評価データ\n",
      "b    563\n",
      "e    528\n",
      "t    152\n",
      "m     91\n",
      "Name: CATEGORY, dtype: int64\n"
     ]
    }
   ],
   "source": [
    "# 事例数\n",
    "print('学習データ')\n",
    "print(train['CATEGORY'].value_counts())\n",
    "print('検証データ')\n",
    "print(valid['CATEGORY'].value_counts())\n",
    "print('評価データ')\n",
    "print(test['CATEGORY'].value_counts())"
   ]
  },
  {
   "cell_type": "code",
   "execution_count": 8,
   "id": "fossil-psychiatry",
   "metadata": {},
   "outputs": [
    {
     "data": {
      "text/plain": [
       "b    5627\n",
       "e    5279\n",
       "t    1524\n",
       "m     910\n",
       "Name: CATEGORY, dtype: int64"
      ]
     },
     "execution_count": 8,
     "metadata": {},
     "output_type": "execute_result"
    }
   ],
   "source": [
    "df_2['CATEGORY'].value_counts()"
   ]
  },
  {
   "cell_type": "markdown",
   "id": "precise-register",
   "metadata": {},
   "source": [
    "## 51. 特徴量抽出\n",
    "学習データ，検証データ，評価データから特徴量を抽出し，それぞれtrain.feature.txt，valid.feature.txt，test.feature.txtというファイル名で保存せよ． なお，カテゴリ分類に有用そうな特徴量は各自で自由に設計せよ．記事の見出しを単語列に変換したものが最低限のベースラインとなるであろう．"
   ]
  },
  {
   "cell_type": "code",
   "execution_count": 9,
   "id": "advised-memory",
   "metadata": {},
   "outputs": [],
   "source": [
    "from sklearn.feature_extraction.text import CountVectorizer\n",
    "import numpy as np\n",
    "\n",
    "vectorizer = CountVectorizer()\n",
    "X_train = vectorizer.fit_transform(train['TITLE'])\n",
    "X_valid = vectorizer.transform(valid['TITLE'])\n",
    "X_test = vectorizer.transform(test['TITLE'])"
   ]
  },
  {
   "cell_type": "code",
   "execution_count": 10,
   "id": "retained-bullet",
   "metadata": {},
   "outputs": [],
   "source": [
    "np.savetxt('./train.feature.txt', X_train.toarray(), fmt='%d')\n",
    "np.savetxt('./valid.feature.txt', X_valid.toarray(), fmt='%d')\n",
    "np.savetxt('./test.feature.txt', X_test.toarray(), fmt='%d')"
   ]
  },
  {
   "cell_type": "markdown",
   "id": "marine-creek",
   "metadata": {},
   "source": [
    "## 52. 学習\n",
    "51で構築した学習データを用いて，ロジスティック回帰モデルを学習せよ．"
   ]
  },
  {
   "cell_type": "code",
   "execution_count": 11,
   "id": "broken-mission",
   "metadata": {},
   "outputs": [],
   "source": [
    "from sklearn.linear_model import LogisticRegression"
   ]
  },
  {
   "cell_type": "code",
   "execution_count": 12,
   "id": "saved-shift",
   "metadata": {},
   "outputs": [
    {
     "data": {
      "text/plain": [
       "LogisticRegression(max_iter=10000, random_state=0)"
      ]
     },
     "execution_count": 12,
     "metadata": {},
     "output_type": "execute_result"
    }
   ],
   "source": [
    "logi = LogisticRegression(random_state=0, max_iter=10000)\n",
    "logi.fit(X_train, train['CATEGORY'])"
   ]
  },
  {
   "cell_type": "markdown",
   "id": "postal-wrestling",
   "metadata": {},
   "source": [
    "## 53. 予測\n",
    "52で学習したロジスティック回帰モデルを用い，与えられた記事見出しからカテゴリとその予測確率を計算するプログラムを実装せよ．"
   ]
  },
  {
   "cell_type": "code",
   "execution_count": 17,
   "id": "worldwide-billy",
   "metadata": {},
   "outputs": [],
   "source": [
    "def pred_score(x):\n",
    "    score = np.max(logi.predict_proba(x), axis=1)\n",
    "    pred = logi.predict(x)\n",
    "    return pred, score"
   ]
  },
  {
   "cell_type": "code",
   "execution_count": 18,
   "id": "electrical-valuation",
   "metadata": {},
   "outputs": [],
   "source": [
    "pred_tra, score_tra = pred_score(X_train)\n",
    "pred_tes, score_tes = pred_score(X_test)"
   ]
  },
  {
   "cell_type": "code",
   "execution_count": 20,
   "id": "virtual-stuff",
   "metadata": {},
   "outputs": [
    {
     "name": "stdout",
     "output_type": "stream",
     "text": [
      "['e' 'b' 'e' ... 'b' 'e' 'b']\n",
      "[0.99668918 0.62613973 0.99901699 ... 0.99196286 0.95074975 0.97821534]\n",
      "['b' 'b' 'b' ... 'b' 'e' 'e']\n",
      "[0.99447863 0.9925174  0.9450859  ... 0.41726868 0.99196724 0.68815939]\n"
     ]
    }
   ],
   "source": [
    "print(pred_tra)\n",
    "print(score_tra)\n",
    "print(pred_tes)\n",
    "print(score_tes)"
   ]
  },
  {
   "cell_type": "markdown",
   "id": "forty-pressure",
   "metadata": {},
   "source": [
    "## 54. 正解率の計測\n",
    "52で学習したロジスティック回帰モデルの正解率を，学習データおよび評価データ上で計測せよ．"
   ]
  },
  {
   "cell_type": "code",
   "execution_count": 23,
   "id": "objective-affiliation",
   "metadata": {},
   "outputs": [],
   "source": [
    "from sklearn.metrics import accuracy_score"
   ]
  },
  {
   "cell_type": "code",
   "execution_count": 25,
   "id": "sixth-basketball",
   "metadata": {},
   "outputs": [],
   "source": [
    "tra_accuracy = accuracy_score(train['CATEGORY'], pred_tra)"
   ]
  },
  {
   "cell_type": "code",
   "execution_count": 26,
   "id": "interracial-israel",
   "metadata": {},
   "outputs": [],
   "source": [
    "tes_accuracy = accuracy_score(test['CATEGORY'], pred_tes)"
   ]
  },
  {
   "cell_type": "code",
   "execution_count": 27,
   "id": "increased-prescription",
   "metadata": {},
   "outputs": [
    {
     "name": "stdout",
     "output_type": "stream",
     "text": [
      "学習データ 正解率：0.993\n",
      "評価データ 正解率：0.887\n"
     ]
    }
   ],
   "source": [
    "print(f'学習データ 正解率：{tra_accuracy:.3f}')\n",
    "print(f'評価データ 正解率：{tes_accuracy:.3f}')"
   ]
  },
  {
   "cell_type": "markdown",
   "id": "secondary-mitchell",
   "metadata": {},
   "source": [
    "## 55. 混同行列の作成\n",
    "52で学習したロジスティック回帰モデルの混同行列（confusion matrix）を，学習データおよび評価データ上で作成せよ．\n",
    "\n",
    "### 混同行列\n",
    "機械学習の評価指標\n",
    "\n",
    "![cm.png](cm.png)\n",
    "\n",
    "正解率：(TP+TN) / (TP+FN+FP+TN)\n",
    "\n",
    "検出率：TP / (TP+FN)\n",
    "\n",
    "精度：TP / (TP+FP)\n",
    "\n",
    "誤検出率：FP / (FP+TN)"
   ]
  },
  {
   "cell_type": "code",
   "execution_count": 28,
   "id": "failing-claim",
   "metadata": {},
   "outputs": [],
   "source": [
    "from sklearn.metrics import confusion_matrix\n",
    "import seaborn as sns\n",
    "import matplotlib.pyplot as plt"
   ]
  },
  {
   "cell_type": "code",
   "execution_count": 29,
   "id": "crude-purpose",
   "metadata": {},
   "outputs": [
    {
     "name": "stdout",
     "output_type": "stream",
     "text": [
      "[[4483    4    1   14]\n",
      " [  11 4212    0    0]\n",
      " [  11    3  711    3]\n",
      " [  26    4    0 1189]]\n"
     ]
    },
    {
     "data": {
      "image/png": "[encoded data removed]",
      "text/plain": [
       "<Figure size 432x288 with 2 Axes>"
      ]
     },
     "metadata": {
      "needs_background": "light"
     },
     "output_type": "display_data"
    }
   ],
   "source": [
    "# trainデータ\n",
    "train_cm = confusion_matrix(train['CATEGORY'], pred_tra)\n",
    "print(train_cm)\n",
    "sns.heatmap(train_cm, annot=True, cmap='Reds')\n",
    "plt.show()"
   ]
  },
  {
   "cell_type": "code",
   "execution_count": 31,
   "id": "organizational-letter",
   "metadata": {},
   "outputs": [
    {
     "name": "stdout",
     "output_type": "stream",
     "text": [
      "[[517  27   5  14]\n",
      " [ 14 506   3   5]\n",
      " [ 17  22  49   3]\n",
      " [ 23  17   1 111]]\n"
     ]
    },
    {
     "data": {
      "image/png": "[encoded data removed]",
      "text/plain": [
       "<Figure size 432x288 with 2 Axes>"
      ]
     },
     "metadata": {
      "needs_background": "light"
     },
     "output_type": "display_data"
    }
   ],
   "source": [
    "# testデータ\n",
    "test_cm = confusion_matrix(test['CATEGORY'], pred_tes)\n",
    "print(test_cm)\n",
    "sns.heatmap(test_cm, annot=True, cmap='Greens')\n",
    "plt.show()"
   ]
  }
 ],
 "metadata": {
  "kernelspec": {
   "display_name": "Python 3",
   "language": "python",
   "name": "python3"
  },
  "language_info": {
   "codemirror_mode": {
    "name": "ipython",
    "version": 3
   },
   "file_extension": ".py",
   "mimetype": "text/x-python",
   "name": "python",
   "nbconvert_exporter": "python",
   "pygments_lexer": "ipython3",
   "version": "3.9.1"
  }
 },
 "nbformat": 4,
 "nbformat_minor": 5
}
