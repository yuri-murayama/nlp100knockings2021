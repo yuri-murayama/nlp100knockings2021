{
 "cells": [
  {
   "cell_type": "markdown",
   "metadata": {},
   "source": [
    "# 70. 単語ベクトルの和による特徴量"
   ]
  },
  {
   "cell_type": "code",
   "execution_count": 1,
   "metadata": {},
   "outputs": [
    {
     "name": "stdout",
     "output_type": "stream",
     "text": [
      "【学習データ】\n",
      "b    4502\n",
      "e    4223\n",
      "t    1219\n",
      "m     728\n",
      "Name: CATEGORY, dtype: int64\n",
      "【検証データ】\n",
      "b    562\n",
      "e    528\n",
      "t    153\n",
      "m     91\n",
      "Name: CATEGORY, dtype: int64\n",
      "【評価データ】\n",
      "b    563\n",
      "e    528\n",
      "t    152\n",
      "m     91\n",
      "Name: CATEGORY, dtype: int64\n"
     ]
    }
   ],
   "source": [
    "import pandas as pd\n",
    "from sklearn.model_selection import train_test_split\n",
    "\n",
    "# データの読込\n",
    "df = pd.read_csv('newsCorpora.csv', header=None, sep='\\t', names=['ID', 'TITLE', 'URL', 'PUBLISHER', 'CATEGORY', 'STORY', 'HOSTNAME', 'TIMESTAMP'])\n",
    "\n",
    "# データの抽出\n",
    "df = df.loc[df['PUBLISHER'].isin(['Reuters', 'Huffington Post', 'Businessweek', 'Contactmusic.com', 'Daily Mail']), ['TITLE', 'CATEGORY']]\n",
    "\n",
    "# データの分割\n",
    "train, valid_test = train_test_split(df, test_size=0.2, shuffle=True, random_state=123, stratify=df['CATEGORY'])\n",
    "valid, test = train_test_split(valid_test, test_size=0.5, shuffle=True, random_state=123, stratify=valid_test['CATEGORY'])\n",
    "\n",
    "# 事例数の確認\n",
    "print('【学習データ】')\n",
    "print(train['CATEGORY'].value_counts())\n",
    "print('【検証データ】')\n",
    "print(valid['CATEGORY'].value_counts())\n",
    "print('【評価データ】')\n",
    "print(test['CATEGORY'].value_counts())"
   ]
  },
  {
   "cell_type": "code",
   "execution_count": 5,
   "metadata": {},
   "outputs": [],
   "source": [
    "from gensim.models import KeyedVectors\n",
    "model = KeyedVectors.load_word2vec_format('GoogleNews-vectors-negative300.bin', binary=True)"
   ]
  },
  {
   "cell_type": "code",
   "execution_count": 6,
   "metadata": {},
   "outputs": [],
   "source": [
    "import string\n",
    "import torch\n",
    "\n",
    "def transform_w2v(text):\n",
    "    table = str.maketrans(string.punctuation, ' '*len(string.punctuation)) #記号をスペースに置換\n",
    "    words = text.translate(table).split()  # スペースで分割してリスト化\n",
    "    vec = [model[word] for word in words if word in model]  # 1語ずつベクトル化\n",
    "\n",
    "    return torch.tensor(sum(vec) / len(vec))  # 平均ベクトルをTensor型に変換して出力"
   ]
  },
  {
   "cell_type": "code",
   "execution_count": 7,
   "metadata": {},
   "outputs": [
    {
     "name": "stdout",
     "output_type": "stream",
     "text": [
      "torch.Size([10672, 300])\n",
      "tensor([[-0.0170,  0.1318, -0.0728,  ...,  0.0395,  0.0223,  0.0184],\n",
      "        [-0.1119, -0.0523, -0.1002,  ...,  0.0319, -0.0237, -0.0425],\n",
      "        [-0.0636, -0.0228, -0.0005,  ..., -0.0280,  0.1057,  0.0396],\n",
      "        ...,\n",
      "        [ 0.0301, -0.0355, -0.0082,  ..., -0.0045,  0.0606, -0.0281],\n",
      "        [ 0.0002,  0.0442, -0.0424,  ..., -0.0507,  0.0283,  0.0365],\n",
      "        [ 0.0242,  0.0418,  0.1211,  ..., -0.0564,  0.0144,  0.0277]])\n"
     ]
    }
   ],
   "source": [
    "# 特徴ベクトルの作成\n",
    "X_train = torch.stack([transform_w2v(text) for text in train['TITLE']])\n",
    "X_valid = torch.stack([transform_w2v(text) for text in valid['TITLE']])\n",
    "X_test = torch.stack([transform_w2v(text) for text in test['TITLE']])\n",
    "\n",
    "print(X_train.size())\n",
    "print(X_train)"
   ]
  },
  {
   "cell_type": "code",
   "execution_count": 8,
   "metadata": {},
   "outputs": [
    {
     "name": "stdout",
     "output_type": "stream",
     "text": [
      "torch.Size([10672])\n",
      "tensor([0, 0, 0,  ..., 0, 2, 2])\n"
     ]
    }
   ],
   "source": [
    "# ラベルベクトルの作成\n",
    "category_dict = {'b': 0, 't': 1, 'e':2, 'm':3}\n",
    "y_train = torch.tensor(train['CATEGORY'].map(lambda x: category_dict[x]).values)\n",
    "y_valid = torch.tensor(valid['CATEGORY'].map(lambda x: category_dict[x]).values)\n",
    "y_test = torch.tensor(test['CATEGORY'].map(lambda x: category_dict[x]).values)\n",
    "\n",
    "print(y_train.size())\n",
    "print(y_train)"
   ]
  },
  {
   "cell_type": "code",
   "execution_count": 9,
   "metadata": {},
   "outputs": [],
   "source": [
    "# ファイルに保存\n",
    "torch.save(X_train, 'X_train.pt')\n",
    "torch.save(X_valid, 'X_valid.pt')\n",
    "torch.save(X_test, 'X_test.pt')\n",
    "torch.save(y_train, 'y_train.pt')\n",
    "torch.save(y_valid, 'y_valid.pt')\n",
    "torch.save(y_test, 'y_test.pt')"
   ]
  },
  {
   "cell_type": "markdown",
   "metadata": {},
   "source": [
    "# 71. 単層ニューラルネットワークによる予測"
   ]
  },
  {
   "cell_type": "code",
   "execution_count": 10,
   "metadata": {},
   "outputs": [],
   "source": [
    "from torch import nn\n",
    "\n",
    "class SLPNet(nn.Module):\n",
    "    def __init__(self, input_size, output_size):\n",
    "        super().__init__()\n",
    "        self.fc = nn.Linear(input_size, output_size, bias=False)\n",
    "        nn.init.normal_(self.fc.weight, 0.0, 1.0)  \n",
    "\n",
    "    def forward(self, x):\n",
    "        x = self.fc(x)\n",
    "        return x"
   ]
  },
  {
   "cell_type": "code",
   "execution_count": 11,
   "metadata": {},
   "outputs": [
    {
     "name": "stdout",
     "output_type": "stream",
     "text": [
      "tensor([[3.5117e-02, 4.0947e-04, 9.5745e-01, 7.0186e-03]],\n",
      "       grad_fn=<SoftmaxBackward>)\n"
     ]
    }
   ],
   "source": [
    "model = SLPNet(300, 4)  # 単層ニューラルネットワークの初期化\n",
    "y_hat_1 = torch.softmax(model(X_train[:1]), dim=-1)\n",
    "print(y_hat_1)"
   ]
  },
  {
   "cell_type": "code",
   "execution_count": 12,
   "metadata": {},
   "outputs": [
    {
     "name": "stdout",
     "output_type": "stream",
     "text": [
      "tensor([[3.5117e-02, 4.0947e-04, 9.5745e-01, 7.0186e-03],\n",
      "        [9.4870e-03, 8.6065e-01, 9.4553e-02, 3.5306e-02],\n",
      "        [8.2991e-02, 9.1011e-02, 4.9685e-01, 3.2914e-01],\n",
      "        [1.5800e-01, 4.5089e-01, 1.8030e-01, 2.1081e-01]],\n",
      "       grad_fn=<SoftmaxBackward>)\n"
     ]
    }
   ],
   "source": [
    "Y_hat = torch.softmax(model.forward(X_train[:4]), dim=-1)\n",
    "print(Y_hat)"
   ]
  },
  {
   "cell_type": "markdown",
   "metadata": {},
   "source": [
    "# 72. 損失と勾配の計算"
   ]
  },
  {
   "cell_type": "code",
   "execution_count": 14,
   "metadata": {},
   "outputs": [
    {
     "name": "stdout",
     "output_type": "stream",
     "text": [
      "損失: 3.3491\n",
      "勾配:\n",
      "tensor([[ 1.6365e-02, -1.2713e-01,  7.0199e-02,  ..., -3.8103e-02,\n",
      "         -2.1496e-02, -1.7710e-02],\n",
      "        [-6.9447e-06,  5.3952e-05, -2.9791e-05,  ...,  1.6170e-05,\n",
      "          9.1222e-06,  7.5156e-06],\n",
      "        [-1.6239e-02,  1.2615e-01, -6.9659e-02,  ...,  3.7810e-02,\n",
      "          2.1330e-02,  1.7574e-02],\n",
      "        [-1.1904e-04,  9.2476e-04, -5.1063e-04,  ...,  2.7716e-04,\n",
      "          1.5636e-04,  1.2882e-04]])\n"
     ]
    }
   ],
   "source": [
    "criterion = nn.CrossEntropyLoss()\n",
    "\n",
    "l_1 = criterion(model(X_train[:1]), y_train[:1])  # 入力ベクトルはsoftmax前の値\n",
    "model.zero_grad()  # 勾配をゼロで初期化\n",
    "l_1.backward()  # 勾配を計算\n",
    "print(f'損失: {l_1:.4f}')\n",
    "print(f'勾配:\\n{model.fc.weight.grad}')"
   ]
  },
  {
   "cell_type": "code",
   "execution_count": 15,
   "metadata": {},
   "outputs": [
    {
     "name": "stdout",
     "output_type": "stream",
     "text": [
      "損失: 3.0853\n",
      "勾配:\n",
      "tensor([[ 0.0522, -0.0449,  0.0438,  ..., -0.0116, -0.0216, -0.0039],\n",
      "        [-0.0286,  0.0050, -0.0223,  ...,  0.0065, -0.0038, -0.0077],\n",
      "        [-0.0159,  0.0342, -0.0201,  ...,  0.0069,  0.0174,  0.0085],\n",
      "        [-0.0077,  0.0057, -0.0014,  ..., -0.0018,  0.0080,  0.0031]])\n"
     ]
    }
   ],
   "source": [
    "l = criterion(model(X_train[:4]), y_train[:4])\n",
    "model.zero_grad()\n",
    "l.backward()\n",
    "print(f'損失: {l:.4f}')\n",
    "print(f'勾配:\\n{model.fc.weight.grad}')"
   ]
  },
  {
   "cell_type": "markdown",
   "metadata": {},
   "source": [
    "# 73. 確率的勾配降下法による学習\n",
    "確率的勾配降下法（SGD: Stochastic Gradient Descent）を用いて，行列W\n",
    "を学習せよ．なお，学習は適当な基準で終了させればよい（例えば「100エポックで終了」など）．"
   ]
  },
  {
   "cell_type": "code",
   "execution_count": 16,
   "metadata": {},
   "outputs": [],
   "source": [
    "from torch.utils.data import Dataset\n",
    "\n",
    "class NewsDataset(Dataset):\n",
    "    def __init__(self, X, y):  # datasetの構成要素を指定\n",
    "        self.X = X\n",
    "        self.y = y\n",
    "\n",
    "    def __len__(self):  # len(dataset)で返す値を指定\n",
    "        return len(self.y)\n",
    "\n",
    "    def __getitem__(self, idx):  # dataset[idx]で返す値を指定\n",
    "        return [self.X[idx], self.y[idx]]"
   ]
  },
  {
   "cell_type": "code",
   "execution_count": 18,
   "metadata": {},
   "outputs": [],
   "source": [
    "from torch.utils.data import DataLoader\n",
    "\n",
    "# Datasetの作成\n",
    "dataset_train = NewsDataset(X_train, y_train)\n",
    "dataset_valid = NewsDataset(X_valid, y_valid)\n",
    "dataset_test = NewsDataset(X_test, y_test)\n",
    "\n",
    "# Dataloaderの作成\n",
    "dataloader_train = DataLoader(dataset_train, batch_size=1, shuffle=True)\n",
    "dataloader_valid = DataLoader(dataset_valid, batch_size=len(dataset_valid), shuffle=False)\n",
    "dataloader_test = DataLoader(dataset_test, batch_size=len(dataset_test), shuffle=False)"
   ]
  },
  {
   "cell_type": "code",
   "execution_count": 19,
   "metadata": {},
   "outputs": [
    {
     "name": "stdout",
     "output_type": "stream",
     "text": [
      "epoch: 1, loss_train: 0.4810, loss_valid: 0.3630\n",
      "epoch: 2, loss_train: 0.3227, loss_valid: 0.3119\n",
      "epoch: 3, loss_train: 0.2920, loss_valid: 0.2949\n",
      "epoch: 4, loss_train: 0.2766, loss_valid: 0.2934\n",
      "epoch: 5, loss_train: 0.2651, loss_valid: 0.2799\n",
      "epoch: 6, loss_train: 0.2579, loss_valid: 0.2753\n",
      "epoch: 7, loss_train: 0.2523, loss_valid: 0.2722\n",
      "epoch: 8, loss_train: 0.2475, loss_valid: 0.2724\n",
      "epoch: 9, loss_train: 0.2440, loss_valid: 0.2732\n",
      "epoch: 10, loss_train: 0.2408, loss_valid: 0.2714\n"
     ]
    }
   ],
   "source": [
    "# モデルの定義\n",
    "model = SLPNet(300, 4)\n",
    "\n",
    "# 損失関数の定義\n",
    "criterion = nn.CrossEntropyLoss()\n",
    "\n",
    "# オプティマイザの定義\n",
    "optimizer = torch.optim.SGD(model.parameters(), lr=1e-1)\n",
    "\n",
    "# 学習\n",
    "num_epochs = 10\n",
    "\n",
    "for epoch in range(num_epochs):\n",
    "\n",
    "    model.train()\n",
    "    loss_train = 0.0\n",
    "    for i, (inputs, labels) in enumerate(dataloader_train):\n",
    "    # 勾配をゼロで初期化\n",
    "        optimizer.zero_grad()\n",
    "\n",
    "    # 順伝播 + 誤差逆伝播 + 重み更新\n",
    "        outputs = model(inputs)\n",
    "        loss = criterion(outputs, labels)\n",
    "        loss.backward()\n",
    "        optimizer.step()\n",
    "\n",
    "    # 損失を記録\n",
    "        loss_train += loss.item()\n",
    "\n",
    "  # バッチ単位の平均損失計算\n",
    "    loss_train = loss_train / i\n",
    "\n",
    "  # 検証データの損失計算\n",
    "    model.eval() \n",
    "    with torch.no_grad():\n",
    "        inputs, labels = next(iter(dataloader_valid))\n",
    "        outputs = model(inputs)\n",
    "        loss_valid = criterion(outputs, labels)\n",
    "\n",
    "  # ログを出力\n",
    "    print(f'epoch: {epoch + 1}, loss_train: {loss_train:.4f}, loss_valid: {loss_valid:.4f}')  "
   ]
  },
  {
   "cell_type": "markdown",
   "metadata": {},
   "source": [
    "# 74. 正解率の計測\n",
    "問題73で求めた行列を用いて学習データおよび評価データの事例を分類したとき，その正解率をそれぞれ求めよ．"
   ]
  },
  {
   "cell_type": "code",
   "execution_count": 20,
   "metadata": {},
   "outputs": [],
   "source": [
    "def calculate_accuracy(model, loader):\n",
    "    model.eval()\n",
    "    total = 0\n",
    "    correct = 0\n",
    "    with torch.no_grad():\n",
    "        for inputs, labels in loader:\n",
    "            outputs = model(inputs)\n",
    "            pred = torch.argmax(outputs, dim=-1)\n",
    "            total += len(inputs)\n",
    "            correct += (pred == labels).sum().item()\n",
    "\n",
    "    return correct / total"
   ]
  },
  {
   "cell_type": "code",
   "execution_count": 21,
   "metadata": {},
   "outputs": [
    {
     "name": "stdout",
     "output_type": "stream",
     "text": [
      "正解率（学習データ）：0.922\n",
      "正解率（評価データ）：0.913\n"
     ]
    }
   ],
   "source": [
    "acc_train = calculate_accuracy(model, dataloader_train)\n",
    "acc_test = calculate_accuracy(model, dataloader_test)\n",
    "print(f'正解率（学習データ）：{acc_train:.3f}')\n",
    "print(f'正解率（評価データ）：{acc_test:.3f}')"
   ]
  },
  {
   "cell_type": "markdown",
   "metadata": {},
   "source": [
    "# 75. 損失と正解率のプロット\n",
    "問題73のコードを改変し，各エポックのパラメータ更新が完了するたびに，訓練データでの損失，正解率，検証データでの損失，正解率をグラフにプロットし，学習の進捗状況を確認できるようにせよ．"
   ]
  },
  {
   "cell_type": "code",
   "execution_count": 22,
   "metadata": {},
   "outputs": [],
   "source": [
    "def calculate_loss_and_accuracy(model, criterion, loader):\n",
    "    model.eval()\n",
    "    loss = 0.0\n",
    "    total = 0\n",
    "    correct = 0\n",
    "    with torch.no_grad():\n",
    "        for inputs, labels in loader:\n",
    "            outputs = model(inputs)\n",
    "            loss += criterion(outputs, labels).item()\n",
    "            pred = torch.argmax(outputs, dim=-1)\n",
    "            total += len(inputs)\n",
    "            correct += (pred == labels).sum().item()\n",
    "\n",
    "    return loss / len(loader), correct / total"
   ]
  },
  {
   "cell_type": "code",
   "execution_count": 23,
   "metadata": {},
   "outputs": [
    {
     "name": "stdout",
     "output_type": "stream",
     "text": [
      "epoch: 1, loss_train: 0.3337, accuracy_train: 0.8856, loss_valid: 0.3532, accuracy_valid: 0.8771\n",
      "epoch: 2, loss_train: 0.2949, accuracy_train: 0.8997, loss_valid: 0.3197, accuracy_valid: 0.8906\n",
      "epoch: 3, loss_train: 0.2725, accuracy_train: 0.9079, loss_valid: 0.2978, accuracy_valid: 0.8996\n",
      "epoch: 4, loss_train: 0.2604, accuracy_train: 0.9109, loss_valid: 0.2886, accuracy_valid: 0.8988\n",
      "epoch: 5, loss_train: 0.2519, accuracy_train: 0.9139, loss_valid: 0.2813, accuracy_valid: 0.9055\n",
      "epoch: 6, loss_train: 0.2483, accuracy_train: 0.9135, loss_valid: 0.2808, accuracy_valid: 0.8996\n",
      "epoch: 7, loss_train: 0.2477, accuracy_train: 0.9148, loss_valid: 0.2786, accuracy_valid: 0.9010\n",
      "epoch: 8, loss_train: 0.2361, accuracy_train: 0.9187, loss_valid: 0.2724, accuracy_valid: 0.9063\n",
      "epoch: 9, loss_train: 0.2332, accuracy_train: 0.9192, loss_valid: 0.2708, accuracy_valid: 0.9033\n",
      "epoch: 10, loss_train: 0.2301, accuracy_train: 0.9205, loss_valid: 0.2696, accuracy_valid: 0.9085\n",
      "epoch: 11, loss_train: 0.2303, accuracy_train: 0.9199, loss_valid: 0.2700, accuracy_valid: 0.9078\n",
      "epoch: 12, loss_train: 0.2278, accuracy_train: 0.9224, loss_valid: 0.2716, accuracy_valid: 0.9063\n",
      "epoch: 13, loss_train: 0.2261, accuracy_train: 0.9209, loss_valid: 0.2688, accuracy_valid: 0.9108\n",
      "epoch: 14, loss_train: 0.2261, accuracy_train: 0.9239, loss_valid: 0.2747, accuracy_valid: 0.9093\n",
      "epoch: 15, loss_train: 0.2263, accuracy_train: 0.9215, loss_valid: 0.2701, accuracy_valid: 0.9108\n",
      "epoch: 16, loss_train: 0.2217, accuracy_train: 0.9234, loss_valid: 0.2701, accuracy_valid: 0.9078\n",
      "epoch: 17, loss_train: 0.2226, accuracy_train: 0.9242, loss_valid: 0.2750, accuracy_valid: 0.9063\n",
      "epoch: 18, loss_train: 0.2195, accuracy_train: 0.9245, loss_valid: 0.2686, accuracy_valid: 0.9085\n",
      "epoch: 19, loss_train: 0.2202, accuracy_train: 0.9237, loss_valid: 0.2720, accuracy_valid: 0.9070\n",
      "epoch: 20, loss_train: 0.2198, accuracy_train: 0.9233, loss_valid: 0.2714, accuracy_valid: 0.9085\n",
      "epoch: 21, loss_train: 0.2196, accuracy_train: 0.9265, loss_valid: 0.2744, accuracy_valid: 0.9138\n",
      "epoch: 22, loss_train: 0.2168, accuracy_train: 0.9244, loss_valid: 0.2714, accuracy_valid: 0.9100\n",
      "epoch: 23, loss_train: 0.2194, accuracy_train: 0.9240, loss_valid: 0.2781, accuracy_valid: 0.9063\n",
      "epoch: 24, loss_train: 0.2150, accuracy_train: 0.9267, loss_valid: 0.2738, accuracy_valid: 0.9115\n",
      "epoch: 25, loss_train: 0.2165, accuracy_train: 0.9258, loss_valid: 0.2768, accuracy_valid: 0.9100\n",
      "epoch: 26, loss_train: 0.2167, accuracy_train: 0.9253, loss_valid: 0.2760, accuracy_valid: 0.9055\n",
      "epoch: 27, loss_train: 0.2152, accuracy_train: 0.9268, loss_valid: 0.2740, accuracy_valid: 0.9115\n",
      "epoch: 28, loss_train: 0.2189, accuracy_train: 0.9244, loss_valid: 0.2833, accuracy_valid: 0.9070\n",
      "epoch: 29, loss_train: 0.2129, accuracy_train: 0.9265, loss_valid: 0.2745, accuracy_valid: 0.9085\n",
      "epoch: 30, loss_train: 0.2138, accuracy_train: 0.9271, loss_valid: 0.2752, accuracy_valid: 0.9123\n"
     ]
    }
   ],
   "source": [
    "# モデルの定義\n",
    "model = SLPNet(300, 4)\n",
    "\n",
    "# 損失関数の定義\n",
    "criterion = nn.CrossEntropyLoss()\n",
    "\n",
    "# オプティマイザの定義\n",
    "optimizer = torch.optim.SGD(model.parameters(), lr=1e-1)\n",
    "\n",
    "# 学習\n",
    "num_epochs = 30\n",
    "\n",
    "log_train = []\n",
    "log_valid = []\n",
    "\n",
    "for epoch in range(num_epochs):\n",
    "\n",
    "    model.train()\n",
    "    for i, (inputs, labels) in enumerate(dataloader_train):\n",
    "    # 勾配をゼロで初期化\n",
    "        optimizer.zero_grad()\n",
    "\n",
    "    # 順伝播 + 誤差逆伝播 + 重み更新\n",
    "        outputs = model(inputs)\n",
    "        loss = criterion(outputs, labels)\n",
    "        loss.backward()\n",
    "        optimizer.step()\n",
    "\n",
    "    # 損失と正解率の算出\n",
    "    loss_train, acc_train = calculate_loss_and_accuracy(model, criterion, dataloader_train)\n",
    "    loss_valid, acc_valid = calculate_loss_and_accuracy(model, criterion, dataloader_valid)\n",
    "    log_train.append([loss_train, acc_train])\n",
    "    log_valid.append([loss_valid, acc_valid])\n",
    "\n",
    "  # ログを出力\n",
    "    print(f'epoch: {epoch + 1}, loss_train: {loss_train:.4f}, accuracy_train: {acc_train:.4f}, loss_valid: {loss_valid:.4f}, accuracy_valid: {acc_valid:.4f}')  "
   ]
  },
  {
   "cell_type": "code",
   "execution_count": 24,
   "metadata": {},
   "outputs": [
    {
     "data": {
      "image/png": "[encoded data removed]",
      "text/plain": [
       "<Figure size 1080x360 with 2 Axes>"
      ]
     },
     "metadata": {
      "needs_background": "light"
     },
     "output_type": "display_data"
    }
   ],
   "source": [
    "from matplotlib import pyplot as plt\n",
    "\n",
    "# グラフ化\n",
    "fig, ax = plt.subplots(1, 2, figsize=(15, 5))\n",
    "ax[0].plot(np.array(log_train).T[0], label='train')\n",
    "ax[0].plot(np.array(log_valid).T[0], label='valid')\n",
    "ax[0].set_xlabel('epoch')\n",
    "ax[0].set_ylabel('loss')\n",
    "ax[0].legend()\n",
    "ax[1].plot(np.array(log_train).T[1], label='train')\n",
    "ax[1].plot(np.array(log_valid).T[1], label='valid')\n",
    "ax[1].set_xlabel('epoch')\n",
    "ax[1].set_ylabel('accuracy')\n",
    "ax[1].legend()\n",
    "plt.show()"
   ]
  },
  {
   "cell_type": "code",
   "execution_count": null,
   "metadata": {},
   "outputs": [],
   "source": []
  }
 ],
 "metadata": {
  "kernelspec": {
   "display_name": "Python 3",
   "language": "python",
   "name": "python3"
  },
  "language_info": {
   "codemirror_mode": {
    "name": "ipython",
    "version": 3
   },
   "file_extension": ".py",
   "mimetype": "text/x-python",
   "name": "python",
   "nbconvert_exporter": "python",
   "pygments_lexer": "ipython3",
   "version": "3.7.6"
  }
 },
 "nbformat": 4,
 "nbformat_minor": 4
}
