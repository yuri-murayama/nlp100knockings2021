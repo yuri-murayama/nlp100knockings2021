{
  "nbformat": 4,
  "nbformat_minor": 0,
  "metadata": {
    "accelerator": "GPU",
    "colab": {
      "name": "ch08.ipynb",
      "provenance": [],
      "collapsed_sections": []
    },
    "kernelspec": {
      "display_name": "Python 3",
      "name": "python3"
    },
    "language_info": {
      "name": "python"
    }
  },
  "cells": [
    {
      "cell_type": "markdown",
      "metadata": {
        "id": "Qik2suoGEgwO"
      },
      "source": [
        "#70. 単語ベクトルの和による特徴量"
      ]
    },
    {
      "cell_type": "code",
      "metadata": {
        "colab": {
          "base_uri": "https://localhost:8080/"
        },
        "id": "jkxDzkA2DGzg",
        "outputId": "f5416b8e-3584-4739-d45c-934a80a134c7"
      },
      "source": [
        "import pandas as pd\n",
        "from sklearn.model_selection import train_test_split\n",
        "\n",
        "# データの読込\n",
        "df = pd.read_csv('/content/drive/MyDrive/newsCorpora.csv', header=None, sep='\\t', names=['ID', 'TITLE', 'URL', 'PUBLISHER', 'CATEGORY', 'STORY', 'HOSTNAME', 'TIMESTAMP'])\n",
        "\n",
        "# データの抽出\n",
        "df = df.loc[df['PUBLISHER'].isin(['Reuters', 'Huffington Post', 'Businessweek', 'Contactmusic.com', 'Daily Mail']), ['TITLE', 'CATEGORY']]\n",
        "\n",
        "# データの分割\n",
        "train, valid_test = train_test_split(df, test_size=0.2, shuffle=True, random_state=123, stratify=df['CATEGORY'])\n",
        "valid, test = train_test_split(valid_test, test_size=0.5, shuffle=True, random_state=123, stratify=valid_test['CATEGORY'])\n",
        "\n",
        "# 事例数の確認\n",
        "print('【学習データ】')\n",
        "print(train['CATEGORY'].value_counts())\n",
        "print('【検証データ】')\n",
        "print(valid['CATEGORY'].value_counts())\n",
        "print('【評価データ】')\n",
        "print(test['CATEGORY'].value_counts())"
      ],
      "execution_count": null,
      "outputs": [
        {
          "output_type": "stream",
          "text": [
            "【学習データ】\n",
            "b    4502\n",
            "e    4223\n",
            "t    1219\n",
            "m     728\n",
            "Name: CATEGORY, dtype: int64\n",
            "【検証データ】\n",
            "b    562\n",
            "e    528\n",
            "t    153\n",
            "m     91\n",
            "Name: CATEGORY, dtype: int64\n",
            "【評価データ】\n",
            "b    563\n",
            "e    528\n",
            "t    152\n",
            "m     91\n",
            "Name: CATEGORY, dtype: int64\n"
          ],
          "name": "stdout"
        }
      ]
    },
    {
      "cell_type": "code",
      "metadata": {
        "colab": {
          "background_save": true
        },
        "id": "H_kD28kpEE7q"
      },
      "source": [
        "from gensim.models import KeyedVectors\n",
        "model = KeyedVectors.load_word2vec_format('/content/drive/MyDrive/GoogleNews-vectors-negative300.bin', binary=True)"
      ],
      "execution_count": null,
      "outputs": []
    },
    {
      "cell_type": "code",
      "metadata": {
        "id": "DXJGKhCOELO-"
      },
      "source": [
        "import string\n",
        "import torch\n",
        "\n",
        "def transform_w2v(text):\n",
        "    table = str.maketrans(string.punctuation, ' '*len(string.punctuation)) #記号をスペースに置換\n",
        "    words = text.translate(table).split()  # スペースで分割してリスト化\n",
        "    vec = [model[word] for word in words if word in model]  # 1語ずつベクトル化\n",
        "\n",
        "    return torch.tensor(sum(vec) / len(vec))  # 平均ベクトルをTensor型に変換して出力"
      ],
      "execution_count": 3,
      "outputs": []
    },
    {
      "cell_type": "code",
      "metadata": {
        "id": "eb6bQq9hESK-",
        "colab": {
          "base_uri": "https://localhost:8080/"
        },
        "outputId": "fa3ad3cd-d752-4246-bb48-ab1f50fe5d87"
      },
      "source": [
        "# 特徴ベクトルの作成\n",
        "X_train = torch.stack([transform_w2v(text) for text in train['TITLE']])\n",
        "X_valid = torch.stack([transform_w2v(text) for text in valid['TITLE']])\n",
        "X_test = torch.stack([transform_w2v(text) for text in test['TITLE']])\n",
        "\n",
        "print(X_train.size())\n",
        "print(X_train)"
      ],
      "execution_count": 4,
      "outputs": [
        {
          "output_type": "stream",
          "text": [
            "torch.Size([10672, 300])\n",
            "tensor([[-0.0170,  0.1318, -0.0728,  ...,  0.0395,  0.0223,  0.0184],\n",
            "        [-0.1119, -0.0523, -0.1002,  ...,  0.0319, -0.0237, -0.0425],\n",
            "        [-0.0636, -0.0228, -0.0005,  ..., -0.0280,  0.1057,  0.0396],\n",
            "        ...,\n",
            "        [ 0.0301, -0.0355, -0.0082,  ..., -0.0045,  0.0606, -0.0281],\n",
            "        [ 0.0002,  0.0442, -0.0424,  ..., -0.0507,  0.0283,  0.0365],\n",
            "        [ 0.0242,  0.0418,  0.1211,  ..., -0.0564,  0.0144,  0.0277]])\n"
          ],
          "name": "stdout"
        }
      ]
    },
    {
      "cell_type": "code",
      "metadata": {
        "id": "TM8JiyraEUrA",
        "colab": {
          "base_uri": "https://localhost:8080/"
        },
        "outputId": "fe63a917-c37a-430f-a8b0-ac1f7f7835ce"
      },
      "source": [
        "# ラベルベクトルの作成\n",
        "category_dict = {'b': 0, 't': 1, 'e':2, 'm':3}\n",
        "y_train = torch.tensor(train['CATEGORY'].map(lambda x: category_dict[x]).values)\n",
        "y_valid = torch.tensor(valid['CATEGORY'].map(lambda x: category_dict[x]).values)\n",
        "y_test = torch.tensor(test['CATEGORY'].map(lambda x: category_dict[x]).values)\n",
        "\n",
        "print(y_train.size())\n",
        "print(y_train)"
      ],
      "execution_count": 5,
      "outputs": [
        {
          "output_type": "stream",
          "text": [
            "torch.Size([10672])\n",
            "tensor([0, 0, 0,  ..., 0, 2, 2])\n"
          ],
          "name": "stdout"
        }
      ]
    },
    {
      "cell_type": "code",
      "metadata": {
        "id": "41t5HfeOEW6l"
      },
      "source": [
        "# ファイルに保存\n",
        "torch.save(X_train, 'X_train.pt')\n",
        "torch.save(X_valid, 'X_valid.pt')\n",
        "torch.save(X_test, 'X_test.pt')\n",
        "torch.save(y_train, 'y_train.pt')\n",
        "torch.save(y_valid, 'y_valid.pt')\n",
        "torch.save(y_test, 'y_test.pt')"
      ],
      "execution_count": 6,
      "outputs": []
    },
    {
      "cell_type": "markdown",
      "metadata": {
        "id": "jebZPNGcEbZ_"
      },
      "source": [
        "#71. 単層ニューラルネットワークによる予測"
      ]
    },
    {
      "cell_type": "code",
      "metadata": {
        "id": "fI7UFQ7JEZVX"
      },
      "source": [
        "from torch import nn\n",
        "\n",
        "class SLPNet(nn.Module):\n",
        "    def __init__(self, input_size, output_size):\n",
        "        super().__init__()\n",
        "        self.fc = nn.Linear(input_size, output_size, bias=False)\n",
        "        nn.init.normal_(self.fc.weight, 0.0, 1.0)  # 正規乱数で重みを初期化\n",
        "\n",
        "    def forward(self, x):\n",
        "        x = self.fc(x)\n",
        "        return x"
      ],
      "execution_count": 7,
      "outputs": []
    },
    {
      "cell_type": "code",
      "metadata": {
        "id": "f5nEg9KqE1MF",
        "colab": {
          "base_uri": "https://localhost:8080/"
        },
        "outputId": "31848065-2339-4c77-ecdf-b41c34a045b9"
      },
      "source": [
        "model = SLPNet(300, 4)  # 単層ニューラルネットワークの初期化\n",
        "y_hat_1 = torch.softmax(model(X_train[:1]), dim=-1)\n",
        "print(y_hat_1)"
      ],
      "execution_count": 8,
      "outputs": [
        {
          "output_type": "stream",
          "text": [
            "tensor([[2.0723e-02, 4.8322e-01, 4.9574e-01, 3.1792e-04]],\n",
            "       grad_fn=<SoftmaxBackward>)\n"
          ],
          "name": "stdout"
        }
      ]
    },
    {
      "cell_type": "code",
      "metadata": {
        "id": "EddW39eCE2xo",
        "colab": {
          "base_uri": "https://localhost:8080/"
        },
        "outputId": "6b651f0b-beb2-4307-aeaa-6e473c010d3a"
      },
      "source": [
        "Y_hat = torch.softmax(model.forward(X_train[:4]), dim=-1)\n",
        "print(Y_hat)"
      ],
      "execution_count": 9,
      "outputs": [
        {
          "output_type": "stream",
          "text": [
            "tensor([[2.0723e-02, 4.8322e-01, 4.9574e-01, 3.1792e-04],\n",
            "        [7.2529e-03, 9.4215e-01, 3.9119e-02, 1.1475e-02],\n",
            "        [7.8852e-02, 8.5389e-01, 5.8620e-02, 8.6424e-03],\n",
            "        [2.6431e-01, 5.5378e-01, 1.2820e-01, 5.3706e-02]],\n",
            "       grad_fn=<SoftmaxBackward>)\n"
          ],
          "name": "stdout"
        }
      ]
    },
    {
      "cell_type": "markdown",
      "metadata": {
        "id": "vds41diTE7Cc"
      },
      "source": [
        "#72. 損失と勾配の計算"
      ]
    },
    {
      "cell_type": "code",
      "metadata": {
        "id": "sBbaybmBE5Mk",
        "colab": {
          "base_uri": "https://localhost:8080/"
        },
        "outputId": "8bc530a0-9c7d-4450-ef5b-0d85312142c0"
      },
      "source": [
        "criterion = nn.CrossEntropyLoss()\n",
        "\n",
        "l_1 = criterion(model(X_train[:1]), y_train[:1])  # 入力ベクトルはsoftmax前の値\n",
        "model.zero_grad()  # 勾配をゼロで初期化\n",
        "l_1.backward()  # 勾配を計算\n",
        "print(f'損失: {l_1:.4f}')\n",
        "print(f'勾配:\\n{model.fc.weight.grad}')"
      ],
      "execution_count": 10,
      "outputs": [
        {
          "output_type": "stream",
          "text": [
            "損失: 3.8765\n",
            "勾配:\n",
            "tensor([[ 1.6609e-02, -1.2903e-01,  7.1246e-02,  ..., -3.8671e-02,\n",
            "         -2.1816e-02, -1.7974e-02],\n",
            "        [-8.1954e-03,  6.3669e-02, -3.5156e-02,  ...,  1.9082e-02,\n",
            "          1.0765e-02,  8.8692e-03],\n",
            "        [-8.4079e-03,  6.5319e-02, -3.6067e-02,  ...,  1.9577e-02,\n",
            "          1.1044e-02,  9.0991e-03],\n",
            "        [-5.3921e-06,  4.1890e-05, -2.3130e-05,  ...,  1.2555e-05,\n",
            "          7.0827e-06,  5.8353e-06]])\n"
          ],
          "name": "stdout"
        }
      ]
    },
    {
      "cell_type": "code",
      "metadata": {
        "id": "pE25F46iE-Lw",
        "colab": {
          "base_uri": "https://localhost:8080/"
        },
        "outputId": "2a9c209f-6751-43dc-9b30-4209c749421e"
      },
      "source": [
        "l = criterion(model(X_train[:4]), y_train[:4])\n",
        "model.zero_grad()\n",
        "l.backward()\n",
        "print(f'損失: {l:.4f}')\n",
        "print(f'勾配:\\n{model.fc.weight.grad}')"
      ],
      "execution_count": 11,
      "outputs": [
        {
          "output_type": "stream",
          "text": [
            "損失: 3.1684\n",
            "勾配:\n",
            "tensor([[ 5.1665e-02, -4.1399e-02,  4.3919e-02,  ..., -1.1632e-02,\n",
            "         -2.2042e-02, -3.8711e-03],\n",
            "        [-4.5819e-02,  1.9335e-02, -3.3342e-02,  ...,  6.6827e-03,\n",
            "          1.8265e-02,  1.2697e-03],\n",
            "        [-5.0148e-03,  2.0255e-02, -1.0200e-02,  ...,  4.8802e-03,\n",
            "          3.7520e-03,  2.5783e-03],\n",
            "        [-8.3091e-04,  1.8097e-03, -3.7671e-04,  ...,  6.9303e-05,\n",
            "          2.5548e-05,  2.3109e-05]])\n"
          ],
          "name": "stdout"
        }
      ]
    },
    {
      "cell_type": "markdown",
      "metadata": {
        "id": "Ous3Q4eLFBzY"
      },
      "source": [
        "#73. 確率的勾配降下法による学習\n",
        "確率的勾配降下法（SGD: Stochastic Gradient Descent）を用いて，行列W を学習せよ．なお，学習は適当な基準で終了させればよい（例えば「100エポックで終了」など）．"
      ]
    },
    {
      "cell_type": "code",
      "metadata": {
        "id": "Nb7x-Mj_E__m"
      },
      "source": [
        "from torch.utils.data import Dataset\n",
        "\n",
        "class NewsDataset(Dataset):\n",
        "    def __init__(self, X, y):  # datasetの構成要素を指定\n",
        "        self.X = X\n",
        "        self.y = y\n",
        "\n",
        "    def __len__(self):  # len(dataset)で返す値を指定\n",
        "        return len(self.y)\n",
        "\n",
        "    def __getitem__(self, idx):  # dataset[idx]で返す値を指定\n",
        "        return [self.X[idx], self.y[idx]]"
      ],
      "execution_count": 12,
      "outputs": []
    },
    {
      "cell_type": "code",
      "metadata": {
        "id": "_yATOIj4FGye"
      },
      "source": [
        "from torch.utils.data import DataLoader\n",
        "\n",
        "# Datasetの作成\n",
        "dataset_train = NewsDataset(X_train, y_train)\n",
        "dataset_valid = NewsDataset(X_valid, y_valid)\n",
        "dataset_test = NewsDataset(X_test, y_test)\n",
        "\n",
        "# Dataloaderの作成\n",
        "dataloader_train = DataLoader(dataset_train, batch_size=1, shuffle=True)\n",
        "dataloader_valid = DataLoader(dataset_valid, batch_size=len(dataset_valid), shuffle=False)\n",
        "dataloader_test = DataLoader(dataset_test, batch_size=len(dataset_test), shuffle=False)"
      ],
      "execution_count": 13,
      "outputs": []
    },
    {
      "cell_type": "code",
      "metadata": {
        "id": "qvcwx7h5FIkj",
        "colab": {
          "base_uri": "https://localhost:8080/"
        },
        "outputId": "4b41ce39-ffbf-484f-8833-15fec9d781a2"
      },
      "source": [
        "# モデルの定義\n",
        "model = SLPNet(300, 4)\n",
        "\n",
        "# 損失関数の定義\n",
        "criterion = nn.CrossEntropyLoss()\n",
        "\n",
        "# オプティマイザの定義\n",
        "optimizer = torch.optim.SGD(model.parameters(), lr=1e-1)\n",
        "\n",
        "# 学習\n",
        "num_epochs = 10\n",
        "\n",
        "for epoch in range(num_epochs):\n",
        "\n",
        "    model.train()\n",
        "    loss_train = 0.0\n",
        "    for i, (inputs, labels) in enumerate(dataloader_train):\n",
        "    # 勾配をゼロで初期化\n",
        "        optimizer.zero_grad()\n",
        "\n",
        "    # 順伝播 + 誤差逆伝播 + 重み更新\n",
        "        outputs = model(inputs)\n",
        "        loss = criterion(outputs, labels)\n",
        "        loss.backward()\n",
        "        optimizer.step()\n",
        "\n",
        "    # 損失を記録\n",
        "        loss_train += loss.item()\n",
        "\n",
        "  # バッチ単位の平均損失計算\n",
        "    loss_train = loss_train / i\n",
        "\n",
        "  # 検証データの損失計算\n",
        "    model.eval() \n",
        "    with torch.no_grad():\n",
        "        inputs, labels = next(iter(dataloader_valid))\n",
        "        outputs = model(inputs)\n",
        "        loss_valid = criterion(outputs, labels)\n",
        "\n",
        "  # ログを出力\n",
        "    print(f'epoch: {epoch + 1}, loss_train: {loss_train:.4f}, loss_valid: {loss_valid:.4f}')  "
      ],
      "execution_count": 14,
      "outputs": [
        {
          "output_type": "stream",
          "text": [
            "epoch: 1, loss_train: 0.4834, loss_valid: 0.3675\n",
            "epoch: 2, loss_train: 0.3164, loss_valid: 0.3252\n",
            "epoch: 3, loss_train: 0.2871, loss_valid: 0.3014\n",
            "epoch: 4, loss_train: 0.2719, loss_valid: 0.2907\n",
            "epoch: 5, loss_train: 0.2626, loss_valid: 0.2857\n",
            "epoch: 6, loss_train: 0.2551, loss_valid: 0.2855\n",
            "epoch: 7, loss_train: 0.2495, loss_valid: 0.2834\n",
            "epoch: 8, loss_train: 0.2459, loss_valid: 0.2854\n",
            "epoch: 9, loss_train: 0.2423, loss_valid: 0.2777\n",
            "epoch: 10, loss_train: 0.2406, loss_valid: 0.2738\n"
          ],
          "name": "stdout"
        }
      ]
    },
    {
      "cell_type": "markdown",
      "metadata": {
        "id": "r17bo7r8FL6Q"
      },
      "source": [
        "#74. 正解率の計測\n",
        "問題73で求めた行列を用いて学習データおよび評価データの事例を分類したとき，その正解率をそれぞれ求めよ．"
      ]
    },
    {
      "cell_type": "code",
      "metadata": {
        "id": "TNxRj4NuFKT5"
      },
      "source": [
        "def calculate_accuracy(model, loader):\n",
        "    model.eval()\n",
        "    total = 0\n",
        "    correct = 0\n",
        "    with torch.no_grad():\n",
        "        for inputs, labels in loader:\n",
        "            outputs = model(inputs)\n",
        "            pred = torch.argmax(outputs, dim=-1)\n",
        "            total += len(inputs)\n",
        "            correct += (pred == labels).sum().item()\n",
        "\n",
        "    return correct / total"
      ],
      "execution_count": 15,
      "outputs": []
    },
    {
      "cell_type": "code",
      "metadata": {
        "id": "XyzE_tDwFQL7",
        "colab": {
          "base_uri": "https://localhost:8080/"
        },
        "outputId": "736d3390-0f3b-4826-e6c8-6206758ff35a"
      },
      "source": [
        "acc_train = calculate_accuracy(model, dataloader_train)\n",
        "acc_test = calculate_accuracy(model, dataloader_test)\n",
        "print(f'正解率（学習データ）：{acc_train:.3f}')\n",
        "print(f'正解率（評価データ）：{acc_test:.3f}')"
      ],
      "execution_count": 16,
      "outputs": [
        {
          "output_type": "stream",
          "text": [
            "正解率（学習データ）：0.921\n",
            "正解率（評価データ）：0.906\n"
          ],
          "name": "stdout"
        }
      ]
    },
    {
      "cell_type": "markdown",
      "metadata": {
        "id": "1d3N8UphFTS1"
      },
      "source": [
        "#75. 損失と正解率のプロット\n",
        "問題73のコードを改変し，各エポックのパラメータ更新が完了するたびに，訓練データでの損失，正解率，検証データでの損失，正解率をグラフにプロットし，学習の進捗状況を確認できるようにせよ．"
      ]
    },
    {
      "cell_type": "code",
      "metadata": {
        "id": "56seSfA2FRvO"
      },
      "source": [
        "def calculate_loss_and_accuracy(model, criterion, loader):\n",
        "    model.eval()\n",
        "    loss = 0.0\n",
        "    total = 0\n",
        "    correct = 0\n",
        "    with torch.no_grad():\n",
        "        for inputs, labels in loader:\n",
        "            outputs = model(inputs)\n",
        "            loss += criterion(outputs, labels).item()\n",
        "            pred = torch.argmax(outputs, dim=-1)\n",
        "            total += len(inputs)\n",
        "            correct += (pred == labels).sum().item()\n",
        "\n",
        "    return loss / len(loader), correct / total"
      ],
      "execution_count": 17,
      "outputs": []
    },
    {
      "cell_type": "code",
      "metadata": {
        "id": "QUeWmWhCFXkf",
        "colab": {
          "base_uri": "https://localhost:8080/"
        },
        "outputId": "0e655feb-7a61-4f38-ff49-2d1b6d4d9ce4"
      },
      "source": [
        "# モデルの定義\n",
        "model = SLPNet(300, 4)\n",
        "\n",
        "# 損失関数の定義\n",
        "criterion = nn.CrossEntropyLoss()\n",
        "\n",
        "# オプティマイザの定義\n",
        "optimizer = torch.optim.SGD(model.parameters(), lr=1e-1)\n",
        "\n",
        "# 学習\n",
        "num_epochs = 30\n",
        "\n",
        "log_train = []\n",
        "log_valid = []\n",
        "\n",
        "for epoch in range(num_epochs):\n",
        "\n",
        "    model.train()\n",
        "    for i, (inputs, labels) in enumerate(dataloader_train):\n",
        "    # 勾配をゼロで初期化\n",
        "        optimizer.zero_grad()\n",
        "\n",
        "    # 順伝播 + 誤差逆伝播 + 重み更新\n",
        "        outputs = model(inputs)\n",
        "        loss = criterion(outputs, labels)\n",
        "        loss.backward()\n",
        "        optimizer.step()\n",
        "\n",
        "    # 損失と正解率の算出\n",
        "    loss_train, acc_train = calculate_loss_and_accuracy(model, criterion, dataloader_train)\n",
        "    loss_valid, acc_valid = calculate_loss_and_accuracy(model, criterion, dataloader_valid)\n",
        "    log_train.append([loss_train, acc_train])\n",
        "    log_valid.append([loss_valid, acc_valid])\n",
        "\n",
        "  # ログを出力\n",
        "    print(f'epoch: {epoch + 1}, loss_train: {loss_train:.4f}, accuracy_train: {acc_train:.4f}, loss_valid: {loss_valid:.4f}, accuracy_valid: {acc_valid:.4f}')  "
      ],
      "execution_count": 18,
      "outputs": [
        {
          "output_type": "stream",
          "text": [
            "epoch: 1, loss_train: 0.3255, accuracy_train: 0.8873, loss_valid: 0.3436, accuracy_valid: 0.8793\n",
            "epoch: 2, loss_train: 0.2865, accuracy_train: 0.9031, loss_valid: 0.3057, accuracy_valid: 0.8921\n",
            "epoch: 3, loss_train: 0.2746, accuracy_train: 0.9078, loss_valid: 0.2944, accuracy_valid: 0.8996\n",
            "epoch: 4, loss_train: 0.2591, accuracy_train: 0.9088, loss_valid: 0.2840, accuracy_valid: 0.8981\n",
            "epoch: 5, loss_train: 0.2569, accuracy_train: 0.9098, loss_valid: 0.2839, accuracy_valid: 0.8951\n",
            "epoch: 6, loss_train: 0.2450, accuracy_train: 0.9157, loss_valid: 0.2753, accuracy_valid: 0.9040\n",
            "epoch: 7, loss_train: 0.2401, accuracy_train: 0.9177, loss_valid: 0.2705, accuracy_valid: 0.9018\n",
            "epoch: 8, loss_train: 0.2363, accuracy_train: 0.9193, loss_valid: 0.2705, accuracy_valid: 0.9055\n",
            "epoch: 9, loss_train: 0.2335, accuracy_train: 0.9214, loss_valid: 0.2704, accuracy_valid: 0.9093\n",
            "epoch: 10, loss_train: 0.2314, accuracy_train: 0.9222, loss_valid: 0.2685, accuracy_valid: 0.9063\n",
            "epoch: 11, loss_train: 0.2383, accuracy_train: 0.9194, loss_valid: 0.2822, accuracy_valid: 0.9055\n",
            "epoch: 12, loss_train: 0.2295, accuracy_train: 0.9215, loss_valid: 0.2745, accuracy_valid: 0.9055\n",
            "epoch: 13, loss_train: 0.2270, accuracy_train: 0.9219, loss_valid: 0.2662, accuracy_valid: 0.9100\n",
            "epoch: 14, loss_train: 0.2365, accuracy_train: 0.9163, loss_valid: 0.2848, accuracy_valid: 0.9055\n",
            "epoch: 15, loss_train: 0.2235, accuracy_train: 0.9251, loss_valid: 0.2701, accuracy_valid: 0.9070\n",
            "epoch: 16, loss_train: 0.2217, accuracy_train: 0.9259, loss_valid: 0.2692, accuracy_valid: 0.9138\n",
            "epoch: 17, loss_train: 0.2221, accuracy_train: 0.9227, loss_valid: 0.2684, accuracy_valid: 0.9138\n",
            "epoch: 18, loss_train: 0.2209, accuracy_train: 0.9241, loss_valid: 0.2682, accuracy_valid: 0.9108\n",
            "epoch: 19, loss_train: 0.2222, accuracy_train: 0.9228, loss_valid: 0.2731, accuracy_valid: 0.9100\n",
            "epoch: 20, loss_train: 0.2184, accuracy_train: 0.9251, loss_valid: 0.2688, accuracy_valid: 0.9160\n",
            "epoch: 21, loss_train: 0.2181, accuracy_train: 0.9257, loss_valid: 0.2707, accuracy_valid: 0.9153\n",
            "epoch: 22, loss_train: 0.2172, accuracy_train: 0.9261, loss_valid: 0.2733, accuracy_valid: 0.9138\n",
            "epoch: 23, loss_train: 0.2163, accuracy_train: 0.9248, loss_valid: 0.2716, accuracy_valid: 0.9093\n",
            "epoch: 24, loss_train: 0.2157, accuracy_train: 0.9260, loss_valid: 0.2696, accuracy_valid: 0.9160\n",
            "epoch: 25, loss_train: 0.2151, accuracy_train: 0.9264, loss_valid: 0.2728, accuracy_valid: 0.9123\n",
            "epoch: 26, loss_train: 0.2164, accuracy_train: 0.9249, loss_valid: 0.2727, accuracy_valid: 0.9130\n",
            "epoch: 27, loss_train: 0.2148, accuracy_train: 0.9262, loss_valid: 0.2740, accuracy_valid: 0.9108\n",
            "epoch: 28, loss_train: 0.2154, accuracy_train: 0.9250, loss_valid: 0.2744, accuracy_valid: 0.9100\n",
            "epoch: 29, loss_train: 0.2140, accuracy_train: 0.9266, loss_valid: 0.2750, accuracy_valid: 0.9145\n",
            "epoch: 30, loss_train: 0.2139, accuracy_train: 0.9251, loss_valid: 0.2743, accuracy_valid: 0.9085\n"
          ],
          "name": "stdout"
        }
      ]
    },
    {
      "cell_type": "code",
      "metadata": {
        "id": "FC05vtm9FZmd",
        "colab": {
          "base_uri": "https://localhost:8080/",
          "height": 334
        },
        "outputId": "60b3a227-d7d0-4c22-d867-dbc1298bf642"
      },
      "source": [
        "import numpy as np\n",
        "from matplotlib import pyplot as plt\n",
        "\n",
        "# グラフ化\n",
        "fig, ax = plt.subplots(1, 2, figsize=(15, 5))\n",
        "ax[0].plot(np.array(log_train).T[0], label='train')\n",
        "ax[0].plot(np.array(log_valid).T[0], label='valid')\n",
        "ax[0].set_xlabel('epoch')\n",
        "ax[0].set_ylabel('loss')\n",
        "ax[0].legend()\n",
        "ax[1].plot(np.array(log_train).T[1], label='train')\n",
        "ax[1].plot(np.array(log_valid).T[1], label='valid')\n",
        "ax[1].set_xlabel('epoch')\n",
        "ax[1].set_ylabel('accuracy')\n",
        "ax[1].legend()\n",
        "plt.show()"
      ],
      "execution_count": 20,
      "outputs": [
        {
          "output_type": "display_data",
          "data": {
            "image/png": "[encoded data removed]",
            "text/plain": [
              "<Figure size 1080x360 with 2 Axes>"
            ]
          },
          "metadata": {
            "tags": [],
            "needs_background": "light"
          }
        }
      ]
    },
    {
      "cell_type": "markdown",
      "metadata": {
        "id": "g7vuJISkFfQK"
      },
      "source": [
        "#76. チェックポイント\n",
        "問題75のコードを改変し，各エポックのパラメータ更新が完了するたびに，チェックポイント（学習途中のパラメータ（重み行列など）の値や最適化アルゴリズムの内部状態）をファイルに書き出せ．"
      ]
    },
    {
      "cell_type": "code",
      "metadata": {
        "id": "GNhizulJFgme",
        "colab": {
          "base_uri": "https://localhost:8080/"
        },
        "outputId": "b8daaa00-b5bf-412a-8312-8d006a2b7030"
      },
      "source": [
        "# モデルの定義\n",
        "model = SLPNet(300, 4)\n",
        "\n",
        "# 損失関数の定義\n",
        "criterion = nn.CrossEntropyLoss()\n",
        "\n",
        "# オプティマイザの定義\n",
        "optimizer = torch.optim.SGD(model.parameters(), lr=1e-1)\n",
        "\n",
        "# 学習\n",
        "num_epochs = 10\n",
        "log_train = []\n",
        "log_valid = []\n",
        "for epoch in range(num_epochs):\n",
        "  # 訓練モードに設定\n",
        "    model.train()\n",
        "    for inputs, labels in dataloader_train:\n",
        "    # 勾配をゼロで初期化\n",
        "        optimizer.zero_grad()\n",
        "\n",
        "    # 順伝播 + 誤差逆伝播 + 重み更新\n",
        "        outputs = model(inputs)\n",
        "        loss = criterion(outputs, labels)\n",
        "        loss.backward()\n",
        "        optimizer.step()\n",
        "\n",
        "  # 損失と正解率の算出\n",
        "    loss_train, acc_train = calculate_loss_and_accuracy(model, criterion, dataloader_train)\n",
        "    loss_valid, acc_valid = calculate_loss_and_accuracy(model, criterion, dataloader_valid)\n",
        "    log_train.append([loss_train, acc_train])\n",
        "    log_valid.append([loss_valid, acc_valid])\n",
        "\n",
        "  # チェックポイントの保存\n",
        "    torch.save({'epoch': epoch, 'model_state_dict': model.state_dict(), 'optimizer_state_dict': optimizer.state_dict()}, f'checkpoint{epoch + 1}.pt')\n",
        "\n",
        "  # ログを出力\n",
        "    print(f'epoch: {epoch + 1}, loss_train: {loss_train:.4f}, accuracy_train: {acc_train:.4f}, loss_valid: {loss_valid:.4f}, accuracy_valid: {acc_valid:.4f}')  "
      ],
      "execution_count": 21,
      "outputs": [
        {
          "output_type": "stream",
          "text": [
            "epoch: 1, loss_train: 0.3452, accuracy_train: 0.8736, loss_valid: 0.3550, accuracy_valid: 0.8741\n",
            "epoch: 2, loss_train: 0.2881, accuracy_train: 0.9018, loss_valid: 0.3104, accuracy_valid: 0.8943\n",
            "epoch: 3, loss_train: 0.2696, accuracy_train: 0.9096, loss_valid: 0.2927, accuracy_valid: 0.8981\n",
            "epoch: 4, loss_train: 0.2575, accuracy_train: 0.9150, loss_valid: 0.2857, accuracy_valid: 0.9040\n",
            "epoch: 5, loss_train: 0.2501, accuracy_train: 0.9151, loss_valid: 0.2780, accuracy_valid: 0.9063\n",
            "epoch: 6, loss_train: 0.2445, accuracy_train: 0.9179, loss_valid: 0.2755, accuracy_valid: 0.9070\n",
            "epoch: 7, loss_train: 0.2400, accuracy_train: 0.9203, loss_valid: 0.2750, accuracy_valid: 0.9085\n",
            "epoch: 8, loss_train: 0.2419, accuracy_train: 0.9178, loss_valid: 0.2826, accuracy_valid: 0.8981\n",
            "epoch: 9, loss_train: 0.2340, accuracy_train: 0.9203, loss_valid: 0.2694, accuracy_valid: 0.9063\n",
            "epoch: 10, loss_train: 0.2353, accuracy_train: 0.9196, loss_valid: 0.2784, accuracy_valid: 0.9025\n"
          ],
          "name": "stdout"
        }
      ]
    },
    {
      "cell_type": "markdown",
      "metadata": {
        "id": "ebb-rpXKFnvC"
      },
      "source": [
        "# 77. ミニバッチ化\n",
        "問題76のコードを改変し，B事例ごとに損失・勾配を計算し，行列W\n",
        "の値を更新せよ（ミニバッチ化）．Bの値を1,2,4,8,…と変化させながら，1エポックの学習に要する時間を比較せよ．"
      ]
    },
    {
      "cell_type": "code",
      "metadata": {
        "id": "lF4t8FiQFqtt"
      },
      "source": [
        "import time\n",
        "\n",
        "#Bの値を変えるごとにいちいち書くのが面倒なので関数にしておく\n",
        "def train_model(dataset_train, dataset_valid, batch_size, model, criterion, optimizer, num_epochs):\n",
        "  # dataloaderの作成\n",
        "  dataloader_train = DataLoader(dataset_train, batch_size=batch_size, shuffle=True)\n",
        "  dataloader_valid = DataLoader(dataset_valid, batch_size=len(dataset_valid), shuffle=False)\n",
        "\n",
        "  # 学習\n",
        "  log_train = []\n",
        "  log_valid = []\n",
        "  for epoch in range(num_epochs):\n",
        "    # 開始時刻の記録\n",
        "    s_time = time.time()\n",
        "\n",
        "    # 訓練モードに設定\n",
        "    model.train()\n",
        "    for inputs, labels in dataloader_train:\n",
        "      # 勾配をゼロで初期化\n",
        "      optimizer.zero_grad()\n",
        "\n",
        "      # 順伝播 + 誤差逆伝播 + 重み更新\n",
        "      outputs = model(inputs)\n",
        "      loss = criterion(outputs, labels)\n",
        "      loss.backward()\n",
        "      optimizer.step()\n",
        "\n",
        "    # 損失と正解率の算出\n",
        "    loss_train, acc_train = calculate_loss_and_accuracy(model, criterion, dataloader_train)\n",
        "    loss_valid, acc_valid = calculate_loss_and_accuracy(model, criterion, dataloader_valid)\n",
        "    log_train.append([loss_train, acc_train])\n",
        "    log_valid.append([loss_valid, acc_valid])\n",
        "\n",
        "    # チェックポイントの保存\n",
        "    torch.save({'epoch': epoch, 'model_state_dict': model.state_dict(), 'optimizer_state_dict': optimizer.state_dict()}, f'checkpoint{epoch + 1}.pt')\n",
        "\n",
        "    # 終了時刻の記録\n",
        "    e_time = time.time()\n",
        "\n",
        "    # ログを出力\n",
        "    print(f'epoch: {epoch + 1}, loss_train: {loss_train:.4f}, accuracy_train: {acc_train:.4f}, loss_valid: {loss_valid:.4f}, accuracy_valid: {acc_valid:.4f}, {(e_time - s_time):.4f}sec') \n",
        "\n",
        "  return {'train': log_train, 'valid': log_valid}"
      ],
      "execution_count": 22,
      "outputs": []
    },
    {
      "cell_type": "code",
      "metadata": {
        "id": "bhmhbTgwHMgF",
        "colab": {
          "base_uri": "https://localhost:8080/"
        },
        "outputId": "3e7c69ba-c02b-4920-e9c4-26849cf5c54c"
      },
      "source": [
        "# datasetの作成\n",
        "# dataset_train = CreateDataset(X_train, y_train)\n",
        "# dataset_valid = CreateDataset(X_valid, y_valid)\n",
        "\n",
        "# モデルの定義\n",
        "model = SLPNet(300, 4)\n",
        "\n",
        "# 損失関数の定義\n",
        "criterion = nn.CrossEntropyLoss()\n",
        "\n",
        "# オプティマイザの定義\n",
        "optimizer = torch.optim.SGD(model.parameters(), lr=1e-1)\n",
        "\n",
        "# モデルの学習\n",
        "for batch_size in [2 ** i for i in range(11)]: #1,2,4,8,...と変化させていく\n",
        "  print(f'バッチサイズ: {batch_size}')\n",
        "  log = train_model(dataset_train, dataset_valid, batch_size, model, criterion, optimizer, 1)"
      ],
      "execution_count": 25,
      "outputs": [
        {
          "output_type": "stream",
          "text": [
            "バッチサイズ: 1\n",
            "epoch: 1, loss_train: 0.3343, accuracy_train: 0.8882, loss_valid: 0.3461, accuracy_valid: 0.8786, 4.4172sec\n",
            "バッチサイズ: 2\n",
            "epoch: 1, loss_train: 0.3013, accuracy_train: 0.8988, loss_valid: 0.3144, accuracy_valid: 0.8906, 2.3258sec\n",
            "バッチサイズ: 4\n",
            "epoch: 1, loss_train: 0.2937, accuracy_train: 0.9016, loss_valid: 0.3092, accuracy_valid: 0.8936, 1.2290sec\n",
            "バッチサイズ: 8\n",
            "epoch: 1, loss_train: 0.2899, accuracy_train: 0.9036, loss_valid: 0.3056, accuracy_valid: 0.8943, 0.6786sec\n",
            "バッチサイズ: 16\n",
            "epoch: 1, loss_train: 0.2879, accuracy_train: 0.9040, loss_valid: 0.3034, accuracy_valid: 0.8951, 0.4390sec\n",
            "バッチサイズ: 32\n",
            "epoch: 1, loss_train: 0.2868, accuracy_train: 0.9032, loss_valid: 0.3023, accuracy_valid: 0.8936, 0.2979sec\n",
            "バッチサイズ: 64\n",
            "epoch: 1, loss_train: 0.2865, accuracy_train: 0.9033, loss_valid: 0.3019, accuracy_valid: 0.8943, 0.2122sec\n",
            "バッチサイズ: 128\n",
            "epoch: 1, loss_train: 0.2856, accuracy_train: 0.9034, loss_valid: 0.3017, accuracy_valid: 0.8943, 0.1803sec\n",
            "バッチサイズ: 256\n",
            "epoch: 1, loss_train: 0.2864, accuracy_train: 0.9035, loss_valid: 0.3017, accuracy_valid: 0.8943, 0.1487sec\n",
            "バッチサイズ: 512\n",
            "epoch: 1, loss_train: 0.2865, accuracy_train: 0.9035, loss_valid: 0.3016, accuracy_valid: 0.8943, 0.3807sec\n",
            "バッチサイズ: 1024\n",
            "epoch: 1, loss_train: 0.2859, accuracy_train: 0.9037, loss_valid: 0.3016, accuracy_valid: 0.8943, 0.2590sec\n"
          ],
          "name": "stdout"
        }
      ]
    },
    {
      "cell_type": "markdown",
      "metadata": {
        "id": "tLN1_PEAHYGi"
      },
      "source": [
        "#78. GPU上での学習\n",
        "問題77のコードを改変し，GPU上で学習を実行せよ．"
      ]
    },
    {
      "cell_type": "code",
      "metadata": {
        "id": "T1NQTHu5HZys"
      },
      "source": [
        "def calculate_loss_and_accuracy(model, criterion, loader, device): #deviceを追加\n",
        "  model.eval()\n",
        "  loss = 0.0\n",
        "  total = 0\n",
        "  correct = 0\n",
        "  with torch.no_grad():\n",
        "    for inputs, labels in loader:\n",
        "      inputs = inputs.to(device)\n",
        "      labels = labels.to(device)\n",
        "      outputs = model(inputs)\n",
        "      loss += criterion(outputs, labels).item()\n",
        "      pred = torch.argmax(outputs, dim=-1)\n",
        "      total += len(inputs)\n",
        "      correct += (pred == labels).sum().item()\n",
        "\n",
        "  return loss / len(loader), correct / total\n",
        "\n",
        "\n",
        "def train_model(dataset_train, dataset_valid, batch_size, model, criterion, optimizer, num_epochs, device=None):\n",
        "  # GPUに送る\n",
        "  model.to(device)\n",
        "\n",
        "  # dataloaderの作成\n",
        "  dataloader_train = DataLoader(dataset_train, batch_size=batch_size, shuffle=True)\n",
        "  dataloader_valid = DataLoader(dataset_valid, batch_size=len(dataset_valid), shuffle=False)\n",
        "\n",
        "  # 学習\n",
        "  log_train = []\n",
        "  log_valid = []\n",
        "  for epoch in range(num_epochs):\n",
        "    # 開始時刻の記録\n",
        "    s_time = time.time()\n",
        "\n",
        "    # 訓練モードに設定\n",
        "    model.train()\n",
        "    for inputs, labels in dataloader_train:\n",
        "      # 勾配をゼロで初期化\n",
        "      optimizer.zero_grad()\n",
        "\n",
        "      # 順伝播 + 誤差逆伝播 + 重み更新\n",
        "      inputs = inputs.to(device)\n",
        "      labels = labels.to(device)\n",
        "      outputs = model.forward(inputs)\n",
        "      loss = criterion(outputs, labels)\n",
        "      loss.backward()\n",
        "      optimizer.step()\n",
        "\n",
        "    # 損失と正解率の算出\n",
        "    loss_train, acc_train = calculate_loss_and_accuracy(model, criterion, dataloader_train, device)\n",
        "    loss_valid, acc_valid = calculate_loss_and_accuracy(model, criterion, dataloader_valid, device)\n",
        "    log_train.append([loss_train, acc_train])\n",
        "    log_valid.append([loss_valid, acc_valid])\n",
        "\n",
        "    # チェックポイントの保存\n",
        "    torch.save({'epoch': epoch, 'model_state_dict': model.state_dict(), 'optimizer_state_dict': optimizer.state_dict()}, f'checkpoint{epoch + 1}.pt')\n",
        "\n",
        "    # 終了時刻の記録\n",
        "    e_time = time.time()\n",
        "\n",
        "    # ログを出力\n",
        "    print(f'epoch: {epoch + 1}, loss_train: {loss_train:.4f}, accuracy_train: {acc_train:.4f}, loss_valid: {loss_valid:.4f}, accuracy_valid: {acc_valid:.4f}, {(e_time - s_time):.4f}sec') \n",
        "\n",
        "  return {'train': log_train, 'valid': log_valid}"
      ],
      "execution_count": 26,
      "outputs": []
    },
    {
      "cell_type": "code",
      "metadata": {
        "colab": {
          "base_uri": "https://localhost:8080/"
        },
        "id": "5YTomUjzJyGj",
        "outputId": "ac03a9e4-19e9-4246-e83f-c63029b58503"
      },
      "source": [
        "# datasetの作成\n",
        "# dataset_train = CreateDataset(X_train, y_train)\n",
        "# dataset_valid = CreateDataset(X_valid, y_valid)\n",
        "\n",
        "# モデルの定義\n",
        "model = SLPNet(300, 4)\n",
        "\n",
        "# 損失関数の定義\n",
        "criterion = nn.CrossEntropyLoss()\n",
        "\n",
        "# オプティマイザの定義\n",
        "optimizer = torch.optim.SGD(model.parameters(), lr=1e-1)\n",
        "\n",
        "# デバイスの指定\n",
        "device = torch.device('cuda')\n",
        "\n",
        "# モデルの学習\n",
        "for batch_size in [2 ** i for i in range(11)]:\n",
        "  print(f'バッチサイズ: {batch_size}')\n",
        "  log = train_model(dataset_train, dataset_valid, batch_size, model, criterion, optimizer, 1, device=device)"
      ],
      "execution_count": 27,
      "outputs": [
        {
          "output_type": "stream",
          "text": [
            "バッチサイズ: 1\n",
            "epoch: 1, loss_train: 0.3324, accuracy_train: 0.8859, loss_valid: 0.3636, accuracy_valid: 0.8741, 9.2493sec\n",
            "バッチサイズ: 2\n",
            "epoch: 1, loss_train: 0.3086, accuracy_train: 0.8982, loss_valid: 0.3409, accuracy_valid: 0.8846, 4.6618sec\n",
            "バッチサイズ: 4\n",
            "epoch: 1, loss_train: 0.2965, accuracy_train: 0.8993, loss_valid: 0.3277, accuracy_valid: 0.8936, 2.4611sec\n",
            "バッチサイズ: 8\n",
            "epoch: 1, loss_train: 0.2913, accuracy_train: 0.9017, loss_valid: 0.3226, accuracy_valid: 0.8951, 1.2340sec\n",
            "バッチサイズ: 16\n",
            "epoch: 1, loss_train: 0.2896, accuracy_train: 0.9019, loss_valid: 0.3209, accuracy_valid: 0.8943, 0.6608sec\n",
            "バッチサイズ: 32\n",
            "epoch: 1, loss_train: 0.2885, accuracy_train: 0.9025, loss_valid: 0.3201, accuracy_valid: 0.8966, 0.3944sec\n",
            "バッチサイズ: 64\n",
            "epoch: 1, loss_train: 0.2883, accuracy_train: 0.9026, loss_valid: 0.3197, accuracy_valid: 0.8966, 0.2553sec\n",
            "バッチサイズ: 128\n",
            "epoch: 1, loss_train: 0.2871, accuracy_train: 0.9029, loss_valid: 0.3196, accuracy_valid: 0.8966, 0.1771sec\n",
            "バッチサイズ: 256\n",
            "epoch: 1, loss_train: 0.2878, accuracy_train: 0.9029, loss_valid: 0.3195, accuracy_valid: 0.8966, 0.1487sec\n",
            "バッチサイズ: 512\n",
            "epoch: 1, loss_train: 0.2881, accuracy_train: 0.9029, loss_valid: 0.3194, accuracy_valid: 0.8966, 0.1173sec\n",
            "バッチサイズ: 1024\n",
            "epoch: 1, loss_train: 0.2861, accuracy_train: 0.9029, loss_valid: 0.3194, accuracy_valid: 0.8966, 0.1201sec\n"
          ],
          "name": "stdout"
        }
      ]
    },
    {
      "cell_type": "markdown",
      "metadata": {
        "id": "gu-EjOSlJ8ud"
      },
      "source": [
        "#79. 多層ニューラルネットワーク\n",
        "問題78のコードを改変し，バイアス項の導入や多層化など，ニューラルネットワークの形状を変更しながら，高性能なカテゴリ分類器を構築せよ．"
      ]
    },
    {
      "cell_type": "code",
      "metadata": {
        "id": "lk2yDh-1KigY"
      },
      "source": [
        "#モデルの多層化\n",
        "class MLP(torch.nn.Module):\n",
        "    def __init__(self):\n",
        "        super().__init__()\n",
        "        self.net = torch.nn.Sequential(\n",
        "            torch.nn.Linear(300, 32),\n",
        "            torch.nn.ReLU(),\n",
        "            torch.nn.Linear(32, 4),\n",
        "        )\n",
        "    def forward(self, X):\n",
        "        return self.net(X)"
      ],
      "execution_count": 28,
      "outputs": []
    },
    {
      "cell_type": "code",
      "metadata": {
        "colab": {
          "base_uri": "https://localhost:8080/"
        },
        "id": "khK4dwb0NRlV",
        "outputId": "ce50fa1b-5509-41d7-b26c-bcce5e93f88c"
      },
      "source": [
        "model = MLP()\n",
        "# 損失関数の定義\n",
        "criterion = nn.CrossEntropyLoss()\n",
        "\n",
        "# オプティマイザの定義\n",
        "optimizer = torch.optim.SGD(model.parameters(), lr=1e-1)\n",
        "\n",
        "# デバイスの指定\n",
        "device = torch.device('cuda')\n",
        "\n",
        "# モデルの学習\n",
        "for batch_size in [2 ** i for i in range(11)]:\n",
        "  print(f'バッチサイズ: {batch_size}')\n",
        "  log = train_model(dataset_train, dataset_valid, batch_size, model, criterion, optimizer, 1, device=device)"
      ],
      "execution_count": 29,
      "outputs": [
        {
          "output_type": "stream",
          "text": [
            "バッチサイズ: 1\n",
            "epoch: 1, loss_train: 0.2828, accuracy_train: 0.9024, loss_valid: 0.3073, accuracy_valid: 0.8906, 12.2310sec\n",
            "バッチサイズ: 2\n",
            "epoch: 1, loss_train: 0.2522, accuracy_train: 0.9096, loss_valid: 0.2787, accuracy_valid: 0.9063, 6.1124sec\n",
            "バッチサイズ: 4\n",
            "epoch: 1, loss_train: 0.2054, accuracy_train: 0.9272, loss_valid: 0.2521, accuracy_valid: 0.9070, 3.1561sec\n",
            "バッチサイズ: 8\n",
            "epoch: 1, loss_train: 0.1975, accuracy_train: 0.9315, loss_valid: 0.2500, accuracy_valid: 0.9130, 1.6396sec\n",
            "バッチサイズ: 16\n",
            "epoch: 1, loss_train: 0.1925, accuracy_train: 0.9330, loss_valid: 0.2489, accuracy_valid: 0.9108, 0.8680sec\n",
            "バッチサイズ: 32\n",
            "epoch: 1, loss_train: 0.1897, accuracy_train: 0.9336, loss_valid: 0.2491, accuracy_valid: 0.9145, 0.4912sec\n",
            "バッチサイズ: 64\n",
            "epoch: 1, loss_train: 0.1891, accuracy_train: 0.9340, loss_valid: 0.2488, accuracy_valid: 0.9145, 0.3102sec\n",
            "バッチサイズ: 128\n",
            "epoch: 1, loss_train: 0.1906, accuracy_train: 0.9338, loss_valid: 0.2479, accuracy_valid: 0.9138, 0.1947sec\n",
            "バッチサイズ: 256\n",
            "epoch: 1, loss_train: 0.1878, accuracy_train: 0.9337, loss_valid: 0.2476, accuracy_valid: 0.9138, 0.1486sec\n",
            "バッチサイズ: 512\n",
            "epoch: 1, loss_train: 0.1877, accuracy_train: 0.9335, loss_valid: 0.2480, accuracy_valid: 0.9123, 0.1281sec\n",
            "バッチサイズ: 1024\n",
            "epoch: 1, loss_train: 0.1889, accuracy_train: 0.9337, loss_valid: 0.2478, accuracy_valid: 0.9123, 0.1096sec\n"
          ],
          "name": "stdout"
        }
      ]
    },
    {
      "cell_type": "code",
      "metadata": {
        "id": "bUBOxJtrNjjx"
      },
      "source": [
        ""
      ],
      "execution_count": null,
      "outputs": []
    }
  ]
}