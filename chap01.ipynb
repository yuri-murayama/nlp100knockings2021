{
 "cells": [
  {
   "cell_type": "markdown",
   "metadata": {},
   "source": [
    "# 100本ノック\n",
    "### 第１章：準備運動"
   ]
  },
  {
   "cell_type": "markdown",
   "metadata": {},
   "source": [
    "***\n",
    "___\n",
    "### 00.文字列の逆順\n",
    " 文字列”stressed”の文字を逆に（末尾から先頭に向かって）並べた文字列を得よ．\n",
    " ___"
   ]
  },
  {
   "cell_type": "code",
   "execution_count": 18,
   "metadata": {},
   "outputs": [
    {
     "name": "stdout",
     "output_type": "stream",
     "text": [
      "desserts\n"
     ]
    }
   ],
   "source": [
    "str = 'stressed'\n",
    "ans = str[::-1]\n",
    "print (ans)"
   ]
  },
  {
   "cell_type": "markdown",
   "metadata": {},
   "source": [
    "***\n",
    "***\n",
    "\n",
    "### 01.「パタトクカシーー」\n",
    "「パタトクカシーー」という文字列の1,3,5,7文字目を取り出して連結した文字列を得よ．\n",
    "___"
   ]
  },
  {
   "cell_type": "code",
   "execution_count": 44,
   "metadata": {},
   "outputs": [
    {
     "name": "stdout",
     "output_type": "stream",
     "text": [
      "タクシー\n"
     ]
    }
   ],
   "source": [
    "str = 'パタトクカシーー'\n",
    "ans = str[::2]\n",
    "print(ans)"
   ]
  },
  {
   "cell_type": "markdown",
   "metadata": {},
   "source": [
    "___\n",
    "___\n",
    "### 02.「パトカー」＋「タクシー」＝「パタトクカシーー」\n",
    "「パトカー」＋「タクシー」の文字を先頭から交互に連結して文字列「パタトクカシーー」を得よ．\n",
    "___"
   ]
  },
  {
   "cell_type": "code",
   "execution_count": 112,
   "metadata": {},
   "outputs": [
    {
     "name": "stdout",
     "output_type": "stream",
     "text": [
      "パタトクカシーー\n"
     ]
    }
   ],
   "source": [
    "str1 = 'パトカー'\n",
    "str2 = 'タクシー'\n",
    "#print (''.join([a+b for a,b in zip(s1,s2)]))\n",
    "ans = ''\n",
    "for i in range(len(str1)):\n",
    "    ans += str1[i]\n",
    "    ans += str2[i]\n",
    "print(ans)"
   ]
  },
  {
   "cell_type": "markdown",
   "metadata": {},
   "source": [
    "___\n",
    "___\n",
    "\n",
    "### 03.円周率\n",
    "“Now I need a drink, alcoholic of course, after the heavy lectures involving quantum mechanics.”\n",
    "\n",
    "という文を単語に分解し，各単語の（アルファベットの）文字数を先頭から出現順に並べたリストを作成せよ\n",
    "___"
   ]
  },
  {
   "cell_type": "code",
   "execution_count": 59,
   "metadata": {},
   "outputs": [
    {
     "name": "stdout",
     "output_type": "stream",
     "text": [
      "Now I need a drink alcoholic of course after the heavy lectures involving quantum mechanics\n",
      "[3, 1, 4, 1, 5, 9, 2, 6, 5, 3, 5, 8, 9, 7, 9]\n"
     ]
    }
   ],
   "source": [
    "import re\n",
    "\n",
    "str = 'Now I need a drink, alcoholic of course, after the heavy lectures involving quantum mechanics.'\n",
    "\n",
    "#str = str.strip(',')\n",
    "#str = str.strip(',')\n",
    "str = str.replace(',','').replace('.','')\n",
    "print(str)\n",
    "ans = [len(word) for word in str.split()]\n",
    "print(ans)"
   ]
  },
  {
   "cell_type": "markdown",
   "metadata": {},
   "source": [
    "___\n",
    "___\n",
    "### 04.元素記号\n",
    "“Hi He Lied Because Boron Could Not Oxidize Fluorine. New Nations Might Also Sign Peace Security Clause. Arthur King Can.”\n",
    "\n",
    "という文を単語に分解し，1, 5, 6, 7, 8, 9, 15, 16, 19番目の単語は先頭の1文字，それ以外の単語は先頭の2文字を取り出し，\n",
    "\n",
    "取り出した文字列から単語の位置（先頭から何番目の単語か）への連想配列（辞書型もしくはマップ型）を作成せよ．\n",
    "___"
   ]
  },
  {
   "cell_type": "code",
   "execution_count": 68,
   "metadata": {},
   "outputs": [
    {
     "name": "stdout",
     "output_type": "stream",
     "text": [
      "{'H': 1, 'He': 2, 'Li': 3, 'Be': 4, 'B': 5, 'C': 6, 'N': 7, 'O': 8, 'F': 9, 'Ne': 10, 'Na': 11, 'Mi': 12, 'Al': 13, 'Si': 14, 'P': 15, 'S': 16, 'Cl': 17, 'Ar': 18, 'K': 19, 'Ca': 20}\n"
     ]
    }
   ],
   "source": [
    "str = \"Hi He Lied Because Boron Could Not Oxidize Fluorine. New Nations Might Also Sign Peace Security Clause. Arthur King Can.\"\n",
    "idx =[1, 5, 6, 7, 8, 9, 15, 16, 19]\n",
    "ans ={}\n",
    "for i,word in enumerate(str.split()):\n",
    "    if (i+1) in idx :\n",
    "        ans [word[:1]] = i+1\n",
    "    else:\n",
    "        ans [word[:2]] = i+1\n",
    "print (ans)"
   ]
  },
  {
   "cell_type": "markdown",
   "metadata": {},
   "source": [
    "___\n",
    "___\n",
    "## 05:n-gram\n",
    "与えられたシーケンス（文字列やリストなど）からn-gramを作る関数を作成せよ.\n",
    "\n",
    "この関数を用い，”I am an NLPer”という文から単語bi-gram，文字bi-gramを得よ．"
   ]
  },
  {
   "cell_type": "markdown",
   "metadata": {},
   "source": [
    "##### * n-gram:任意の文字列や文書を連続したn個の文字で分割するテキスト分割方法\n",
    "___"
   ]
  },
  {
   "cell_type": "code",
   "execution_count": 75,
   "metadata": {},
   "outputs": [
    {
     "name": "stdout",
     "output_type": "stream",
     "text": [
      "['I ', ' a', 'am', 'm ', ' a', 'an', 'n ', ' N', 'NL', 'LP', 'Pe', 'er']\n",
      "[['I', 'am'], ['am', 'an'], ['an', 'NLPer']]\n"
     ]
    }
   ],
   "source": [
    "def n_gram(target, n):\n",
    "    return [target[i:i+n]for i in range (len(target)-n+1)]\n",
    "\n",
    "str=\"I am an NLPer\"\n",
    "\n",
    "print(n_gram(str,2))\n",
    "print(n_gram(str.split(),2))"
   ]
  },
  {
   "cell_type": "markdown",
   "metadata": {},
   "source": [
    "___\n",
    "___\n",
    "\n",
    "### 06:集合\n",
    "“paraparaparadise”と”paragraph”に含まれる文字bi-gramの集合を，\n",
    "\n",
    " それぞれ, XとYとして求め，XとYの和集合，積集合，差集合を求めよ．さらに，’se’というbi-gramがXおよびYに含まれるかどうかを調べよ．\n",
    " ___"
   ]
  },
  {
   "cell_type": "code",
   "execution_count": 81,
   "metadata": {},
   "outputs": [
    {
     "name": "stdout",
     "output_type": "stream",
     "text": [
      "{'ad', 'ar', 'pa', 'se', 'is', 'ap', 'di', 'ra'}\n",
      "{'ar', 'pa', 'ap', 'gr', 'ag', 'ra', 'ph'}\n",
      "{'ad', 'ar', 'pa', 'se', 'is', 'ap', 'di', 'gr', 'ag', 'ra', 'ph'}\n",
      "{'ar', 'ap', 'ra', 'pa'}\n",
      "{'ad', 'se', 'di', 'is'}\n",
      "True\n",
      "False\n"
     ]
    }
   ],
   "source": [
    "def n_gram(target, n):\n",
    "    return [target[i:i+n]for i in range (len(target)-n+1)]\n",
    "\n",
    "x = \"paraparaparadise\"\n",
    "y = \"paragraph\"\n",
    "\n",
    "X = set(n_gram(x,2))\n",
    "Y = set(n_gram(y,2))\n",
    "print(X)\n",
    "print(Y)\n",
    "print(X | Y)\n",
    "print(X & Y)\n",
    "print(X - Y)\n",
    "print('se' in X)\n",
    "print('se' in Y)"
   ]
  },
  {
   "cell_type": "markdown",
   "metadata": {},
   "source": [
    "___\n",
    "___\n",
    "\n",
    "### 07. テンプレートによる文生成Permalink\n",
    "\n",
    "引数x, y, zを受け取り「x時のyはz」という文字列を返す関数を実装せよ．さらに，x=12, y=”気温”, z=22.4として，実行結果を確認せよ．\n",
    "___"
   ]
  },
  {
   "cell_type": "code",
   "execution_count": 91,
   "metadata": {},
   "outputs": [
    {
     "name": "stdout",
     "output_type": "stream",
     "text": [
      "12時のとき気温は22.4\n"
     ]
    }
   ],
   "source": [
    "def temperature(x,y,z):\n",
    "    print(f'{x}時のとき{y}は{z}')\n",
    "x = 12\n",
    "y = '気温'\n",
    "z = 22.4\n",
    "temperature(x,y,z)"
   ]
  },
  {
   "cell_type": "markdown",
   "metadata": {},
   "source": [
    "___\n",
    "___\n",
    "### 08. 暗号文Permalink\n",
    "与えられた文字列の各文字を，以下の仕様で変換する関数cipherを実装せよ．\n",
    "\n",
    "英小文字ならば(219 - 文字コード)の文字に置換\n",
    "その他の文字はそのまま出力\n",
    "この関数を用い，英語のメッセージを暗号化・復号化せよ\n",
    "___"
   ]
  },
  {
   "cell_type": "code",
   "execution_count": 111,
   "metadata": {},
   "outputs": [
    {
     "name": "stdout",
     "output_type": "stream",
     "text": [
      "暗号化: gsv jfrxp yildm ulc qfnkh levi gsv ozab wlt\n",
      "復号化: the quick brown fox jumps over the lazy dog\n"
     ]
    }
   ],
   "source": [
    "def cipher(str): \n",
    "    reply = [chr(219-ord(x)) if x.islower() else x for x in str]\n",
    "    \n",
    "    return ''.join(reply)\n",
    "\n",
    "message = 'the quick brown fox jumps over the lazy dog'\n",
    "message = cipher(message)\n",
    "print('暗号化:', message)\n",
    "message = cipher(message)\n",
    "print('復号化:', message)\n",
    "\n"
   ]
  },
  {
   "cell_type": "markdown",
   "metadata": {},
   "source": [
    "___\n",
    "___\n",
    "### 9. TypoglycemiaPermalink\n",
    "スペースで区切られた単語列に対して，各単語の先頭と末尾の文字は残し，それ以外の文字の順序をランダムに並び替えるプログラムを作成せよ．\n",
    "ただし，長さが４以下の単語は並び替えないこととする．\n",
    "適当な英語の文（例えば”I couldn’t believe that I could actually understand what I was reading : the phenomenal power of the human mind .”）を与え，その実行結果を確認せよ．\n",
    "___"
   ]
  },
  {
   "cell_type": "code",
   "execution_count": 108,
   "metadata": {},
   "outputs": [
    {
     "name": "stdout",
     "output_type": "stream",
     "text": [
      "I cdul’ont bveeile that I cloud aaclutly urnetnsadd what I was reidnag : the peanmnheol peowr of the hamun mind .\n"
     ]
    }
   ],
   "source": [
    "import random\n",
    "\n",
    "def shuffle(word):\n",
    "    result=[]\n",
    "    for word in words.split():\n",
    "        if len(word)>4:\n",
    "            word=word[:1]+ ''.join(random.sample(word[1:-1],len(word)-2))+word[-1:]\n",
    "        result.append(word)\n",
    "    return ' '.join(result)\n",
    "\n",
    "\n",
    "words =\"I couldn’t believe that I could actually understand what I was reading : the phenomenal power of the human mind .\"\n",
    "\n",
    "ans=(shuffle(words))\n",
    "print(ans)"
   ]
  },
  {
   "cell_type": "code",
   "execution_count": null,
   "metadata": {},
   "outputs": [],
   "source": []
  },
  {
   "cell_type": "code",
   "execution_count": null,
   "metadata": {},
   "outputs": [],
   "source": []
  }
 ],
 "metadata": {
  "kernelspec": {
   "display_name": "Python 3",
   "language": "python",
   "name": "python3"
  },
  "language_info": {
   "codemirror_mode": {
    "name": "ipython",
    "version": 3
   },
   "file_extension": ".py",
   "mimetype": "text/x-python",
   "name": "python",
   "nbconvert_exporter": "python",
   "pygments_lexer": "ipython3",
   "version": "3.7.6"
  }
 },
 "nbformat": 4,
 "nbformat_minor": 4
}
