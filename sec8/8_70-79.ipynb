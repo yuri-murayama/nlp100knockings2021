{
 "cells": [
  {
   "cell_type": "markdown",
   "metadata": {},
   "source": [
    "# 第8章: ニューラルネット"
   ]
  },
  {
   "cell_type": "code",
   "execution_count": null,
   "metadata": {},
   "outputs": [],
   "source": [
    "##データをダウンロード\n",
    "!wget https://archive.ics.uci.edu/ml/machine-learning-databases/00359/NewsAggregatorDataset.zip\n",
    "!unzip NewsAggregatorDataset.zip"
   ]
  },
  {
   "cell_type": "code",
   "execution_count": null,
   "metadata": {},
   "outputs": [],
   "source": [
    "!sed -e 's/\"/'\\''/g' ./newsCorpora.csv > ./newsCorpora_re.csv"
   ]
  },
  {
   "cell_type": "markdown",
   "metadata": {},
   "source": [
    "## 70. 単語ベクトルの和による特徴量"
   ]
  },
  {
   "cell_type": "code",
   "execution_count": 1,
   "metadata": {},
   "outputs": [],
   "source": [
    "#インポート\n",
    "import pandas as pd\n",
    "from sklearn.model_selection import train_test_split"
   ]
  },
  {
   "cell_type": "code",
   "execution_count": 2,
   "metadata": {},
   "outputs": [],
   "source": [
    "# データの読込\n",
    "df = pd.read_csv('./newsCorpora_re.csv', header=None, sep='\\t', names=['ID', 'TITLE', 'URL', 'PUBLISHER', 'CATEGORY', 'STORY', 'HOSTNAME', 'TIMESTAMP'])\n",
    "\n",
    "# データの抽出\n",
    "df = df.loc[df['PUBLISHER'].isin(['Reuters', 'Huffington Post', 'Businessweek', 'Contactmusic.com', 'Daily Mail']), ['TITLE', 'CATEGORY']]\n",
    "# データの分割\n",
    "train, valid_test = train_test_split(df, test_size=0.2, shuffle=True, random_state=123, stratify=df['CATEGORY'])\n",
    "valid, test = train_test_split(valid_test, test_size=0.5, shuffle=True, random_state=123, stratify=valid_test['CATEGORY'])"
   ]
  },
  {
   "cell_type": "code",
   "execution_count": 3,
   "metadata": {},
   "outputs": [],
   "source": [
    "from gensim.models import KeyedVectors"
   ]
  },
  {
   "cell_type": "code",
   "execution_count": 4,
   "metadata": {},
   "outputs": [],
   "source": [
    "#Word2vecのモデルを作る\n",
    "model = KeyedVectors.load_word2vec_format('GoogleNews-vectors-negative300.bin.gz', binary=True)"
   ]
  },
  {
   "cell_type": "code",
   "execution_count": 5,
   "metadata": {},
   "outputs": [],
   "source": [
    "import string\n",
    "import torch"
   ]
  },
  {
   "cell_type": "code",
   "execution_count": 6,
   "metadata": {},
   "outputs": [],
   "source": [
    "def transform_w2v(text):\n",
    "    #記号を消す\n",
    "    table = str.maketrans(string.punctuation, ' '*len(string.punctuation))\n",
    "    #スペースで区切る\n",
    "    words = text.translate(table).split()\n",
    "    #1単語ずつベクトルにする\n",
    "    vec = [model[word] for word in words if word in model]\n",
    "    \n",
    "    return torch.tensor(sum(vec) / len(vec))"
   ]
  },
  {
   "cell_type": "code",
   "execution_count": 7,
   "metadata": {},
   "outputs": [],
   "source": [
    "#特徴ベクトルを並べた行列を作る\n",
    "X_train = torch.stack([transform_w2v(text) for text in train['TITLE']])\n",
    "X_valid = torch.stack([transform_w2v(text) for text in valid['TITLE']])\n",
    "X_test = torch.stack([transform_w2v(text) for text in test['TITLE']])"
   ]
  },
  {
   "cell_type": "code",
   "execution_count": 8,
   "metadata": {},
   "outputs": [],
   "source": [
    "#カテゴリーと数字の対応関係\n",
    "category_dict = {'b' : 0, 't' : 1, 'e' : 2, 'm' : 3}"
   ]
  },
  {
   "cell_type": "code",
   "execution_count": 9,
   "metadata": {},
   "outputs": [],
   "source": [
    "#正解ラベルを並べた行列を作る\n",
    "y_train = torch.tensor(train['CATEGORY'].map(lambda x : category_dict[x]).values)\n",
    "y_valid = torch.tensor(valid['CATEGORY'].map(lambda x : category_dict[x]).values)\n",
    "y_test = torch.tensor(test['CATEGORY'].map(lambda x : category_dict[x]).values)"
   ]
  },
  {
   "cell_type": "code",
   "execution_count": 10,
   "metadata": {},
   "outputs": [],
   "source": [
    "#保存する\n",
    "torch.save(X_train, 'X_train.pt')\n",
    "torch.save(X_valid, 'X_valid.pt')\n",
    "torch.save(X_test, 'X_test.pt')\n",
    "torch.save(y_train, 'y_train.pt')\n",
    "torch.save(y_valid, 'y_valid.pt')\n",
    "torch.save(y_test, 'y_test.pt')"
   ]
  },
  {
   "cell_type": "markdown",
   "metadata": {},
   "source": [
    "## 71. 単層ニューラルネットワークによる予測"
   ]
  },
  {
   "cell_type": "code",
   "execution_count": 11,
   "metadata": {},
   "outputs": [],
   "source": [
    "from torch import nn"
   ]
  },
  {
   "cell_type": "code",
   "execution_count": 12,
   "metadata": {},
   "outputs": [],
   "source": [
    "#単層ニューラルネットワーク を作る\n",
    "class SLPNet(nn.Module):\n",
    "    def __init__(self, input_size, output_size):\n",
    "        super().__init__()\n",
    "        self.fc = nn.Linear(input_size, output_size, bias=False)\n",
    "        nn.init.normal_(self.fc.weight, 0.0, 1.0)\n",
    "        \n",
    "    def forward(self, x):\n",
    "        x = self.fc(x)\n",
    "        return x"
   ]
  },
  {
   "cell_type": "code",
   "execution_count": 13,
   "metadata": {},
   "outputs": [
    {
     "name": "stdout",
     "output_type": "stream",
     "text": [
      "tensor([[0.5941, 0.0271, 0.2973, 0.0816]], grad_fn=<SoftmaxBackward>)\n"
     ]
    }
   ],
   "source": [
    "#y_hat_1を求める\n",
    "\n",
    "#ニューラルネットワーク\n",
    "net = SLPNet(300, 4)\n",
    "y_hat_1 = torch.softmax(net(X_train[:1]), dim=-1)\n",
    "print(y_hat_1)"
   ]
  },
  {
   "cell_type": "code",
   "execution_count": 14,
   "metadata": {},
   "outputs": [
    {
     "name": "stdout",
     "output_type": "stream",
     "text": [
      "tensor([[0.5941, 0.0271, 0.2973, 0.0816],\n",
      "        [0.0164, 0.0313, 0.7799, 0.1724],\n",
      "        [0.0710, 0.0314, 0.7617, 0.1359],\n",
      "        [0.5492, 0.0083, 0.3428, 0.0998]], grad_fn=<SoftmaxBackward>)\n"
     ]
    }
   ],
   "source": [
    "#Y_hatを求める\n",
    "\n",
    "Y_hat = torch.softmax(net(X_train[:4]), dim=-1)\n",
    "print(Y_hat)"
   ]
  },
  {
   "cell_type": "markdown",
   "metadata": {},
   "source": [
    "## 72. 損失と勾配の計算"
   ]
  },
  {
   "cell_type": "code",
   "execution_count": 15,
   "metadata": {},
   "outputs": [
    {
     "name": "stdout",
     "output_type": "stream",
     "text": [
      "損失: 0.5207\n",
      "勾配:\n",
      " tensor([[-0.0340, -0.0023, -0.0028,  ..., -0.0305, -0.0176,  0.0352],\n",
      "        [ 0.0023,  0.0002,  0.0002,  ...,  0.0020,  0.0012, -0.0023],\n",
      "        [ 0.0249,  0.0017,  0.0020,  ...,  0.0223,  0.0129, -0.0258],\n",
      "        [ 0.0068,  0.0005,  0.0006,  ...,  0.0061,  0.0035, -0.0071]])\n"
     ]
    }
   ],
   "source": [
    "#クロスエントロピー損失\n",
    "criterion = nn.CrossEntropyLoss()\n",
    "loss_1 = criterion(net(X_train[:1]), y_train[:1])\n",
    "loss_1.backward()\n",
    "print(f'損失: {loss_1:.4f}')\n",
    "print(f'勾配:\\n {net.fc.weight.grad}')"
   ]
  },
  {
   "cell_type": "code",
   "execution_count": 16,
   "metadata": {},
   "outputs": [
    {
     "name": "stdout",
     "output_type": "stream",
     "text": [
      "損失: 1.7627\n",
      "勾配:\n",
      " tensor([[-4.8937e-02,  3.7776e-03,  3.2828e-03,  ..., -4.1161e-02,\n",
      "         -1.4638e-02,  4.2724e-02],\n",
      "        [-3.4154e-03, -6.2613e-03,  2.2682e-02,  ...,  2.7522e-02,\n",
      "          1.4358e-02, -5.9162e-05],\n",
      "        [ 5.6495e-02, -3.9009e-03, -4.0966e-02,  ...,  1.7435e-03,\n",
      "          2.3551e-02, -1.3969e-02],\n",
      "        [-4.1434e-03,  6.3846e-03,  1.5001e-02,  ...,  1.1896e-02,\n",
      "         -2.3271e-02, -2.8695e-02]])\n"
     ]
    }
   ],
   "source": [
    "loss = criterion(net(X_train[:4]), y_train[:4])\n",
    "loss.backward()\n",
    "print(f'損失: {loss:.4f}')\n",
    "print(f'勾配:\\n {net.fc.weight.grad}')"
   ]
  },
  {
   "cell_type": "markdown",
   "metadata": {},
   "source": [
    "## 73. 確率的勾配降下法による学習"
   ]
  },
  {
   "cell_type": "code",
   "execution_count": 17,
   "metadata": {},
   "outputs": [],
   "source": [
    "from torch.utils.data import Dataset"
   ]
  },
  {
   "cell_type": "code",
   "execution_count": 18,
   "metadata": {},
   "outputs": [],
   "source": [
    "#データセットを作る\n",
    "\n",
    "class NewsDataset(Dataset):\n",
    "    def __init__(self, X, y):\n",
    "        self.X = X\n",
    "        self.y = y\n",
    "    def __len__(self):\n",
    "        return len(self.y)\n",
    "    def __getitem__(self, idx):\n",
    "        return [self.X[idx], self.y[idx]]"
   ]
  },
  {
   "cell_type": "code",
   "execution_count": 19,
   "metadata": {},
   "outputs": [],
   "source": [
    "train_ds = NewsDataset(X_train, y_train)\n",
    "valid_ds = NewsDataset(X_valid, y_valid)\n",
    "test_ds = NewsDataset(X_test, y_test)\n",
    "\n",
    "#DataLoaderを作る\n",
    "from torch.utils.data import DataLoader\n",
    "\n",
    "train_dl = DataLoader(train_ds, batch_size=1, shuffle=True)\n",
    "valid_dl = DataLoader(valid_ds, batch_size=len(valid_ds), shuffle=False)\n",
    "test_dl = DataLoader(test_ds, batch_size=len(test_ds), shuffle=False)"
   ]
  },
  {
   "cell_type": "code",
   "execution_count": 20,
   "metadata": {},
   "outputs": [
    {
     "name": "stdout",
     "output_type": "stream",
     "text": [
      "Epoch 1/10 | loss_train : 0.4567 | loss_valid : 0.3641\n",
      "Epoch 2/10 | loss_train : 0.3110 | loss_valid : 0.3334\n",
      "Epoch 3/10 | loss_train : 0.2821 | loss_valid : 0.3216\n",
      "Epoch 4/10 | loss_train : 0.2662 | loss_valid : 0.3173\n",
      "Epoch 5/10 | loss_train : 0.2560 | loss_valid : 0.3153\n",
      "Epoch 6/10 | loss_train : 0.2489 | loss_valid : 0.3135\n",
      "Epoch 7/10 | loss_train : 0.2431 | loss_valid : 0.3144\n",
      "Epoch 8/10 | loss_train : 0.2390 | loss_valid : 0.3153\n",
      "Epoch 9/10 | loss_train : 0.2361 | loss_valid : 0.3117\n",
      "Epoch 10/10 | loss_train : 0.2330 | loss_valid : 0.3138\n"
     ]
    }
   ],
   "source": [
    "net = SLPNet(300, 4)\n",
    "\n",
    "criterion = nn.CrossEntropyLoss()\n",
    "\n",
    "#optimizerを作る\n",
    "optimizer = torch.optim.SGD(net.parameters(), lr=1e-1)\n",
    "\n",
    "num_epochs = 10\n",
    "\n",
    "\n",
    "for epoch in range(num_epochs):\n",
    "    #モデルを訓練モードにする\n",
    "    net.train()\n",
    "    #エポックの損失和\n",
    "    loss_train = 0.0\n",
    "    \n",
    "    for i, (inputs, labels) in enumerate(train_dl):\n",
    "        #optimizerを初期化する\n",
    "        optimizer.zero_grad()\n",
    "        \n",
    "        outputs = net(inputs)\n",
    "        loss = criterion(outputs, labels)\n",
    "        #バックプロパゲーション\n",
    "        loss.backward()\n",
    "        optimizer.step()\n",
    "        \n",
    "        loss_train += loss.item()\n",
    "        \n",
    "    loss_train = loss_train / i\n",
    "    #モデルを評価モードにする\n",
    "    net.eval()\n",
    "    \n",
    "    with torch.no_grad():\n",
    "        inputs, labels = next(iter(valid_dl))\n",
    "        outputs = net(inputs)\n",
    "        loss_valid = criterion(outputs, labels)\n",
    "        \n",
    "    print('Epoch {}/{} | loss_train : {:.4f} | loss_valid : {:.4f}'.format(epoch+1, num_epochs, loss_train, loss_valid))"
   ]
  },
  {
   "cell_type": "markdown",
   "metadata": {},
   "source": [
    "## 74. 正解率の計測"
   ]
  },
  {
   "cell_type": "code",
   "execution_count": 21,
   "metadata": {},
   "outputs": [],
   "source": [
    "#正解率を計算する\n",
    "def calc_accuracy(net, dataloader):\n",
    "    net.eval()\n",
    "    total = 0\n",
    "    correct = 0\n",
    "    \n",
    "    with torch.no_grad():\n",
    "        for inputs, labels in dataloader:\n",
    "            outputs = net(inputs)\n",
    "            pred = torch.argmax(outputs, dim=-1)\n",
    "            total += len(inputs)\n",
    "            correct += (pred == labels).sum().item()\n",
    "            \n",
    "    return correct / total"
   ]
  },
  {
   "cell_type": "code",
   "execution_count": 22,
   "metadata": {},
   "outputs": [
    {
     "name": "stdout",
     "output_type": "stream",
     "text": [
      "正解率(学習データ): 0.9226\n",
      "正解率(評価データ): 0.9064\n"
     ]
    }
   ],
   "source": [
    "accuracy_train = calc_accuracy(net, train_dl)\n",
    "accuracy_test = calc_accuracy(net, test_dl)\n",
    "\n",
    "print('正解率(学習データ): {:.4f}'.format(accuracy_train))\n",
    "print('正解率(評価データ): {:.4f}'.format(accuracy_test))"
   ]
  },
  {
   "cell_type": "markdown",
   "metadata": {},
   "source": [
    "## 75. 損失と正解率のプロット"
   ]
  },
  {
   "cell_type": "code",
   "execution_count": 23,
   "metadata": {},
   "outputs": [],
   "source": [
    "#損失と正解率を計算する\n",
    "def calc_loss_accuracy(net, dataloader, criterion):\n",
    "    net.eval()\n",
    "    loss = 0.0\n",
    "    total = 0\n",
    "    correct = 0\n",
    "    \n",
    "    with torch.no_grad():\n",
    "        for inputs, labels in dataloader:\n",
    "            outputs = net(inputs)\n",
    "            loss += criterion(outputs, labels).item()\n",
    "            pred = torch.argmax(outputs, dim=-1)\n",
    "            total += len(inputs)\n",
    "            correct += (pred == labels).sum().item()\n",
    "            \n",
    "    return loss / len(dataloader), correct/total"
   ]
  },
  {
   "cell_type": "code",
   "execution_count": 24,
   "metadata": {},
   "outputs": [
    {
     "name": "stdout",
     "output_type": "stream",
     "text": [
      "Epoch 1/30 | loss_train : 0.3307 | acc_train : 0.8819 | loss_valid : 0.3532 | acc_valid : 0.8683\n",
      "Epoch 2/30 | loss_train : 0.2881 | acc_train : 0.9026 | loss_valid : 0.3194 | acc_valid : 0.9004\n",
      "Epoch 3/30 | loss_train : 0.2694 | acc_train : 0.9077 | loss_valid : 0.3127 | acc_valid : 0.8862\n",
      "Epoch 4/30 | loss_train : 0.2546 | acc_train : 0.9119 | loss_valid : 0.3065 | acc_valid : 0.8952\n",
      "Epoch 5/30 | loss_train : 0.2439 | acc_train : 0.9177 | loss_valid : 0.2990 | acc_valid : 0.9019\n",
      "Epoch 6/30 | loss_train : 0.2378 | acc_train : 0.9203 | loss_valid : 0.2994 | acc_valid : 0.9012\n",
      "Epoch 7/30 | loss_train : 0.2334 | acc_train : 0.9217 | loss_valid : 0.2993 | acc_valid : 0.8997\n",
      "Epoch 8/30 | loss_train : 0.2303 | acc_train : 0.9226 | loss_valid : 0.3008 | acc_valid : 0.8975\n",
      "Epoch 9/30 | loss_train : 0.2287 | acc_train : 0.9244 | loss_valid : 0.3038 | acc_valid : 0.9004\n",
      "Epoch 10/30 | loss_train : 0.2255 | acc_train : 0.9226 | loss_valid : 0.3046 | acc_valid : 0.8997\n",
      "Epoch 11/30 | loss_train : 0.2237 | acc_train : 0.9253 | loss_valid : 0.3037 | acc_valid : 0.8967\n",
      "Epoch 12/30 | loss_train : 0.2256 | acc_train : 0.9239 | loss_valid : 0.3068 | acc_valid : 0.8945\n",
      "Epoch 13/30 | loss_train : 0.2192 | acc_train : 0.9271 | loss_valid : 0.3045 | acc_valid : 0.8982\n",
      "Epoch 14/30 | loss_train : 0.2218 | acc_train : 0.9245 | loss_valid : 0.3087 | acc_valid : 0.8990\n",
      "Epoch 15/30 | loss_train : 0.2171 | acc_train : 0.9275 | loss_valid : 0.3072 | acc_valid : 0.8967\n",
      "Epoch 16/30 | loss_train : 0.2148 | acc_train : 0.9277 | loss_valid : 0.3079 | acc_valid : 0.8952\n",
      "Epoch 17/30 | loss_train : 0.2148 | acc_train : 0.9277 | loss_valid : 0.3101 | acc_valid : 0.8945\n",
      "Epoch 18/30 | loss_train : 0.2131 | acc_train : 0.9282 | loss_valid : 0.3086 | acc_valid : 0.8937\n",
      "Epoch 19/30 | loss_train : 0.2141 | acc_train : 0.9262 | loss_valid : 0.3106 | acc_valid : 0.8960\n",
      "Epoch 20/30 | loss_train : 0.2109 | acc_train : 0.9292 | loss_valid : 0.3097 | acc_valid : 0.8982\n",
      "Epoch 21/30 | loss_train : 0.2135 | acc_train : 0.9301 | loss_valid : 0.3135 | acc_valid : 0.8960\n",
      "Epoch 22/30 | loss_train : 0.2117 | acc_train : 0.9278 | loss_valid : 0.3164 | acc_valid : 0.8960\n",
      "Epoch 23/30 | loss_train : 0.2105 | acc_train : 0.9282 | loss_valid : 0.3157 | acc_valid : 0.8982\n",
      "Epoch 24/30 | loss_train : 0.2114 | acc_train : 0.9300 | loss_valid : 0.3177 | acc_valid : 0.8930\n",
      "Epoch 25/30 | loss_train : 0.2118 | acc_train : 0.9266 | loss_valid : 0.3229 | acc_valid : 0.8937\n",
      "Epoch 26/30 | loss_train : 0.2085 | acc_train : 0.9274 | loss_valid : 0.3194 | acc_valid : 0.8915\n",
      "Epoch 27/30 | loss_train : 0.2119 | acc_train : 0.9303 | loss_valid : 0.3208 | acc_valid : 0.8892\n",
      "Epoch 28/30 | loss_train : 0.2083 | acc_train : 0.9306 | loss_valid : 0.3202 | acc_valid : 0.8960\n",
      "Epoch 29/30 | loss_train : 0.2110 | acc_train : 0.9284 | loss_valid : 0.3240 | acc_valid : 0.8915\n",
      "Epoch 30/30 | loss_train : 0.2074 | acc_train : 0.9297 | loss_valid : 0.3215 | acc_valid : 0.8960\n"
     ]
    }
   ],
   "source": [
    "#モデルを作る\n",
    "net = SLPNet(300, 4)\n",
    "#criterionを作る\n",
    "criterion = nn.CrossEntropyLoss()\n",
    "#optimizer\n",
    "optimizer = torch.optim.SGD(net.parameters(), lr=1e-1)\n",
    "\n",
    "num_epochs = 30\n",
    "\n",
    "#訓練データと検証データの損失と正解率を記録する\n",
    "log_train = []\n",
    "log_valid = []\n",
    "\n",
    "for epoch in range(num_epochs):\n",
    "    \n",
    "    \n",
    "    net.train()\n",
    "    loss_train = 0.0\n",
    "    \n",
    "    for i, (inputs, labels) in enumerate(train_dl):\n",
    "    \n",
    "        optimizer.zero_grad()\n",
    "        \n",
    "        outputs = net(inputs)\n",
    "        loss = criterion(outputs, labels)\n",
    "        loss.backward()\n",
    "        optimizer.step()\n",
    "\n",
    "    \n",
    "    loss_train, acc_train = calc_loss_accuracy(net, train_dl, criterion)\n",
    "    loss_valid, acc_valid = calc_loss_accuracy(net, valid_dl, criterion)\n",
    "    \n",
    "    log_train.append([loss_train, acc_train])\n",
    "    log_valid.append([loss_valid, acc_valid])\n",
    "    \n",
    "        \n",
    "    print('Epoch {}/{} | loss_train : {:.4f} | acc_train : {:.4f} | loss_valid : {:.4f} | acc_valid : {:.4f}'.format(epoch+1, num_epochs, loss_train, acc_train, loss_valid, acc_valid))"
   ]
  },
  {
   "cell_type": "code",
   "execution_count": 25,
   "metadata": {},
   "outputs": [
    {
     "data": {
      "image/png": "[encoded data removed]",
      "text/plain": [
       "<Figure size 1080x360 with 2 Axes>"
      ]
     },
     "metadata": {
      "needs_background": "light"
     },
     "output_type": "display_data"
    }
   ],
   "source": [
    "import matplotlib.pyplot as plt\n",
    "import numpy as np\n",
    "fig, ax = plt.subplots(1, 2, figsize=(15, 5))\n",
    "ax[0].plot(np.array(log_train).T[0], label='train')\n",
    "ax[0].plot(np.array(log_valid).T[0], label='valid')\n",
    "ax[0].set_xlabel('epoch')\n",
    "ax[0].set_ylabel('loss')\n",
    "ax[0].legend()\n",
    "ax[1].plot(np.array(log_train).T[1], label='train')\n",
    "ax[1].plot(np.array(log_valid).T[1], label='valid')\n",
    "ax[1].set_xlabel('epoch')\n",
    "ax[1].set_ylabel('accuracy')\n",
    "ax[1].legend()\n",
    "plt.show()"
   ]
  },
  {
   "cell_type": "markdown",
   "metadata": {},
   "source": [
    "## 76. チェックポイント"
   ]
  },
  {
   "cell_type": "code",
   "execution_count": 26,
   "metadata": {},
   "outputs": [
    {
     "name": "stdout",
     "output_type": "stream",
     "text": [
      "Epoch 1/30 | loss_train : 0.3417 | acc_train : 0.8812 | loss_valid : 0.3624 | acc_valid : 0.8810\n",
      "Epoch 2/30 | loss_train : 0.2841 | acc_train : 0.9036 | loss_valid : 0.3164 | acc_valid : 0.8945\n",
      "Epoch 3/30 | loss_train : 0.2661 | acc_train : 0.9099 | loss_valid : 0.3060 | acc_valid : 0.8997\n",
      "Epoch 4/30 | loss_train : 0.2534 | acc_train : 0.9125 | loss_valid : 0.3038 | acc_valid : 0.9004\n",
      "Epoch 5/30 | loss_train : 0.2453 | acc_train : 0.9186 | loss_valid : 0.3006 | acc_valid : 0.9042\n",
      "Epoch 6/30 | loss_train : 0.2419 | acc_train : 0.9178 | loss_valid : 0.3042 | acc_valid : 0.8990\n",
      "Epoch 7/30 | loss_train : 0.2355 | acc_train : 0.9196 | loss_valid : 0.3049 | acc_valid : 0.8997\n",
      "Epoch 8/30 | loss_train : 0.2308 | acc_train : 0.9217 | loss_valid : 0.2992 | acc_valid : 0.9004\n",
      "Epoch 9/30 | loss_train : 0.2273 | acc_train : 0.9244 | loss_valid : 0.3017 | acc_valid : 0.8975\n",
      "Epoch 10/30 | loss_train : 0.2248 | acc_train : 0.9240 | loss_valid : 0.3009 | acc_valid : 0.9004\n",
      "Epoch 11/30 | loss_train : 0.2247 | acc_train : 0.9254 | loss_valid : 0.3020 | acc_valid : 0.8937\n",
      "Epoch 12/30 | loss_train : 0.2202 | acc_train : 0.9270 | loss_valid : 0.3038 | acc_valid : 0.8952\n",
      "Epoch 13/30 | loss_train : 0.2223 | acc_train : 0.9245 | loss_valid : 0.3075 | acc_valid : 0.8967\n",
      "Epoch 14/30 | loss_train : 0.2247 | acc_train : 0.9222 | loss_valid : 0.3134 | acc_valid : 0.8922\n",
      "Epoch 15/30 | loss_train : 0.2156 | acc_train : 0.9270 | loss_valid : 0.3060 | acc_valid : 0.8982\n",
      "Epoch 16/30 | loss_train : 0.2158 | acc_train : 0.9273 | loss_valid : 0.3079 | acc_valid : 0.8930\n",
      "Epoch 17/30 | loss_train : 0.2154 | acc_train : 0.9285 | loss_valid : 0.3084 | acc_valid : 0.8952\n",
      "Epoch 18/30 | loss_train : 0.2126 | acc_train : 0.9280 | loss_valid : 0.3103 | acc_valid : 0.8990\n",
      "Epoch 19/30 | loss_train : 0.2120 | acc_train : 0.9296 | loss_valid : 0.3107 | acc_valid : 0.8967\n",
      "Epoch 20/30 | loss_train : 0.2137 | acc_train : 0.9291 | loss_valid : 0.3140 | acc_valid : 0.8915\n",
      "Epoch 21/30 | loss_train : 0.2126 | acc_train : 0.9271 | loss_valid : 0.3151 | acc_valid : 0.8945\n",
      "Epoch 22/30 | loss_train : 0.2103 | acc_train : 0.9295 | loss_valid : 0.3136 | acc_valid : 0.8960\n",
      "Epoch 23/30 | loss_train : 0.2111 | acc_train : 0.9289 | loss_valid : 0.3137 | acc_valid : 0.8930\n",
      "Epoch 24/30 | loss_train : 0.2100 | acc_train : 0.9287 | loss_valid : 0.3170 | acc_valid : 0.8960\n",
      "Epoch 25/30 | loss_train : 0.2102 | acc_train : 0.9307 | loss_valid : 0.3164 | acc_valid : 0.8930\n",
      "Epoch 26/30 | loss_train : 0.2079 | acc_train : 0.9298 | loss_valid : 0.3178 | acc_valid : 0.8915\n",
      "Epoch 27/30 | loss_train : 0.2078 | acc_train : 0.9291 | loss_valid : 0.3187 | acc_valid : 0.8930\n",
      "Epoch 28/30 | loss_train : 0.2080 | acc_train : 0.9299 | loss_valid : 0.3206 | acc_valid : 0.8945\n",
      "Epoch 29/30 | loss_train : 0.2068 | acc_train : 0.9306 | loss_valid : 0.3194 | acc_valid : 0.8952\n",
      "Epoch 30/30 | loss_train : 0.2137 | acc_train : 0.9266 | loss_valid : 0.3281 | acc_valid : 0.8907\n"
     ]
    }
   ],
   "source": [
    "net = SLPNet(300, 4)\n",
    "\n",
    "criterion = nn.CrossEntropyLoss()\n",
    "\n",
    "optimizer = torch.optim.SGD(net.parameters(), lr=1e-1)\n",
    "\n",
    "num_epochs = 30\n",
    "log_train = []\n",
    "log_valid = []\n",
    "\n",
    "for epoch in range(num_epochs):\n",
    "    \n",
    "    \n",
    "    net.train()\n",
    "    loss_train = 0.0\n",
    "    \n",
    "    for i, (inputs, labels) in enumerate(train_dl):\n",
    "    \n",
    "        optimizer.zero_grad()\n",
    "        \n",
    "        outputs = net(inputs)\n",
    "        loss = criterion(outputs, labels)\n",
    "        loss.backward()\n",
    "        optimizer.step()\n",
    "\n",
    "    \n",
    "    loss_train, acc_train = calc_loss_accuracy(net, train_dl, criterion)\n",
    "    loss_valid, acc_valid = calc_loss_accuracy(net, valid_dl, criterion)\n",
    "    \n",
    "    log_train.append([loss_train, acc_train])\n",
    "    log_valid.append([loss_valid, acc_valid])\n",
    "    \n",
    "    #エポックごとに記録\n",
    "    torch.save({'epoch': epoch, 'model_state_dict': net.state_dict(), 'optimizer_state_dict': optimizer.state_dict()}, f'checkpoint{epoch + 1}.pt')\n",
    "    \n",
    "        \n",
    "    print('Epoch {}/{} | loss_train : {:.4f} | acc_train : {:.4f} | loss_valid : {:.4f} | acc_valid : {:.4f}'.format(epoch+1, num_epochs, loss_train, acc_train, loss_valid, acc_valid))"
   ]
  },
  {
   "cell_type": "markdown",
   "metadata": {},
   "source": [
    "## 77. ミニバッチ化"
   ]
  },
  {
   "cell_type": "code",
   "execution_count": 27,
   "metadata": {},
   "outputs": [],
   "source": [
    "import time\n",
    "def train_model(net, train_ds, dataset_dl, criterion, optimizer, num_epochs, batch_size):\n",
    "    train_dl = DataLoader(train_ds, batch_size=batch_size, shuffle=True)\n",
    "    valid_dl = DataLoader(valid_ds, batch_size=len(valid_ds), shuffle=False)\n",
    "    \n",
    "    log_train = []\n",
    "    log_valid = []\n",
    "    \n",
    "    for epoch in range(num_epochs):\n",
    "        net.train()\n",
    "        #開始時間\n",
    "        start_time = time.time()\n",
    "        \n",
    "        for inputs, labels in train_dl:\n",
    "            optimizer.zero_grad()\n",
    "            outputs = net(inputs)\n",
    "            loss = criterion(outputs, labels)\n",
    "            loss.backward()\n",
    "            optimizer.step()\n",
    "            \n",
    "            \n",
    "        loss_train, acc_train = calc_loss_accuracy(net, train_dl, criterion)\n",
    "        loss_valid, acc_valid = calc_loss_accuracy(net, valid_dl, criterion)\n",
    "    \n",
    "        log_train.append([loss_train, acc_train])\n",
    "        log_valid.append([loss_valid, acc_valid])\n",
    "    \n",
    "        torch.save({'epoch': epoch, 'model_state_dict': net.state_dict(), 'optimizer_state_dict': optimizer.state_dict()}, f'checkpoint{epoch + 1}.pt')\n",
    "        #終了時間\n",
    "        end_time = time.time()\n",
    "        \n",
    "        print('Epoch {}/{} | loss_train : {:.4f} | acc_train : {:.4f} | loss_valid : {:.4f} | acc_valid : {:.4f} | time : {:.4f}'.format(epoch+1, num_epochs, loss_train, acc_train, loss_valid, acc_valid, (end_time - start_time)))\n",
    "    return {'train' : log_train, 'valid' : log_valid}   "
   ]
  },
  {
   "cell_type": "code",
   "execution_count": 28,
   "metadata": {},
   "outputs": [
    {
     "name": "stdout",
     "output_type": "stream",
     "text": [
      "バッチサイズ :  1\n",
      "Epoch 1/1 | loss_train : 0.3373 | acc_train : 0.8830 | loss_valid : 0.3612 | acc_valid : 0.8750 | time : 4.1328\n",
      "バッチサイズ :  2\n",
      "Epoch 1/1 | loss_train : 0.3052 | acc_train : 0.8947 | loss_valid : 0.3376 | acc_valid : 0.8855 | time : 1.8343\n",
      "バッチサイズ :  4\n",
      "Epoch 1/1 | loss_train : 0.2951 | acc_train : 0.8975 | loss_valid : 0.3300 | acc_valid : 0.8870 | time : 1.0154\n",
      "バッチサイズ :  8\n",
      "Epoch 1/1 | loss_train : 0.2912 | acc_train : 0.8996 | loss_valid : 0.3277 | acc_valid : 0.8862 | time : 0.5865\n",
      "バッチサイズ :  16\n",
      "Epoch 1/1 | loss_train : 0.2891 | acc_train : 0.8999 | loss_valid : 0.3265 | acc_valid : 0.8892 | time : 0.4275\n",
      "バッチサイズ :  32\n",
      "Epoch 1/1 | loss_train : 0.2884 | acc_train : 0.8998 | loss_valid : 0.3259 | acc_valid : 0.8892 | time : 0.2690\n",
      "バッチサイズ :  64\n",
      "Epoch 1/1 | loss_train : 0.2877 | acc_train : 0.9001 | loss_valid : 0.3256 | acc_valid : 0.8900 | time : 0.1954\n",
      "バッチサイズ :  128\n",
      "Epoch 1/1 | loss_train : 0.2872 | acc_train : 0.9004 | loss_valid : 0.3255 | acc_valid : 0.8907 | time : 0.1529\n",
      "バッチサイズ :  256\n",
      "Epoch 1/1 | loss_train : 0.2869 | acc_train : 0.9004 | loss_valid : 0.3254 | acc_valid : 0.8907 | time : 0.1405\n",
      "バッチサイズ :  512\n",
      "Epoch 1/1 | loss_train : 0.2871 | acc_train : 0.9004 | loss_valid : 0.3253 | acc_valid : 0.8907 | time : 0.1302\n",
      "バッチサイズ :  1024\n",
      "Epoch 1/1 | loss_train : 0.2866 | acc_train : 0.9004 | loss_valid : 0.3253 | acc_valid : 0.8907 | time : 0.1317\n"
     ]
    }
   ],
   "source": [
    "\n",
    "net = SLPNet(300, 4)\n",
    "\n",
    "criterion = nn.CrossEntropyLoss()\n",
    "\n",
    "optimizer = torch.optim.SGD(net.parameters(), lr=1e-1)\n",
    "num_epochs = 1\n",
    "\n",
    "for batch_size in [2**i for i in range(11)]:\n",
    "    print('バッチサイズ : ', batch_size)\n",
    "    log = train_model(net, train_ds, valid_ds, criterion, optimizer, num_epochs, batch_size)"
   ]
  },
  {
   "cell_type": "markdown",
   "metadata": {},
   "source": [
    "## 78. GPU上での学習"
   ]
  },
  {
   "cell_type": "code",
   "execution_count": 29,
   "metadata": {},
   "outputs": [],
   "source": [
    "def calc_loss_accuracy(net, dataloader, criterion, device):\n",
    "    net.eval()\n",
    "    loss = 0.0\n",
    "    total = 0\n",
    "    correct = 0\n",
    "    \n",
    "    with torch.no_grad():\n",
    "        for inputs, labels in dataloader:\n",
    "            #inputsとlabelsをdeviceに送る\n",
    "            inputs = inputs.to(device)\n",
    "            labels = labels.to(device)\n",
    "            \n",
    "            outputs = net(inputs)\n",
    "            loss += criterion(outputs, labels).item()\n",
    "            pred = torch.argmax(outputs, dim=-1)\n",
    "            total += len(inputs)\n",
    "            correct += (pred == labels).sum().item()\n",
    "            \n",
    "    return loss / len(dataloader), correct/total\n",
    "\n",
    "def train_model(net, train_ds, dataset_dl, criterion, optimizer, num_epochs, batch_size, device):\n",
    "    train_dl = DataLoader(train_ds, batch_size=batch_size, shuffle=True)\n",
    "    valid_dl = DataLoader(valid_ds, batch_size=len(valid_ds), shuffle=False)\n",
    "    \n",
    "    log_train = []\n",
    "    log_valid = []\n",
    "    #モデルをdeviceに送る\n",
    "    net.to(device)\n",
    "    \n",
    "    for epoch in range(num_epochs):\n",
    "        net.train()\n",
    "        start_time = time.time()\n",
    "        \n",
    "        for inputs, labels in train_dl:\n",
    "            inputs = inputs.to(device)\n",
    "            labels = labels.to(device)\n",
    "            \n",
    "            optimizer.zero_grad()\n",
    "            outputs = net.forward(inputs)\n",
    "            loss = criterion(outputs, labels)\n",
    "            loss.backward()\n",
    "            optimizer.step()\n",
    "            \n",
    "            \n",
    "        loss_train, acc_train = calc_loss_accuracy(net, train_dl, criterion, device)\n",
    "        loss_valid, acc_valid = calc_loss_accuracy(net, valid_dl, criterion, device)\n",
    "    \n",
    "        log_train.append([loss_train, acc_train])\n",
    "        log_valid.append([loss_valid, acc_valid])\n",
    "    \n",
    "        torch.save({'epoch': epoch, 'model_state_dict': net.state_dict(), 'optimizer_state_dict': optimizer.state_dict()}, f'checkpoint{epoch + 1}.pt')\n",
    "        \n",
    "        end_time = time.time()\n",
    "        \n",
    "        print('Epoch {}/{} | loss_train : {:.4f} | acc_train : {:.4f} | loss_valid : {:.4f} | acc_valid : {:.4f} | time : {:.4f}'.format(epoch+1, num_epochs, loss_train, acc_train, loss_valid, acc_valid, (end_time - start_time)))\n",
    "    return {'train' : log_train, 'valid' : log_valid}   "
   ]
  },
  {
   "cell_type": "code",
   "execution_count": null,
   "metadata": {},
   "outputs": [
    {
     "name": "stdout",
     "output_type": "stream",
     "text": [
      "使用デバイス:  cuda:0\n",
      "---start---\n",
      "バッチサイズ :  1\n"
     ]
    }
   ],
   "source": [
    "net = SLPNet(300, 4)\n",
    "\n",
    "criterion = nn.CrossEntropyLoss()\n",
    "\n",
    "optimizer = torch.optim.SGD(net.parameters(), lr=1e-1)\n",
    "num_epochs = 1\n",
    "\n",
    "#GPUが使用可能ならば使用する\n",
    "device = torch.device('cuda:0' if torch.cuda.is_available() else 'cpu')\n",
    "print('使用デバイス: ',device)\n",
    "print('---start---')\n",
    "\n",
    "for batch_size in [2**i for i in range(11)]:\n",
    "    print('バッチサイズ : ', batch_size)\n",
    "    log = train_model(net, train_ds, valid_ds, criterion, optimizer, num_epochs, batch_size, device)"
   ]
  },
  {
   "cell_type": "markdown",
   "metadata": {},
   "source": [
    "## 79. 多層ニューラルネットワーク"
   ]
  },
  {
   "cell_type": "code",
   "execution_count": null,
   "metadata": {},
   "outputs": [],
   "source": [
    "#多層ニューラルネットワーク\n",
    "from torch.nn import functional as F\n",
    "class MLPNet(nn.Module):\n",
    "    def __init__(self, input_size, mid_size, output_size, num_mid_layers):\n",
    "        super().__init__()\n",
    "        self.num_mid_layers = num_mid_layers\n",
    "        self.fc = nn.Linear(input_size, mid_size)\n",
    "        self.fc_mid = nn.Linear(mid_size, mid_size)\n",
    "        self.fc_out = nn.Linear(mid_size, output_size)\n",
    "        self.bn = nn.BatchNorm1d(mid_size)\n",
    "        \n",
    "    def forward(self, x):\n",
    "        x = F.relu(self.fc(x))\n",
    "        for _ in range(self.num_mid_layers):\n",
    "            x = F.relu(self.bn(self.fc_mid(x)))\n",
    "        x = F.relu(self.fc_out(x))\n",
    "        return x"
   ]
  },
  {
   "cell_type": "code",
   "execution_count": null,
   "metadata": {},
   "outputs": [],
   "source": [
    "def train_model(net, train_ds, dataset_dl, criterion, optimizer, num_epochs, batch_size, device):\n",
    "    train_dl = DataLoader(train_ds, batch_size=batch_size, shuffle=True)\n",
    "    valid_dl = DataLoader(valid_ds, batch_size=len(valid_ds), shuffle=False)\n",
    "    \n",
    "    log_train = []\n",
    "    log_valid = []\n",
    "    \n",
    "    net.to(device)\n",
    "    \n",
    "    \n",
    "    #schedulerを作る(StepLR使用)\n",
    "    scheduler = torch.optim.lr_scheduler.StepLR(optimizer, step_size=10, gamma=0.1)\n",
    "    \n",
    "    for epoch in range(num_epochs):\n",
    "        net.train()\n",
    "        start_time = time.time()\n",
    "        \n",
    "        for inputs, labels in train_dl:\n",
    "            inputs = inputs.to(device)\n",
    "            labels = labels.to(device)\n",
    "            \n",
    "            optimizer.zero_grad()\n",
    "            outputs = net.forward(inputs)\n",
    "            loss = criterion(outputs, labels)\n",
    "            loss.backward()\n",
    "            optimizer.step()\n",
    "            \n",
    "            \n",
    "        loss_train, acc_train = calc_loss_accuracy(net, train_dl, criterion, device)\n",
    "        loss_valid, acc_valid = calc_loss_accuracy(net, valid_dl, criterion, device)\n",
    "    \n",
    "        log_train.append([loss_train, acc_train])\n",
    "        log_valid.append([loss_valid, acc_valid])\n",
    "    \n",
    "        torch.save({'epoch': epoch, 'model_state_dict': net.state_dict(), 'optimizer_state_dict': optimizer.state_dict()}, f'checkpoint{epoch + 1}.pt')\n",
    "        \n",
    "        end_time = time.time()\n",
    "        \n",
    "        if epoch > 2 and log_valid[epoch - 3][0] <= log_valid[epoch - 2][0] <= log_valid[epoch - 1][0] <= log_valid[epoch][0]:\n",
    "            break\n",
    "        \n",
    "        scheduler.step()\n",
    "        \n",
    "        print('Epoch {}/{} | loss_train : {:.4f} | acc_train : {:.4f} | loss_valid : {:.4f} | acc_valid : {:.4f} | time : {:.4f}'.format(epoch+1, num_epochs, loss_train, acc_train, loss_valid, acc_valid, (end_time - start_time)))\n",
    "    return {'train' : log_train, 'valid' : log_valid}   "
   ]
  },
  {
   "cell_type": "code",
   "execution_count": null,
   "metadata": {},
   "outputs": [],
   "source": [
    "net = MLPNet(300, 200, 4, 1)\n",
    "criterion = nn.CrossEntropyLoss()\n",
    "optimizer = torch.optim.SGD(net.parameters(), lr=1e-1)\n",
    "num_epochs = 1000\n",
    "batch_size = 24\n",
    "device = torch.device('cuda:0' if torch.cuda.is_available() else 'cpu')\n",
    "print('使用デバイス: ',device)\n",
    "print('---start---')\n",
    "log = train_model(net, train_ds, valid_ds, criterion, optimizer, num_epochs, batch_size, device)"
   ]
  },
  {
   "cell_type": "code",
   "execution_count": null,
   "metadata": {},
   "outputs": [],
   "source": [
    "#評価データで正解率を求める\n",
    "test_dl = DataLoader(test_ds, batch_size=len(test_ds), shuffle=False)\n",
    "print(calc_loss_accuracy(net, test_dl, criterion, device))"
   ]
  },
  {
   "cell_type": "code",
   "execution_count": null,
   "metadata": {},
   "outputs": [],
   "source": []
  }
 ],
 "metadata": {
  "kernelspec": {
   "display_name": "Python 3",
   "language": "python",
   "name": "python3"
  },
  "language_info": {
   "codemirror_mode": {
    "name": "ipython",
    "version": 3
   },
   "file_extension": ".py",
   "mimetype": "text/x-python",
   "name": "python",
   "nbconvert_exporter": "python",
   "pygments_lexer": "ipython3",
   "version": "3.7.3"
  }
 },
 "nbformat": 4,
 "nbformat_minor": 4
}
