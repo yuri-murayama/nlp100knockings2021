{
 "cells": [
  {
   "cell_type": "markdown",
   "id": "approved-movie",
   "metadata": {},
   "source": [
    "## 50. データの入手・整形"
   ]
  },
  {
   "cell_type": "code",
   "execution_count": 1,
   "id": "electrical-consideration",
   "metadata": {},
   "outputs": [],
   "source": [
    "#各種インポート\n",
    "import pandas as pd\n",
    "from sklearn.model_selection import train_test_split"
   ]
  },
  {
   "cell_type": "code",
   "execution_count": 2,
   "id": "musical-three",
   "metadata": {},
   "outputs": [],
   "source": [
    "#データ読み込み\n",
    "df = pd.read_csv('newsCorpora.csv', header=None, sep='\\t', names=['ID', 'TITLE', 'URL', 'PUBLISHER', 'CATEGORY', 'STORY', 'HOSTNAME', 'TIMESTAMP'])"
   ]
  },
  {
   "cell_type": "code",
   "execution_count": 3,
   "id": "adjacent-alexandria",
   "metadata": {},
   "outputs": [],
   "source": [
    "#データの抽出\n",
    "df = df.loc[df['PUBLISHER'].isin(['Reuters', 'Huffington Post', 'Businessweek', 'Contactmusic.com', 'Daily Mail']), ['TITLE', 'CATEGORY']]"
   ]
  },
  {
   "cell_type": "code",
   "execution_count": 4,
   "id": "center-approval",
   "metadata": {},
   "outputs": [],
   "source": [
    "#データの分割\n",
    "train, valid_test = train_test_split(df,test_size=0.2,shuffle=True,random_state=56,stratify=df['CATEGORY'])\n",
    "valid, test = train_test_split(valid_test,test_size=0.5,shuffle=True,random_state=56,stratify=valid_test['CATEGORY'])"
   ]
  },
  {
   "cell_type": "code",
   "execution_count": 5,
   "id": "destroyed-actress",
   "metadata": {},
   "outputs": [],
   "source": [
    "#TSVにして出力\n",
    "train.to_csv('train.txt',sep='\\t',index=False)\n",
    "valid.to_csv('valid.txt',sep='\\t',index=False)\n",
    "test.to_csv('test.txt',sep='\\t',index=False)"
   ]
  },
  {
   "cell_type": "code",
   "execution_count": 6,
   "id": "governmental-uncle",
   "metadata": {},
   "outputs": [
    {
     "name": "stdout",
     "output_type": "stream",
     "text": [
      "学習データ:\n",
      "b    4501\n",
      "e    4235\n",
      "t    1220\n",
      "m     728\n",
      "Name: CATEGORY, dtype: int64\n",
      "検証データ:\n",
      "b    563\n",
      "e    530\n",
      "t    152\n",
      "m     91\n",
      "Name: CATEGORY, dtype: int64\n",
      "評価データ:\n",
      "b    563\n",
      "e    529\n",
      "t    153\n",
      "m     91\n",
      "Name: CATEGORY, dtype: int64\n"
     ]
    }
   ],
   "source": [
    "#データ数の確認\n",
    "print('学習データ:')\n",
    "print(train['CATEGORY'].value_counts())\n",
    "print('検証データ:')\n",
    "print(valid['CATEGORY'].value_counts())\n",
    "print('評価データ:')\n",
    "print(test['CATEGORY'].value_counts())"
   ]
  },
  {
   "cell_type": "markdown",
   "id": "approved-neutral",
   "metadata": {},
   "source": [
    "## 51. 特徴量抽出"
   ]
  },
  {
   "cell_type": "code",
   "execution_count": 7,
   "id": "afraid-conservation",
   "metadata": {},
   "outputs": [],
   "source": [
    "import string\n",
    "import re\n",
    "\n",
    "def seikei(target):\n",
    "    table = str.maketrans(string.punctuation, ' '*len(string.punctuation))\n",
    "    target = target.translate(table)\n",
    "    target = target.lower()\n",
    "    target = re.sub(r'[0-9]+','0',target)\n",
    "    \n",
    "    return target"
   ]
  },
  {
   "cell_type": "code",
   "execution_count": 8,
   "id": "further-force",
   "metadata": {},
   "outputs": [],
   "source": [
    "#データを結合\n",
    "df = pd.concat([train, valid, test], axis=0)\n",
    "#インデックスを付け直す\n",
    "df.reset_index(drop=True, inplace=True)\n",
    "#データを成形する\n",
    "df['TITLE'] = df['TITLE'].map(seikei)"
   ]
  },
  {
   "cell_type": "code",
   "execution_count": 9,
   "id": "controlled-budget",
   "metadata": {},
   "outputs": [],
   "source": [
    "from sklearn.feature_extraction.text import TfidfVectorizer\n",
    "\n",
    "# データの分割\n",
    "train_valid = df[ : len(train) + len(valid)]\n",
    "test = df[len(train) + len(valid) : ]\n",
    "\n",
    "#TF-IDF\n",
    "vec_tfidf = TfidfVectorizer(min_df=10, ngram_range=(1, 2))\n",
    "\n",
    "# ベクトル化\n",
    "X_train_valid = vec_tfidf.fit_transform(train_valid['TITLE'])\n",
    "X_test = vec_tfidf.transform(test['TITLE'])\n"
   ]
  },
  {
   "cell_type": "code",
   "execution_count": 10,
   "id": "qualified-cleveland",
   "metadata": {},
   "outputs": [],
   "source": [
    "# ベクトルをデータフレームに変換\n",
    "X_train_valid = pd.DataFrame(X_train_valid.toarray(), columns=vec_tfidf.get_feature_names())\n",
    "X_test = pd.DataFrame(X_test.toarray(), columns=vec_tfidf.get_feature_names())\n",
    "\n",
    "# データの分割\n",
    "X_train = X_train_valid[:len(train)]\n",
    "X_valid = X_train_valid[len(train):]\n"
   ]
  },
  {
   "cell_type": "code",
   "execution_count": 11,
   "id": "attempted-jumping",
   "metadata": {},
   "outputs": [],
   "source": [
    "# TSVにして保存\n",
    "X_train.to_csv('train.feature.txt', sep='\\t', index=False)\n",
    "X_valid.to_csv('valid.feature.txt', sep='\\t', index=False)\n",
    "X_test.to_csv('test.feature.txt', sep='\\t', index=False)"
   ]
  },
  {
   "cell_type": "markdown",
   "id": "otherwise-pointer",
   "metadata": {},
   "source": [
    "## 52. 学習"
   ]
  },
  {
   "cell_type": "code",
   "execution_count": 12,
   "id": "speaking-porter",
   "metadata": {},
   "outputs": [
    {
     "data": {
      "text/plain": [
       "LogisticRegression(max_iter=10000, random_state=56)"
      ]
     },
     "execution_count": 12,
     "metadata": {},
     "output_type": "execute_result"
    }
   ],
   "source": [
    "from sklearn.linear_model import LogisticRegression\n",
    "\n",
    "# モデルの学習\n",
    "lr = LogisticRegression(random_state=56, max_iter=10000)\n",
    "lr.fit(X_train, train['CATEGORY'])"
   ]
  },
  {
   "cell_type": "markdown",
   "id": "massive-bracelet",
   "metadata": {},
   "source": [
    "## 53. 予測"
   ]
  },
  {
   "cell_type": "code",
   "execution_count": 13,
   "id": "identical-compromise",
   "metadata": {},
   "outputs": [],
   "source": [
    "def predict(lr,X):\n",
    "    return [lr.predict_proba(X),lr.predict(X)]"
   ]
  },
  {
   "cell_type": "code",
   "execution_count": 14,
   "id": "fleet-municipality",
   "metadata": {},
   "outputs": [],
   "source": [
    "predict_train = predict(lr,X_train)\n",
    "predict_test = predict(lr,X_test)"
   ]
  },
  {
   "cell_type": "markdown",
   "id": "unauthorized-canyon",
   "metadata": {},
   "source": [
    "## 54. 正解率の計測"
   ]
  },
  {
   "cell_type": "code",
   "execution_count": 15,
   "id": "forced-dallas",
   "metadata": {},
   "outputs": [],
   "source": [
    "from sklearn.metrics import confusion_matrix, accuracy_score, precision_score, recall_score, f1_score"
   ]
  },
  {
   "cell_type": "code",
   "execution_count": 16,
   "id": "postal-witch",
   "metadata": {},
   "outputs": [
    {
     "name": "stdout",
     "output_type": "stream",
     "text": [
      "正解率(学習データ)\n",
      "0.9261512542119057\n",
      "正解率(評価データ)\n",
      "0.874251497005988\n"
     ]
    }
   ],
   "source": [
    "accuracy_train = accuracy_score(train['CATEGORY'], predict_train[1])\n",
    "accuracy_test = accuracy_score(test['CATEGORY'], predict_test[1])\n",
    "print('正解率(学習データ)')\n",
    "print(accuracy_train)\n",
    "print('正解率(評価データ)')\n",
    "print(accuracy_test)"
   ]
  },
  {
   "cell_type": "markdown",
   "id": "french-greensboro",
   "metadata": {},
   "source": [
    "## 55. 混同行列の作成"
   ]
  },
  {
   "cell_type": "code",
   "execution_count": 17,
   "id": "palestinian-yukon",
   "metadata": {},
   "outputs": [
    {
     "name": "stdout",
     "output_type": "stream",
     "text": [
      "混同行列(学習データ)\n",
      "[[4339   95    8   59]\n",
      " [  59 4163    4    9]\n",
      " [  88  127  499   14]\n",
      " [ 182  139    5  894]]\n",
      "混同行列(評価データ)\n",
      "[[525  21   3  14]\n",
      " [  6 521   1   1]\n",
      " [ 19  26  42   4]\n",
      " [ 38  31   4  80]]\n"
     ]
    }
   ],
   "source": [
    "cm_train = confusion_matrix(train['CATEGORY'], predict_train[1])\n",
    "cm_test = confusion_matrix(test['CATEGORY'], predict_test[1])\n",
    "print('混同行列(学習データ)')\n",
    "print(cm_train)\n",
    "print('混同行列(評価データ)')\n",
    "print(cm_test)"
   ]
  },
  {
   "cell_type": "markdown",
   "id": "cooked-alexander",
   "metadata": {},
   "source": [
    "## 56. 適合率，再現率，F1スコアの計測"
   ]
  },
  {
   "cell_type": "code",
   "execution_count": 18,
   "id": "quality-swaziland",
   "metadata": {},
   "outputs": [],
   "source": [
    "import numpy as np\n",
    "def calculate_scores(y_true, y_pred):\n",
    "  # 適合率\n",
    "  precision = precision_score(test['CATEGORY'], predict_test[1], average=None, labels=['b', 'e', 't', 'm'])\n",
    "  precision= np.append(precision, precision_score(y_true, y_pred, average='micro')) \n",
    "  precision = np.append(precision, precision_score(y_true, y_pred, average='macro')) \n",
    "\n",
    "  # 再現率\n",
    "  recall = recall_score(test['CATEGORY'], predict_test[1], average=None, labels=['b', 'e', 't', 'm'])\n",
    "  recall = np.append(recall, recall_score(y_true, y_pred, average='micro'))\n",
    "  recall = np.append(recall, recall_score(y_true, y_pred, average='macro'))\n",
    "\n",
    "  # F1スコア\n",
    "  f1 = f1_score(test['CATEGORY'], predict_test[1], average=None, labels=['b', 'e', 't', 'm'])\n",
    "  f1 = np.append(f1, f1_score(y_true, y_pred, average='micro'))\n",
    "  f1 = np.append(f1, f1_score(y_true, y_pred, average='macro'))\n",
    "\n",
    "  # 結果を結合してデータフレーム化\n",
    "  scores = pd.DataFrame({'適合率': precision, '再現率': recall, 'F1スコア': f1},\n",
    "                        index=['b', 'e', 't', 'm', 'マイクロ平均', 'マクロ平均'])\n",
    "\n",
    "  return scores"
   ]
  },
  {
   "cell_type": "code",
   "execution_count": 19,
   "id": "adaptive-domestic",
   "metadata": {},
   "outputs": [
    {
     "name": "stdout",
     "output_type": "stream",
     "text": [
      "             適合率       再現率     F1スコア\n",
      "b       0.892857  0.932504  0.912250\n",
      "e       0.869783  0.984877  0.923759\n",
      "t       0.808081  0.522876  0.634921\n",
      "m       0.840000  0.461538  0.595745\n",
      "マイクロ平均  0.874251  0.874251  0.874251\n",
      "マクロ平均   0.852680  0.725449  0.766669\n"
     ]
    }
   ],
   "source": [
    "print(calculate_scores(test['CATEGORY'],predict_test[1]))"
   ]
  },
  {
   "cell_type": "markdown",
   "id": "french-impression",
   "metadata": {},
   "source": [
    "## 57. 特徴量の重みの確認"
   ]
  },
  {
   "cell_type": "code",
   "execution_count": 20,
   "id": "behind-richardson",
   "metadata": {},
   "outputs": [
    {
     "name": "stdout",
     "output_type": "stream",
     "text": [
      "【カテゴリ】b\n",
      "        1      2      3      4       5       6      7          8        9   \\\n",
      "重要度上位  fed   bank    ecb  china  stocks     oil   euro  obamacare  ukraine   \n",
      "重要度下位  and  ebola  video  study     her  google  aereo        the      she   \n",
      "\n",
      "           10  \n",
      "重要度上位  yellen  \n",
      "重要度下位    star  \n",
      "\n",
      "\n",
      "【カテゴリ】e\n",
      "           1           2       3      4        5      6      7         8   \\\n",
      "重要度上位   chris  kardashian     her   film  wedding   paul   star       she   \n",
      "重要度下位  update          us  google  china       gm  apple  study  facebook   \n",
      "\n",
      "            9      10  \n",
      "重要度上位      kim  movie  \n",
      "重要度下位  billion   says  \n",
      "\n",
      "\n",
      "【カテゴリ】m\n",
      "             1      2      3        4       5      6       7       8   \\\n",
      "重要度上位     ebola  study    fda   cancer    drug   mers  health   cases   \n",
      "重要度下位  facebook     gm  apple  climate  amazon  sales     ceo  google   \n",
      "\n",
      "            9      10  \n",
      "重要度上位  doctors  could  \n",
      "重要度下位  twitter   deal  \n",
      "\n",
      "\n",
      "【カテゴリ】t\n",
      "           1      2         3          4        5         6        7   \\\n",
      "重要度上位  google  apple  facebook  microsoft  climate     tesla       gm   \n",
      "重要度下位  stocks    fed     money       drug   cancer  american  percent   \n",
      "\n",
      "            8        9       10  \n",
      "重要度上位     nasa  comcast  mobile  \n",
      "重要度下位  ukraine      her     ecb  \n",
      "\n",
      "\n"
     ]
    }
   ],
   "source": [
    "features = X_train.columns.values\n",
    "index = [i for i in range(1, 11)]\n",
    "for c, coef in zip(lr.classes_, lr.coef_):\n",
    "  print(f'【カテゴリ】{c}')\n",
    "  best10 = pd.DataFrame(features[np.argsort(coef)[::-1][:10]], columns=['重要度上位'], index=index).T\n",
    "  worst10 = pd.DataFrame(features[np.argsort(coef)[:10]], columns=['重要度下位'], index=index).T\n",
    "  print(pd.concat([best10, worst10], axis=0))\n",
    "  print('\\n')"
   ]
  },
  {
   "cell_type": "markdown",
   "id": "detailed-norfolk",
   "metadata": {},
   "source": [
    "## 58. 正則化パラメータの変更"
   ]
  },
  {
   "cell_type": "code",
   "execution_count": 21,
   "id": "confident-double",
   "metadata": {},
   "outputs": [],
   "source": [
    "parameter = np.logspace(-5,5,10,base=10)\n",
    "result = []\n",
    "for c in parameter:\n",
    "    clf = LogisticRegression(random_state=56, max_iter=10000,C=c)\n",
    "    clf.fit(X_train, train['CATEGORY'])\n",
    "    \n",
    "    predict_train = predict(clf,X_train)\n",
    "    predict_valid = predict(clf,X_valid)\n",
    "    predict_test = predict(clf,X_test)\n",
    "    \n",
    "    accuracy_train = accuracy_score(train['CATEGORY'], predict_train[1])\n",
    "    accuracy_valid = accuracy_score(valid['CATEGORY'], predict_valid[1])\n",
    "    accuracy_test = accuracy_score(test['CATEGORY'], predict_test[1])\n",
    "    \n",
    "    result.append([c,accuracy_train,accuracy_valid,accuracy_test])    "
   ]
  },
  {
   "cell_type": "code",
   "execution_count": 22,
   "id": "meaning-turtle",
   "metadata": {},
   "outputs": [],
   "source": [
    "import matplotlib.pyplot as plt"
   ]
  },
  {
   "cell_type": "code",
   "execution_count": 23,
   "id": "thorough-evans",
   "metadata": {},
   "outputs": [
    {
     "data": {
      "image/png": "[encoded data removed]",
      "text/plain": [
       "<Figure size 432x288 with 1 Axes>"
      ]
     },
     "metadata": {
      "needs_background": "light"
     },
     "output_type": "display_data"
    }
   ],
   "source": [
    "result = np.array(result).T\n",
    "plt.plot(result[0], result[1], label='train')\n",
    "plt.plot(result[0], result[2], label='valid')\n",
    "plt.plot(result[0], result[3], label='test')\n",
    "plt.ylim(0, 1.1)\n",
    "plt.ylabel('Accuracy')\n",
    "plt.xscale ('log')\n",
    "plt.xlabel('C')\n",
    "plt.legend()\n",
    "plt.show()"
   ]
  },
  {
   "cell_type": "markdown",
   "id": "worse-sixth",
   "metadata": {},
   "source": [
    "## 59. ハイパーパラメータの探索"
   ]
  },
  {
   "cell_type": "code",
   "execution_count": 38,
   "id": "serious-politics",
   "metadata": {},
   "outputs": [],
   "source": [
    "solvers = ['newton-cg','lbfgs','liblinear','sag','saga']\n",
    "result = {}\n",
    "for solver in solvers:\n",
    "    clf = LogisticRegression(random_state=56, max_iter=10000,solver=solver)\n",
    "    clf.fit(X_train, train['CATEGORY'])\n",
    "    \n",
    "    predict_valid = predict(clf,X_valid)\n",
    "    accuracy_valid = accuracy_score(valid['CATEGORY'], predict_valid[1])\n",
    "    \n",
    "    result.setdefault(solver,accuracy_valid)\n",
    "    \n"
   ]
  },
  {
   "cell_type": "code",
   "execution_count": 39,
   "id": "seventh-setting",
   "metadata": {},
   "outputs": [
    {
     "name": "stdout",
     "output_type": "stream",
     "text": [
      "newton-cg\n"
     ]
    }
   ],
   "source": [
    "print(max(result,key=result.get))"
   ]
  },
  {
   "cell_type": "code",
   "execution_count": 40,
   "id": "therapeutic-nightlife",
   "metadata": {},
   "outputs": [],
   "source": [
    "clf = LogisticRegression(random_state=56, max_iter=10000,solver='newton-cg')\n",
    "clf.fit(X_train, train['CATEGORY'])\n",
    "predict_test = predict(clf,X_test)\n",
    "accuracy_test = accuracy_score(test['CATEGORY'], predict_test[1])"
   ]
  },
  {
   "cell_type": "code",
   "execution_count": 41,
   "id": "cellular-delivery",
   "metadata": {},
   "outputs": [
    {
     "name": "stdout",
     "output_type": "stream",
     "text": [
      "0.874251497005988\n"
     ]
    }
   ],
   "source": [
    "print(accuracy_test)"
   ]
  },
  {
   "cell_type": "code",
   "execution_count": 42,
   "id": "medical-immigration",
   "metadata": {},
   "outputs": [
    {
     "name": "stdout",
     "output_type": "stream",
     "text": [
      "{'newton-cg': 0.8832335329341318, 'lbfgs': 0.8824850299401198, 'liblinear': 0.8772455089820359, 'sag': 0.8832335329341318, 'saga': 0.8832335329341318}\n"
     ]
    }
   ],
   "source": [
    "print(result)"
   ]
  }
 ],
 "metadata": {
  "kernelspec": {
   "display_name": "Python 3",
   "language": "python",
   "name": "python3"
  },
  "language_info": {
   "codemirror_mode": {
    "name": "ipython",
    "version": 3
   },
   "file_extension": ".py",
   "mimetype": "text/x-python",
   "name": "python",
   "nbconvert_exporter": "python",
   "pygments_lexer": "ipython3",
   "version": "3.8.8"
  }
 },
 "nbformat": 4,
 "nbformat_minor": 5
}
