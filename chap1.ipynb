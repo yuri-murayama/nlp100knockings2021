{
 "cells": [
  {
   "cell_type": "code",
   "execution_count": 1,
   "metadata": {},
   "outputs": [
    {
     "name": "stdout",
     "output_type": "stream",
     "text": [
      "desserts\n"
     ]
    }
   ],
   "source": [
    "#00\n",
    "\n",
    "text = \"stressed\"\n",
    "\n",
    "answer00 = text[::-1]\n",
    "\n",
    "print(answer00)"
   ]
  },
  {
   "cell_type": "code",
   "execution_count": 2,
   "metadata": {},
   "outputs": [
    {
     "name": "stdout",
     "output_type": "stream",
     "text": [
      "パトカー\n"
     ]
    }
   ],
   "source": [
    "#01\n",
    "\n",
    "text = \"パタトクカシーー\"\n",
    "\n",
    "answer01 = text[::2]\n",
    "\n",
    "print(answer01)"
   ]
  },
  {
   "cell_type": "code",
   "execution_count": 3,
   "metadata": {},
   "outputs": [
    {
     "name": "stdout",
     "output_type": "stream",
     "text": [
      "パタトクカシーー\n"
     ]
    }
   ],
   "source": [
    "#02\n",
    "\n",
    "text1 = \"パトカー\"\n",
    "text2 = \"タクシー\"\n",
    "\n",
    "answer02 = \"\"\n",
    "\n",
    "for i in range(len(text1)):\n",
    "    text_tmp = text1[i] + text2[i]\n",
    "    answer02 += text_tmp\n",
    "    \n",
    "print(answer02)"
   ]
  },
  {
   "cell_type": "code",
   "execution_count": 4,
   "metadata": {},
   "outputs": [
    {
     "name": "stdout",
     "output_type": "stream",
     "text": [
      "[3, 1, 4, 1, 5, 9, 2, 6, 5, 3, 5, 8, 9, 7, 9]\n"
     ]
    }
   ],
   "source": [
    "#03\n",
    "\n",
    "text = \"Now I need a drink, alcoholic of course, after the heavy lectures involving quantum mechanics.\"\n",
    "\n",
    "text_new = text.replace('.','').replace(',','')\n",
    "\n",
    "answer03 = [len(x) for x in text_new.split(' ')]\n",
    "\n",
    "print(answer03)"
   ]
  },
  {
   "cell_type": "code",
   "execution_count": 5,
   "metadata": {},
   "outputs": [
    {
     "name": "stdout",
     "output_type": "stream",
     "text": [
      "{0: 'H', 1: 'He', 2: 'Li', 3: 'Be', 4: 'B', 5: 'C', 6: 'N', 7: 'O', 8: 'F', 9: 'Ne', 10: 'Na', 11: 'Mi', 12: 'Al', 13: 'Si', 14: 'P', 15: 'S', 16: 'Cl', 17: 'Ar', 18: 'K', 19: 'Ca'}\n"
     ]
    }
   ],
   "source": [
    "#04\n",
    "\n",
    "text = \"Hi He Lied Because Boron Could Not Oxidize Fluorine. New Nations Might Also Sign Peace Security Clause. Arthur King Can.\"\n",
    "\n",
    "text_new = text.split(\" \")\n",
    "\n",
    "element = {}\n",
    "\n",
    "for i in range(len(text_new)):\n",
    "    if i+1 in [1,5,6,7,8,9,15,16,19]:\n",
    "        word=text_new[i]\n",
    "        element[i]=word[0]\n",
    "    else:\n",
    "        word=text_new[i]\n",
    "        element[i]=word[0:2]\n",
    "        \n",
    "print(element)"
   ]
  },
  {
   "cell_type": "code",
   "execution_count": 12,
   "metadata": {},
   "outputs": [
    {
     "name": "stdout",
     "output_type": "stream",
     "text": [
      "[['I', 'am'], ['am', 'an'], ['an', 'NLPer']]\n",
      "['I ', ' a', 'am', 'm ', ' a', 'an', 'n ', ' N', 'NL', 'LP', 'Pe', 'er']\n"
     ]
    }
   ],
   "source": [
    "#05\n",
    "\n",
    "def n_gram(text,n):\n",
    "    answer05 = []\n",
    "    \n",
    "    for i in range(len(text)-n+1):\n",
    "        answer05.append(text[i:i+n])\n",
    "    \n",
    "    return answer05\n",
    "\n",
    "text = \"I am an NLPer\"\n",
    "\n",
    "##単語bi-gram\n",
    "print(n_gram(text.split(\" \"),2))\n",
    "\n",
    "#文字bi-gram\n",
    "print(n_gram(text,2))"
   ]
  },
  {
   "cell_type": "markdown",
   "metadata": {},
   "source": [
    "memo:nltkライブラリ"
   ]
  },
  {
   "cell_type": "code",
   "execution_count": 13,
   "metadata": {},
   "outputs": [
    {
     "name": "stdout",
     "output_type": "stream",
     "text": [
      "{'ap', 'ph', 'ra', 'pa', 'ar', 'di', 'gr', 'se', 'is', 'ag', 'ad'}\n",
      "{'ap', 'pa', 'ar', 'ra'}\n",
      "{'is', 'ad', 'di', 'se'}\n",
      "True\n",
      "False\n"
     ]
    }
   ],
   "source": [
    "#06\n",
    "\n",
    "text1 = \"paraparaparadise\"\n",
    "text2 = \"paragraph\"\n",
    "\n",
    "X = set(n_gram(text1,2))\n",
    "Y = set(n_gram(text2,2))\n",
    "\n",
    "##和集合\n",
    "print(X.union(Y))\n",
    "\n",
    "##積集合\n",
    "print(X.intersection(Y))\n",
    "\n",
    "##差集合\n",
    "print(X.difference(Y))\n",
    "\n",
    "##\"se\"がXに含まれるか否か\n",
    "print(\"se\" in X)\n",
    "\n",
    "##\"se\"がYに含まれるか否か\n",
    "print(\"se\" in Y)"
   ]
  },
  {
   "cell_type": "code",
   "execution_count": 14,
   "metadata": {},
   "outputs": [
    {
     "name": "stdout",
     "output_type": "stream",
     "text": [
      "12時の気温は22.4\n"
     ]
    }
   ],
   "source": [
    "#07\n",
    "\n",
    "def tmp(x,y,z):\n",
    "    return str(x)+\"時の\"+str(y)+\"は\"+str(z)\n",
    "\n",
    "print(tmp(12,\"気温\",22.4))"
   ]
  },
  {
   "cell_type": "code",
   "execution_count": 15,
   "metadata": {},
   "outputs": [
    {
     "name": "stdout",
     "output_type": "stream",
     "text": [
      "zyx 123\n",
      "abc 123\n"
     ]
    }
   ],
   "source": [
    "#08\n",
    "\n",
    "def cipher(text):\n",
    "    answer08 = \"\"\n",
    "    \n",
    "    for i in text:\n",
    "        ##英小文字のとき\n",
    "        if 97 <= ord(i) <= 122:\n",
    "            answer08 += chr(219-ord(i))\n",
    "        else:\n",
    "            answer08 += i\n",
    "    \n",
    "    return answer08\n",
    "\n",
    "text = \"abc 123\"\n",
    "text_cipher = cipher(text)\n",
    "\n",
    "##暗号化\n",
    "print(text_cipher)\n",
    "##ふくごう\n",
    "print(cipher(text_cipher))"
   ]
  },
  {
   "cell_type": "code",
   "execution_count": 29,
   "metadata": {},
   "outputs": [
    {
     "name": "stdout",
     "output_type": "stream",
     "text": [
      "I culn’odt bveeile that I colud aucaltly userntdnad what I was rneaidg : the pamoneehnl pweor of the hmuan mind .\n"
     ]
    }
   ],
   "source": [
    "#09\n",
    "\n",
    "import random\n",
    "\n",
    "text = \"I couldn’t believe that I could actually understand what I was reading : the phenomenal power of the human mind .\"\n",
    "\n",
    "text_split = text.split(\" \")\n",
    "\n",
    "answer09 = []\n",
    "\n",
    "for i in text_split:\n",
    "    if (len(i) <= 4):\n",
    "        answer09.append(i)\n",
    "        \n",
    "    else:\n",
    "        middle = list(i[1:-1])\n",
    "        random.shuffle(middle)\n",
    "        answer09.append(i[0] + \"\".join(middle) + i[-1])\n",
    "    \n",
    "print(\" \".join(answer09))"
   ]
  },
  {
   "cell_type": "code",
   "execution_count": null,
   "metadata": {},
   "outputs": [],
   "source": []
  }
 ],
 "metadata": {
  "kernelspec": {
   "display_name": "Python 3",
   "language": "python",
   "name": "python3"
  },
  "language_info": {
   "codemirror_mode": {
    "name": "ipython",
    "version": 3
   },
   "file_extension": ".py",
   "mimetype": "text/x-python",
   "name": "python",
   "nbconvert_exporter": "python",
   "pygments_lexer": "ipython3",
   "version": "3.7.6"
  }
 },
 "nbformat": 4,
 "nbformat_minor": 4
}
