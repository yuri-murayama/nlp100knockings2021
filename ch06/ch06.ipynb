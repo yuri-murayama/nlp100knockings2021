{
 "cells": [
  {
   "cell_type": "markdown",
   "metadata": {},
   "source": [
    "# 50. データの入手・整形"
   ]
  },
  {
   "cell_type": "markdown",
   "metadata": {},
   "source": [
    "News Aggregator Data Setをダウンロードし、以下の要領で学習データ（train.txt），検証データ（valid.txt），評価データ（test.txt）を作成せよ．  \n",
    "\n",
    "ダウンロードしたzipファイルを解凍し，readme.txtの説明を読む．  \n",
    "情報源（publisher）が”Reuters”, “Huffington Post”, “Businessweek”, “Contactmusic.com”, “Daily Mail”の事例（記事）のみを抽出する．  \n",
    "抽出された事例をランダムに並び替える．  \n",
    "抽出された事例の80%を学習データ，残りの10%ずつを検証データと評価データに分割し，それぞれtrain.txt，valid.txt，test.txtというファイル名で保存する．ファイルには，１行に１事例を書き出すこととし，カテゴリ名と記事見出しのタブ区切り形式とせよ（このファイルは後に問題70で再利用する）．  \n",
    "\n",
    "学習データと評価データを作成したら，各カテゴリの事例数を確認せよ．  "
   ]
  },
  {
   "cell_type": "code",
   "execution_count": 3,
   "metadata": {},
   "outputs": [],
   "source": [
    "import numpy as np\n",
    "import pandas as pd\n",
    "from sklearn.model_selection import train_test_split"
   ]
  },
  {
   "cell_type": "code",
   "execution_count": 4,
   "metadata": {},
   "outputs": [],
   "source": [
    "#データを読み込む\n",
    "df = pd.read_csv('newsCorpora.csv', header=None, sep='\\t', names=['ID', 'TITLE', 'URL', 'PUBLISHER', 'CATEGORY', 'STORY', 'HOSTNAME', 'TIMESTAMP'])\n",
    "\n",
    "#データを抽出する\n",
    "df = df.loc[df['PUBLISHER'].isin(['Reuters', 'Huffington Post', 'Businessweek', 'Contactmusic.com', 'Daily Mail']), ['TITLE', 'CATEGORY']]\n"
   ]
  },
  {
   "cell_type": "code",
   "execution_count": 5,
   "metadata": {},
   "outputs": [],
   "source": [
    "#データを分割する\n",
    "#train : valid,test = 8:2\n",
    "train, valid_test = train_test_split(df, test_size = 0.2, shuffle=True, random_state=0, stratify=df['CATEGORY'])\n",
    "#valid,test を半分に分ける　8:1:1にする\n",
    "valid, test = train_test_split(valid_test, test_size = 0.5, shuffle=True, random_state=0, stratify=valid_test['CATEGORY'])\n"
   ]
  },
  {
   "cell_type": "code",
   "execution_count": 4,
   "metadata": {},
   "outputs": [],
   "source": [
    "#データを各ファイルに保存する\n",
    "train.to_csv('./train.txt', sep='\\t', index=False)\n",
    "valid.to_csv('./valid.txt', sep='\\t', index=False)\n",
    "test.to_csv('./test.txt', sep='\\t', index=False)"
   ]
  },
  {
   "cell_type": "code",
   "execution_count": 5,
   "metadata": {},
   "outputs": [
    {
     "name": "stdout",
     "output_type": "stream",
     "text": [
      "train.txt\n",
      "b    4502\n",
      "e    4223\n",
      "t    1219\n",
      "m     728\n",
      "Name: CATEGORY, dtype: int64\n",
      "valid.txt\n",
      "b    562\n",
      "e    528\n",
      "t    153\n",
      "m     91\n",
      "Name: CATEGORY, dtype: int64\n",
      "test.txt\n",
      "b    563\n",
      "e    528\n",
      "t    152\n",
      "m     91\n",
      "Name: CATEGORY, dtype: int64\n"
     ]
    }
   ],
   "source": [
    "#各カテゴリの事例数を確認\n",
    "print('train.txt')\n",
    "print(train['CATEGORY'].value_counts())\n",
    "print('valid.txt')\n",
    "print(valid['CATEGORY'].value_counts())\n",
    "print('test.txt')\n",
    "print(test['CATEGORY'].value_counts())"
   ]
  },
  {
   "cell_type": "markdown",
   "metadata": {},
   "source": [
    "# 51. 特徴量抽出"
   ]
  },
  {
   "cell_type": "markdown",
   "metadata": {},
   "source": [
    "学習データ，検証データ，評価データから特徴量を抽出し，それぞれtrain.feature.txt，valid.feature.txt，test.feature.txtというファイル名で保存せよ． なお，カテゴリ分類に有用そうな特徴量は各自で自由に設計せよ．記事の見出しを単語列に変換したものが最低限のベースラインとなるであろう．"
   ]
  },
  {
   "cell_type": "code",
   "execution_count": 6,
   "metadata": {},
   "outputs": [],
   "source": [
    "#前処理\n",
    "import string\n",
    "import re\n",
    "\n",
    "def preprocessing(text):\n",
    "    table = str.maketrans(string.punctuation, ' '*len(string.punctuation))\n",
    "    text = text.translate(table)  # 記号をスペースに置換\n",
    "    text = text.lower()  # 小文字化\n",
    "    text = re.sub('[0-9]+', '0', text)  # 数字列を0に置換\n",
    "\n",
    "    return text"
   ]
  },
  {
   "cell_type": "code",
   "execution_count": 7,
   "metadata": {},
   "outputs": [],
   "source": [
    "# データの結合\n",
    "df = pd.concat([train, valid, test], axis=0)\n",
    "\n",
    "df.reset_index(drop=True, inplace=True)  "
   ]
  },
  {
   "cell_type": "code",
   "execution_count": 8,
   "metadata": {},
   "outputs": [],
   "source": [
    "# 前処理\n",
    "df['TITLE'] = df['TITLE'].map(lambda x: preprocessing(x))"
   ]
  },
  {
   "cell_type": "code",
   "execution_count": 9,
   "metadata": {},
   "outputs": [],
   "source": [
    "from sklearn.feature_extraction.text import TfidfVectorizer\n",
    "\n",
    "# データの分割\n",
    "train_valid = df[:len(train) + len(valid)]\n",
    "test = df[len(train) + len(valid):]\n",
    "\n",
    "vectorizer = TfidfVectorizer(min_df=10)#出現数が少ない単語は省く\n",
    "\n",
    "X_train_valid = vectorizer.fit_transform(train_valid['TITLE'])  \n",
    "X_test = vectorizer.transform(test['TITLE']) #testは分けておく\n",
    "\n",
    "X_train_valid = pd.DataFrame(X_train_valid.toarray(), columns=vectorizer.get_feature_names())\n",
    "X_test = pd.DataFrame(X_test.toarray(), columns=vectorizer.get_feature_names())\n",
    "\n",
    "# trainとvalidを分割\n",
    "X_train = X_train_valid[:len(train)]\n",
    "X_valid = X_train_valid[len(train):]"
   ]
  },
  {
   "cell_type": "code",
   "execution_count": null,
   "metadata": {},
   "outputs": [],
   "source": [
    "# データの保存\n",
    "X_train.to_csv('train.feature.txt', sep='\\t', index=False)\n",
    "X_valid.to_csv('valid.feature.txt', sep='\\t', index=False)\n",
    "X_test.to_csv('test.feature.txt', sep='\\t', index=False)"
   ]
  },
  {
   "cell_type": "code",
   "execution_count": 12,
   "metadata": {},
   "outputs": [
    {
     "name": "stdout",
     "output_type": "stream",
     "text": [
      "    0d   0m  0million  0nd   0s  0st  0th   aa  aaliyah  abbvie  ...  yields  \\\n",
      "0  0.0  0.0       0.0  0.0  0.0  0.0  0.0  0.0      0.0     0.0  ...     0.0   \n",
      "1  0.0  0.0       0.0  0.0  0.0  0.0  0.0  0.0      0.0     0.0  ...     0.0   \n",
      "2  0.0  0.0       0.0  0.0  0.0  0.0  0.0  0.0      0.0     0.0  ...     0.0   \n",
      "3  0.0  0.0       0.0  0.0  0.0  0.0  0.0  0.0      0.0     0.0  ...     0.0   \n",
      "4  0.0  0.0       0.0  0.0  0.0  0.0  0.0  0.0      0.0     0.0  ...     0.0   \n",
      "\n",
      "   york  you  young  your   yr  yuan  zac  zendaya  zone  \n",
      "0   0.0  0.0    0.0   0.0  0.0   0.0  0.0      0.0   0.0  \n",
      "1   0.0  0.0    0.0   0.0  0.0   0.0  0.0      0.0   0.0  \n",
      "2   0.0  0.0    0.0   0.0  0.0   0.0  0.0      0.0   0.0  \n",
      "3   0.0  0.0    0.0   0.0  0.0   0.0  0.0      0.0   0.0  \n",
      "4   0.0  0.0    0.0   0.0  0.0   0.0  0.0      0.0   0.0  \n",
      "\n",
      "[5 rows x 2139 columns]\n"
     ]
    }
   ],
   "source": [
    "print(X_train.head())"
   ]
  },
  {
   "cell_type": "markdown",
   "metadata": {},
   "source": [
    "# 52. 学習"
   ]
  },
  {
   "cell_type": "markdown",
   "metadata": {},
   "source": [
    "51で構築した学習データを用いて，ロジスティック回帰モデルを学習せよ．"
   ]
  },
  {
   "cell_type": "code",
   "execution_count": 10,
   "metadata": {},
   "outputs": [
    {
     "data": {
      "text/plain": [
       "LogisticRegression(C=1.0, class_weight=None, dual=False, fit_intercept=True,\n",
       "                   intercept_scaling=1, l1_ratio=None, max_iter=1000,\n",
       "                   multi_class='auto', n_jobs=None, penalty='l2',\n",
       "                   random_state=0, solver='lbfgs', tol=0.0001, verbose=0,\n",
       "                   warm_start=False)"
      ]
     },
     "execution_count": 10,
     "metadata": {},
     "output_type": "execute_result"
    }
   ],
   "source": [
    "from sklearn.linear_model import LogisticRegression\n",
    "\n",
    "model = LogisticRegression(random_state=0,max_iter=1000)\n",
    "model.fit(X_train, train['CATEGORY'])"
   ]
  },
  {
   "cell_type": "markdown",
   "metadata": {},
   "source": [
    "# 53. 予測"
   ]
  },
  {
   "cell_type": "markdown",
   "metadata": {},
   "source": [
    "52で学習したロジスティック回帰モデルを用い，与えられた記事見出しからカテゴリとその予測確率を計算するプログラムを実装せよ．"
   ]
  },
  {
   "cell_type": "code",
   "execution_count": 11,
   "metadata": {},
   "outputs": [],
   "source": [
    "def predict_with_score(model, x):\n",
    "    return [np.max(model.predict_proba(x), axis=1), model.predict(x)]"
   ]
  },
  {
   "cell_type": "code",
   "execution_count": 12,
   "metadata": {},
   "outputs": [
    {
     "name": "stdout",
     "output_type": "stream",
     "text": [
      "[array([0.38143102, 0.9162524 , 0.71503472, ..., 0.86423888, 0.97127036,\n",
      "       0.73518722]), array(['b', 'b', 'e', ..., 'b', 'b', 'e'], dtype=object)]\n"
     ]
    }
   ],
   "source": [
    "train_pred = predict_with_score(model, X_train)\n",
    "test_pred = predict_with_score(model, X_test)\n",
    "\n",
    "print(train_pred)"
   ]
  },
  {
   "cell_type": "markdown",
   "metadata": {},
   "source": [
    "# 54. 正解率の計測"
   ]
  },
  {
   "cell_type": "markdown",
   "metadata": {},
   "source": [
    "52で学習したロジスティック回帰モデルの正解率を，学習データおよび評価データ上で計測せよ．"
   ]
  },
  {
   "cell_type": "code",
   "execution_count": 13,
   "metadata": {},
   "outputs": [
    {
     "name": "stdout",
     "output_type": "stream",
     "text": [
      "学習データの正解率：0.9258808095952024\n",
      "評価データの正解率：0.8755622188905547\n"
     ]
    }
   ],
   "source": [
    "from sklearn.metrics import accuracy_score\n",
    "\n",
    "train_accuracy = accuracy_score(train['CATEGORY'], train_pred[1])\n",
    "test_accuracy = accuracy_score(test['CATEGORY'], test_pred[1])\n",
    "\n",
    "print('学習データの正解率：' + str(train_accuracy))\n",
    "print('評価データの正解率：' + str(test_accuracy))"
   ]
  },
  {
   "cell_type": "markdown",
   "metadata": {},
   "source": [
    "# 55. 混同行列の作成"
   ]
  },
  {
   "cell_type": "markdown",
   "metadata": {},
   "source": [
    "52で学習したロジスティック回帰モデルの混同行列（confusion matrix）を，学習データおよび評価データ上で作成せよ．"
   ]
  },
  {
   "cell_type": "code",
   "execution_count": 14,
   "metadata": {},
   "outputs": [
    {
     "name": "stdout",
     "output_type": "stream",
     "text": [
      "[[4341   96    9   56]\n",
      " [  55 4155    2   11]\n",
      " [  86  130  498   14]\n",
      " [ 183  141    8  887]]\n"
     ]
    }
   ],
   "source": [
    "from sklearn.metrics import confusion_matrix\n",
    "\n",
    "train_cm = confusion_matrix(train['CATEGORY'], train_pred[1])\n",
    "print(train_cm)"
   ]
  },
  {
   "cell_type": "code",
   "execution_count": 15,
   "metadata": {},
   "outputs": [
    {
     "name": "stdout",
     "output_type": "stream",
     "text": [
      "[[522  28   1  12]\n",
      " [ 10 515   3   0]\n",
      " [ 19  23  47   2]\n",
      " [ 35  31   2  84]]\n"
     ]
    }
   ],
   "source": [
    "test_cm = confusion_matrix(test['CATEGORY'], test_pred[1])\n",
    "print(test_cm)"
   ]
  },
  {
   "cell_type": "markdown",
   "metadata": {},
   "source": [
    "# 56. 適合率，再現率，F1スコアの計測"
   ]
  },
  {
   "cell_type": "markdown",
   "metadata": {},
   "source": [
    "52で学習したロジスティック回帰モデルの適合率，再現率，F1スコアを，評価データ上で計測せよ．カテゴリごとに適合率，再現率，F1スコアを求め，カテゴリごとの性能をマイクロ平均（micro-average）とマクロ平均（macro-average）で統合せよ．"
   ]
  },
  {
   "cell_type": "code",
   "execution_count": 16,
   "metadata": {},
   "outputs": [],
   "source": [
    "from sklearn.metrics import precision_score, recall_score, f1_score\n",
    "\n",
    "def calculate_scores(y_true, y_pred):\n",
    "  # 適合率\n",
    "    precision = precision_score(test['CATEGORY'], test_pred[1], average=None, labels=['b', 'e', 't', 'm'])\n",
    "    precision = np.append(precision, precision_score(y_true, y_pred, average='micro')) \n",
    "    precision = np.append(precision, precision_score(y_true, y_pred, average='macro')) \n",
    "\n",
    "  # 再現率\n",
    "    recall = recall_score(test['CATEGORY'], test_pred[1], average=None, labels=['b', 'e', 't', 'm'])\n",
    "    recall = np.append(recall, recall_score(y_true, y_pred, average='micro'))\n",
    "    recall = np.append(recall, recall_score(y_true, y_pred, average='macro'))\n",
    "\n",
    "  # F1スコア\n",
    "    f1 = f1_score(test['CATEGORY'], test_pred[1], average=None, labels=['b', 'e', 't', 'm'])\n",
    "    f1 = np.append(f1, f1_score(y_true, y_pred, average='micro'))\n",
    "    f1 = np.append(f1, f1_score(y_true, y_pred, average='macro'))\n",
    "\n",
    "  # 結果を結合、データフレーム化\n",
    "    scores = pd.DataFrame({'適合率': precision, '再現率': recall, 'F1スコア': f1},\n",
    "                        index=['b', 'e', 't', 'm', 'マイクロ平均', 'マクロ平均'])\n",
    "\n",
    "    return scores"
   ]
  },
  {
   "cell_type": "code",
   "execution_count": 17,
   "metadata": {},
   "outputs": [
    {
     "name": "stdout",
     "output_type": "stream",
     "text": [
      "             適合率       再現率     F1スコア\n",
      "b       0.890785  0.927176  0.908616\n",
      "e       0.862647  0.975379  0.915556\n",
      "t       0.857143  0.552632  0.672000\n",
      "m       0.886792  0.516484  0.652778\n",
      "マイクロ平均  0.875562  0.875562  0.875562\n",
      "マクロ平均   0.874342  0.742917  0.787237\n"
     ]
    }
   ],
   "source": [
    "print(calculate_scores(test['CATEGORY'], test_pred[1]))"
   ]
  },
  {
   "cell_type": "markdown",
   "metadata": {},
   "source": [
    "# 57. 特徴量の重みの確認"
   ]
  },
  {
   "cell_type": "markdown",
   "metadata": {},
   "source": [
    "52で学習したロジスティック回帰モデルの中で，重みの高い特徴量トップ10と，重みの低い特徴量トップ10を確認せよ．"
   ]
  },
  {
   "cell_type": "code",
   "execution_count": 24,
   "metadata": {},
   "outputs": [
    {
     "name": "stdout",
     "output_type": "stream",
     "text": [
      "カテゴリ：b\n"
     ]
    },
    {
     "data": {
      "text/html": [
       "<div>\n",
       "<style scoped>\n",
       "    .dataframe tbody tr th:only-of-type {\n",
       "        vertical-align: middle;\n",
       "    }\n",
       "\n",
       "    .dataframe tbody tr th {\n",
       "        vertical-align: top;\n",
       "    }\n",
       "\n",
       "    .dataframe thead th {\n",
       "        text-align: right;\n",
       "    }\n",
       "</style>\n",
       "<table border=\"1\" class=\"dataframe\">\n",
       "  <thead>\n",
       "    <tr style=\"text-align: right;\">\n",
       "      <th></th>\n",
       "      <th>1</th>\n",
       "      <th>2</th>\n",
       "      <th>3</th>\n",
       "      <th>4</th>\n",
       "      <th>5</th>\n",
       "      <th>6</th>\n",
       "      <th>7</th>\n",
       "      <th>8</th>\n",
       "      <th>9</th>\n",
       "      <th>10</th>\n",
       "    </tr>\n",
       "  </thead>\n",
       "  <tbody>\n",
       "    <tr>\n",
       "      <th>重みの高い特徴量トップ10</th>\n",
       "      <td>fed</td>\n",
       "      <td>bank</td>\n",
       "      <td>stocks</td>\n",
       "      <td>ecb</td>\n",
       "      <td>china</td>\n",
       "      <td>euro</td>\n",
       "      <td>ukraine</td>\n",
       "      <td>yellen</td>\n",
       "      <td>obamacare</td>\n",
       "      <td>oil</td>\n",
       "    </tr>\n",
       "    <tr>\n",
       "      <th>重みの低い特徴量トップ10</th>\n",
       "      <td>video</td>\n",
       "      <td>ebola</td>\n",
       "      <td>and</td>\n",
       "      <td>the</td>\n",
       "      <td>she</td>\n",
       "      <td>microsoft</td>\n",
       "      <td>her</td>\n",
       "      <td>this</td>\n",
       "      <td>virus</td>\n",
       "      <td>star</td>\n",
       "    </tr>\n",
       "  </tbody>\n",
       "</table>\n",
       "</div>"
      ],
      "text/plain": [
       "                  1      2       3    4      5          6        7       8   \\\n",
       "重みの高い特徴量トップ10    fed   bank  stocks  ecb  china       euro  ukraine  yellen   \n",
       "重みの低い特徴量トップ10  video  ebola     and  the    she  microsoft      her    this   \n",
       "\n",
       "                      9     10  \n",
       "重みの高い特徴量トップ10  obamacare   oil  \n",
       "重みの低い特徴量トップ10      virus  star  "
      ]
     },
     "metadata": {},
     "output_type": "display_data"
    },
    {
     "name": "stdout",
     "output_type": "stream",
     "text": [
      "カテゴリ：e\n"
     ]
    },
    {
     "data": {
      "text/html": [
       "<div>\n",
       "<style scoped>\n",
       "    .dataframe tbody tr th:only-of-type {\n",
       "        vertical-align: middle;\n",
       "    }\n",
       "\n",
       "    .dataframe tbody tr th {\n",
       "        vertical-align: top;\n",
       "    }\n",
       "\n",
       "    .dataframe thead th {\n",
       "        text-align: right;\n",
       "    }\n",
       "</style>\n",
       "<table border=\"1\" class=\"dataframe\">\n",
       "  <thead>\n",
       "    <tr style=\"text-align: right;\">\n",
       "      <th></th>\n",
       "      <th>1</th>\n",
       "      <th>2</th>\n",
       "      <th>3</th>\n",
       "      <th>4</th>\n",
       "      <th>5</th>\n",
       "      <th>6</th>\n",
       "      <th>7</th>\n",
       "      <th>8</th>\n",
       "      <th>9</th>\n",
       "      <th>10</th>\n",
       "    </tr>\n",
       "  </thead>\n",
       "  <tbody>\n",
       "    <tr>\n",
       "      <th>重みの高い特徴量トップ10</th>\n",
       "      <td>kardashian</td>\n",
       "      <td>chris</td>\n",
       "      <td>she</td>\n",
       "      <td>her</td>\n",
       "      <td>kim</td>\n",
       "      <td>miley</td>\n",
       "      <td>cyrus</td>\n",
       "      <td>paul</td>\n",
       "      <td>movie</td>\n",
       "      <td>thrones</td>\n",
       "    </tr>\n",
       "    <tr>\n",
       "      <th>重みの低い特徴量トップ10</th>\n",
       "      <td>update</td>\n",
       "      <td>google</td>\n",
       "      <td>us</td>\n",
       "      <td>china</td>\n",
       "      <td>gm</td>\n",
       "      <td>study</td>\n",
       "      <td>ceo</td>\n",
       "      <td>facebook</td>\n",
       "      <td>apple</td>\n",
       "      <td>says</td>\n",
       "    </tr>\n",
       "  </tbody>\n",
       "</table>\n",
       "</div>"
      ],
      "text/plain": [
       "                       1       2    3      4    5      6      7         8   \\\n",
       "重みの高い特徴量トップ10  kardashian   chris  she    her  kim  miley  cyrus      paul   \n",
       "重みの低い特徴量トップ10      update  google   us  china   gm  study    ceo  facebook   \n",
       "\n",
       "                  9        10  \n",
       "重みの高い特徴量トップ10  movie  thrones  \n",
       "重みの低い特徴量トップ10  apple     says  "
      ]
     },
     "metadata": {},
     "output_type": "display_data"
    },
    {
     "name": "stdout",
     "output_type": "stream",
     "text": [
      "カテゴリ：m\n"
     ]
    },
    {
     "data": {
      "text/html": [
       "<div>\n",
       "<style scoped>\n",
       "    .dataframe tbody tr th:only-of-type {\n",
       "        vertical-align: middle;\n",
       "    }\n",
       "\n",
       "    .dataframe tbody tr th {\n",
       "        vertical-align: top;\n",
       "    }\n",
       "\n",
       "    .dataframe thead th {\n",
       "        text-align: right;\n",
       "    }\n",
       "</style>\n",
       "<table border=\"1\" class=\"dataframe\">\n",
       "  <thead>\n",
       "    <tr style=\"text-align: right;\">\n",
       "      <th></th>\n",
       "      <th>1</th>\n",
       "      <th>2</th>\n",
       "      <th>3</th>\n",
       "      <th>4</th>\n",
       "      <th>5</th>\n",
       "      <th>6</th>\n",
       "      <th>7</th>\n",
       "      <th>8</th>\n",
       "      <th>9</th>\n",
       "      <th>10</th>\n",
       "    </tr>\n",
       "  </thead>\n",
       "  <tbody>\n",
       "    <tr>\n",
       "      <th>重みの高い特徴量トップ10</th>\n",
       "      <td>ebola</td>\n",
       "      <td>study</td>\n",
       "      <td>fda</td>\n",
       "      <td>cancer</td>\n",
       "      <td>mers</td>\n",
       "      <td>drug</td>\n",
       "      <td>cdc</td>\n",
       "      <td>cases</td>\n",
       "      <td>health</td>\n",
       "      <td>could</td>\n",
       "    </tr>\n",
       "    <tr>\n",
       "      <th>重みの低い特徴量トップ10</th>\n",
       "      <td>gm</td>\n",
       "      <td>facebook</td>\n",
       "      <td>apple</td>\n",
       "      <td>climate</td>\n",
       "      <td>bank</td>\n",
       "      <td>ceo</td>\n",
       "      <td>game</td>\n",
       "      <td>deal</td>\n",
       "      <td>sales</td>\n",
       "      <td>google</td>\n",
       "    </tr>\n",
       "  </tbody>\n",
       "</table>\n",
       "</div>"
      ],
      "text/plain": [
       "                  1         2      3        4     5     6     7      8   \\\n",
       "重みの高い特徴量トップ10  ebola     study    fda   cancer  mers  drug   cdc  cases   \n",
       "重みの低い特徴量トップ10     gm  facebook  apple  climate  bank   ceo  game   deal   \n",
       "\n",
       "                   9       10  \n",
       "重みの高い特徴量トップ10  health   could  \n",
       "重みの低い特徴量トップ10   sales  google  "
      ]
     },
     "metadata": {},
     "output_type": "display_data"
    },
    {
     "name": "stdout",
     "output_type": "stream",
     "text": [
      "カテゴリ：t\n"
     ]
    },
    {
     "data": {
      "text/html": [
       "<div>\n",
       "<style scoped>\n",
       "    .dataframe tbody tr th:only-of-type {\n",
       "        vertical-align: middle;\n",
       "    }\n",
       "\n",
       "    .dataframe tbody tr th {\n",
       "        vertical-align: top;\n",
       "    }\n",
       "\n",
       "    .dataframe thead th {\n",
       "        text-align: right;\n",
       "    }\n",
       "</style>\n",
       "<table border=\"1\" class=\"dataframe\">\n",
       "  <thead>\n",
       "    <tr style=\"text-align: right;\">\n",
       "      <th></th>\n",
       "      <th>1</th>\n",
       "      <th>2</th>\n",
       "      <th>3</th>\n",
       "      <th>4</th>\n",
       "      <th>5</th>\n",
       "      <th>6</th>\n",
       "      <th>7</th>\n",
       "      <th>8</th>\n",
       "      <th>9</th>\n",
       "      <th>10</th>\n",
       "    </tr>\n",
       "  </thead>\n",
       "  <tbody>\n",
       "    <tr>\n",
       "      <th>重みの高い特徴量トップ10</th>\n",
       "      <td>google</td>\n",
       "      <td>facebook</td>\n",
       "      <td>apple</td>\n",
       "      <td>microsoft</td>\n",
       "      <td>climate</td>\n",
       "      <td>nasa</td>\n",
       "      <td>tesla</td>\n",
       "      <td>heartbleed</td>\n",
       "      <td>gm</td>\n",
       "      <td>fcc</td>\n",
       "    </tr>\n",
       "    <tr>\n",
       "      <th>重みの低い特徴量トップ10</th>\n",
       "      <td>stocks</td>\n",
       "      <td>fed</td>\n",
       "      <td>shares</td>\n",
       "      <td>cancer</td>\n",
       "      <td>her</td>\n",
       "      <td>ukraine</td>\n",
       "      <td>thrones</td>\n",
       "      <td>percent</td>\n",
       "      <td>american</td>\n",
       "      <td>york</td>\n",
       "    </tr>\n",
       "  </tbody>\n",
       "</table>\n",
       "</div>"
      ],
      "text/plain": [
       "                   1         2       3          4        5        6        7   \\\n",
       "重みの高い特徴量トップ10  google  facebook   apple  microsoft  climate     nasa    tesla   \n",
       "重みの低い特徴量トップ10  stocks       fed  shares     cancer      her  ukraine  thrones   \n",
       "\n",
       "                       8         9     10  \n",
       "重みの高い特徴量トップ10  heartbleed        gm   fcc  \n",
       "重みの低い特徴量トップ10     percent  american  york  "
      ]
     },
     "metadata": {},
     "output_type": "display_data"
    }
   ],
   "source": [
    "features = X_train.columns.values\n",
    "index = [i for i in range(1, 11)]\n",
    "for c, coef in zip(model.classes_, model.coef_):\n",
    "    print(f'カテゴリ：{c}')\n",
    "    best10 = pd.DataFrame(features[np.argsort(coef)[::-1][:10]], columns=['重みの高い特徴量トップ10'], index=index).T\n",
    "    worst10 = pd.DataFrame(features[np.argsort(coef)[:10]], columns=['重みの低い特徴量トップ10'], index=index).T\n",
    "    display(pd.concat([best10, worst10], axis=0))"
   ]
  },
  {
   "cell_type": "markdown",
   "metadata": {},
   "source": [
    "# 58. 正則化パラメータの変更"
   ]
  },
  {
   "cell_type": "markdown",
   "metadata": {},
   "source": [
    "ロジスティック回帰モデルを学習するとき，正則化パラメータを調整することで，学習時の過学習（overfitting）の度合いを制御できる．異なる正則化パラメータでロジスティック回帰モデルを学習し，学習データ，検証データ，および評価データ上の正解率を求めよ．実験の結果は，正則化パラメータを横軸，正解率を縦軸としたグラフにまとめよ．"
   ]
  },
  {
   "cell_type": "code",
   "execution_count": 26,
   "metadata": {},
   "outputs": [
    {
     "name": "stderr",
     "output_type": "stream",
     "text": [
      "100%|██████████| 10/10 [03:37<00:00, 21.71s/it]\n"
     ]
    }
   ],
   "source": [
    "from tqdm import tqdm\n",
    "\n",
    "result = []\n",
    "for C in tqdm(np.logspace(-5, 4, 10, base=10)):\n",
    "    # モデルの学習\n",
    "    lg = LogisticRegression(random_state=0, max_iter=10000, C=C)\n",
    "    lg.fit(X_train, train['CATEGORY'])\n",
    "\n",
    "    # 予測値の取得\n",
    "    train_pred = predict_with_score(lg, X_train)\n",
    "    valid_pred = predict_with_score(lg, X_valid)\n",
    "    test_pred = predict_with_score(lg, X_test)\n",
    "\n",
    "  # 正解率\n",
    "    train_accuracy = accuracy_score(train['CATEGORY'], train_pred[1])\n",
    "    valid_accuracy = accuracy_score(valid['CATEGORY'], valid_pred[1])\n",
    "    test_accuracy = accuracy_score(test['CATEGORY'], test_pred[1])\n",
    "\n",
    "  # 結果の格納\n",
    "    result.append([C, train_accuracy, valid_accuracy, test_accuracy])"
   ]
  },
  {
   "cell_type": "code",
   "execution_count": 29,
   "metadata": {},
   "outputs": [
    {
     "data": {
      "text/plain": [
       "<matplotlib.legend.Legend at 0x1a22f9a190>"
      ]
     },
     "execution_count": 29,
     "metadata": {},
     "output_type": "execute_result"
    },
    {
     "data": {
      "image/png": "[encoded data removed]",
      "text/plain": [
       "<Figure size 432x288 with 1 Axes>"
      ]
     },
     "metadata": {
      "needs_background": "light"
     },
     "output_type": "display_data"
    }
   ],
   "source": [
    "import matplotlib.pyplot as plt\n",
    "\n",
    "#グラフにする\n",
    "result = np.array(result).T\n",
    "plt.plot(result[0], result[1], label='train')\n",
    "plt.plot(result[0], result[2], label='valid')\n",
    "plt.plot(result[0], result[3], label='test')\n",
    "plt.ylim(0, 1.1)\n",
    "plt.ylabel('Accuracy')\n",
    "plt.xscale ('log')\n",
    "plt.xlabel('C')\n",
    "plt.legend()"
   ]
  },
  {
   "cell_type": "markdown",
   "metadata": {},
   "source": [
    "# 59. ハイパーパラメータの探索"
   ]
  },
  {
   "cell_type": "markdown",
   "metadata": {},
   "source": [
    "学習アルゴリズムや学習パラメータを変えながら，カテゴリ分類モデルを学習せよ．検証データ上の正解率が最も高くなる学習アルゴリズム・パラメータを求めよ．また，その学習アルゴリズム・パラメータを用いたときの評価データ上の正解率を求めよ．"
   ]
  },
  {
   "cell_type": "code",
   "execution_count": 18,
   "metadata": {},
   "outputs": [],
   "source": [
    "import itertools\n",
    "\n",
    "def calc_scores(C,solver):\n",
    "    clf = LogisticRegression(C=C, solver=solver, max_iter=50000)\n",
    "    clf.fit(X_train, train['CATEGORY'])\n",
    "\n",
    "    y_train_pred = clf.predict(X_train)\n",
    "    y_valid_pred = clf.predict(X_valid)\n",
    "    y_test_pred = clf.predict(X_test)\n",
    "    \n",
    "    scores = []\n",
    "    scores.append(accuracy_score(train['CATEGORY'], y_train_pred))\n",
    "    scores.append(accuracy_score(valid['CATEGORY'], y_valid_pred))\n",
    "    scores.append(accuracy_score(test['CATEGORY'], y_test_pred))\n",
    "    return scores"
   ]
  },
  {
   "cell_type": "code",
   "execution_count": 19,
   "metadata": {
    "scrolled": true
   },
   "outputs": [
    {
     "name": "stdout",
     "output_type": "stream",
     "text": [
      "1e-05 newton-cg\n",
      "1e-05 lbfgs\n",
      "1e-05 liblinear\n",
      "1e-05 sag\n",
      "1e-05 saga\n",
      "0.0001 newton-cg\n",
      "0.0001 lbfgs\n",
      "0.0001 liblinear\n",
      "0.0001 sag\n",
      "0.0001 saga\n",
      "0.001 newton-cg\n",
      "0.001 lbfgs\n",
      "0.001 liblinear\n",
      "0.001 sag\n",
      "0.001 saga\n",
      "0.01 newton-cg\n",
      "0.01 lbfgs\n",
      "0.01 liblinear\n",
      "0.01 sag\n",
      "0.01 saga\n",
      "0.1 newton-cg\n",
      "0.1 lbfgs\n",
      "0.1 liblinear\n",
      "0.1 sag\n",
      "0.1 saga\n",
      "1.0 newton-cg\n",
      "1.0 lbfgs\n",
      "1.0 liblinear\n",
      "1.0 sag\n",
      "1.0 saga\n",
      "10.0 newton-cg\n",
      "10.0 lbfgs\n",
      "10.0 liblinear\n",
      "10.0 sag\n",
      "10.0 saga\n",
      "100.0 newton-cg\n",
      "100.0 lbfgs\n",
      "100.0 liblinear\n",
      "100.0 sag\n",
      "100.0 saga\n",
      "1000.0 newton-cg\n",
      "1000.0 lbfgs\n",
      "1000.0 liblinear\n",
      "1000.0 sag\n",
      "1000.0 saga\n",
      "10000.0 newton-cg\n",
      "10000.0 lbfgs\n",
      "10000.0 liblinear\n",
      "10000.0 sag\n"
     ]
    },
    {
     "name": "stderr",
     "output_type": "stream",
     "text": [
      "/Users/kimuramayuko/opt/anaconda3/lib/python3.7/site-packages/sklearn/linear_model/_sag.py:330: ConvergenceWarning: The max_iter was reached which means the coef_ did not converge\n",
      "  \"the coef_ did not converge\", ConvergenceWarning)\n"
     ]
    },
    {
     "name": "stdout",
     "output_type": "stream",
     "text": [
      "10000.0 saga\n",
      "best patameter:  [10.0, 'liblinear']\n",
      "best scores:  [0.9624250374812594, 0.8793103448275862, 0.8830584707646177]\n",
      "test accuracy:  0.8830584707646177\n"
     ]
    }
   ],
   "source": [
    "C = np.logspace(-5, 4, 10, base=10)\n",
    "solver = ['newton-cg','lbfgs','liblinear','sag','saga']\n",
    "# class_weight = [None, 'balanced']\n",
    "best_parameter = None\n",
    "best_scores = None\n",
    "max_valid_score = 0\n",
    "for c, s in itertools.product(C, solver):\n",
    "    print(c, s)\n",
    "    scores = calc_scores(c, s)\n",
    "    if scores[1] > max_valid_score:\n",
    "        max_valid_score = scores[1]\n",
    "        best_parameter = [c, s]\n",
    "        best_scores = scores\n",
    "print ('best patameter: ', best_parameter)\n",
    "print ('best scores: ', best_scores)\n",
    "print ('test accuracy: ', best_scores[2])"
   ]
  },
  {
   "cell_type": "code",
   "execution_count": null,
   "metadata": {},
   "outputs": [],
   "source": []
  }
 ],
 "metadata": {
  "kernelspec": {
   "display_name": "Python 3",
   "language": "python",
   "name": "python3"
  },
  "language_info": {
   "codemirror_mode": {
    "name": "ipython",
    "version": 3
   },
   "file_extension": ".py",
   "mimetype": "text/x-python",
   "name": "python",
   "nbconvert_exporter": "python",
   "pygments_lexer": "ipython3",
   "version": "3.7.6"
  }
 },
 "nbformat": 4,
 "nbformat_minor": 4
}
