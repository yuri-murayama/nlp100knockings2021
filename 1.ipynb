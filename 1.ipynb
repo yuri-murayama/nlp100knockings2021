{
  "nbformat": 4,
  "nbformat_minor": 0,
  "metadata": {
    "colab": {
      "name": "1.ipynb",
      "provenance": [],
      "toc_visible": true,
      "authorship_tag": "ABX9TyOY/ujFCF/6m+kyFlDC1Jxl",
      "include_colab_link": true
    },
    "kernelspec": {
      "name": "python3",
      "display_name": "Python 3"
    },
    "language_info": {
      "name": "python"
    }
  },
  "cells": [
    {
      "cell_type": "markdown",
      "metadata": {
        "id": "view-in-github",
        "colab_type": "text"
      },
      "source": [
        "<a href=\"https://colab.research.google.com/github/yuri-murayama/nlp100knockings2021/blob/sayako/1.ipynb\" target=\"_parent\"><img src=\"https://colab.research.google.com/assets/colab-badge.svg\" alt=\"Open In Colab\"/></a>"
      ]
    },
    {
      "cell_type": "markdown",
      "metadata": {
        "id": "3NtjCM8BQScK"
      },
      "source": [
        "#第1章: 準備運動"
      ]
    },
    {
      "cell_type": "markdown",
      "metadata": {
        "id": "ConEiAHkQXyU"
      },
      "source": [
        "#00. 文字列の逆順\n",
        "#### 文字列”stressed”の文字を逆に（末尾から先頭に向かって）並べた文字列を得よ．"
      ]
    },
    {
      "cell_type": "code",
      "metadata": {
        "id": "SBA9yOZZC_Jl"
      },
      "source": [
        "A = \"stressed\""
      ],
      "execution_count": 364,
      "outputs": []
    },
    {
      "cell_type": "code",
      "metadata": {
        "id": "Hlu0j_DRDF9t"
      },
      "source": [
        "A_re = A[::-1]"
      ],
      "execution_count": 365,
      "outputs": []
    },
    {
      "cell_type": "code",
      "metadata": {
        "colab": {
          "base_uri": "https://localhost:8080/"
        },
        "id": "XqPNxwwEDSy_",
        "outputId": "fc04c2a3-6960-4df9-9a1e-6cc2428f6639"
      },
      "source": [
        "print(A_re)"
      ],
      "execution_count": 366,
      "outputs": [
        {
          "output_type": "stream",
          "text": [
            "desserts\n"
          ],
          "name": "stdout"
        }
      ]
    },
    {
      "cell_type": "markdown",
      "metadata": {
        "id": "SlMHdPDHQhi9"
      },
      "source": [
        "#01. 「パタトクカシーー」\n",
        "####「パタトクカシーー」という文字列の1,3,5,7文字目を取り出して連結した文字列を得よ．"
      ]
    },
    {
      "cell_type": "code",
      "metadata": {
        "id": "NOkXX98MELP-"
      },
      "source": [
        "A = \"パタトクカシーー\""
      ],
      "execution_count": 367,
      "outputs": []
    },
    {
      "cell_type": "code",
      "metadata": {
        "id": "MgGMdV8hEOnW"
      },
      "source": [
        "A_list = list(A)"
      ],
      "execution_count": 368,
      "outputs": []
    },
    {
      "cell_type": "code",
      "metadata": {
        "id": "K4fRr7ZvEQi5"
      },
      "source": [
        "A_ans = A_list[0] + A_list[2] + A_list[4] + A_list[6]"
      ],
      "execution_count": 369,
      "outputs": []
    },
    {
      "cell_type": "code",
      "metadata": {
        "colab": {
          "base_uri": "https://localhost:8080/"
        },
        "id": "H5ly_ZmLERXd",
        "outputId": "a15b5ec9-bc24-48c1-dc18-ad000ec69bed"
      },
      "source": [
        "print(A_ans)"
      ],
      "execution_count": 370,
      "outputs": [
        {
          "output_type": "stream",
          "text": [
            "パトカー\n"
          ],
          "name": "stdout"
        }
      ]
    },
    {
      "cell_type": "markdown",
      "metadata": {
        "id": "nRZ5l6sZQrCo"
      },
      "source": [
        "#03. 円周率\n",
        "# #### “Now I need a drink, alcoholic of course, after the heavy lectures involving quantum mechanics.”という文を単語に分解し，\n",
        "#### 各単語の（アルファベットの）文字数を先頭から出現順に並べたリストを作成せよ．"
      ]
    },
    {
      "cell_type": "code",
      "metadata": {
        "id": "iJsMZednE7ZG"
      },
      "source": [
        "A = \"Now I need a drink, alcoholic of course, after the heavy lectures involving quantum mechanics.\""
      ],
      "execution_count": 371,
      "outputs": []
    },
    {
      "cell_type": "code",
      "metadata": {
        "id": "Jza2Pub4FM6I"
      },
      "source": [
        "A = A.replace('.', '').replace(',', '')\n",
        "A_list = A.split()"
      ],
      "execution_count": 372,
      "outputs": []
    },
    {
      "cell_type": "code",
      "metadata": {
        "id": "mcNYgq0GFZ2I"
      },
      "source": [
        "ans_list = []\n",
        "for i in range(len(A_list)):\n",
        "  ans_list.append(len(A_list[i]))"
      ],
      "execution_count": 373,
      "outputs": []
    },
    {
      "cell_type": "code",
      "metadata": {
        "colab": {
          "base_uri": "https://localhost:8080/"
        },
        "id": "RTI-hIpXFt3P",
        "outputId": "9066f5bd-4875-492d-b4b1-b32b404ca619"
      },
      "source": [
        "print(ans_list)"
      ],
      "execution_count": 374,
      "outputs": [
        {
          "output_type": "stream",
          "text": [
            "[3, 1, 4, 1, 5, 9, 2, 6, 5, 3, 5, 8, 9, 7, 9]\n"
          ],
          "name": "stdout"
        }
      ]
    },
    {
      "cell_type": "markdown",
      "metadata": {
        "id": "aNG7kPPqQx40"
      },
      "source": [
        "#04. 元素記号\n",
        "#### “Hi He Lied Because Boron Could Not Oxidize Fluorine. New Nations Might Also Sign Peace Security Clause. Arthur King Can.”という文を単語に分解し，\n",
        "#### 1, 5, 6, 7, 8, 9, 15, 16, 19番目の単語は先頭の1文字，それ以外の単語は先頭の2文字を取り出し，\n",
        "#### 取り出した文字列から単語の位置（先頭から何番目の単語か）への連想配列（辞書型もしくはマップ型）を作成せよ．"
      ]
    },
    {
      "cell_type": "code",
      "metadata": {
        "id": "OL-lqU2xGFfc"
      },
      "source": [
        "A = \"Hi He Lied Because Boron Could Not Oxidize Fluorine. New Nations Might Also Sign Peace Security Clause. Arthur King Can.\""
      ],
      "execution_count": 375,
      "outputs": []
    },
    {
      "cell_type": "code",
      "metadata": {
        "id": "G7qpBNIyGHz6"
      },
      "source": [
        "A_list = A.split()"
      ],
      "execution_count": 376,
      "outputs": []
    },
    {
      "cell_type": "code",
      "metadata": {
        "colab": {
          "base_uri": "https://localhost:8080/"
        },
        "id": "CfqK0mq2GL8Y",
        "outputId": "826d846f-4200-4718-b6fe-4e00bcde1d66"
      },
      "source": [
        "ans_dic = {}\n",
        "for i in range(len(A_list)):\n",
        "  if((i == 0)or(i == 4)or(i == 5)or(i == 6)or(i == 7)or(i == 8)or(i == 14)or(i == 15)or(i == 18)):\n",
        "    ans_dic[A_list[i][0]] = i+1\n",
        "  else:\n",
        "    ans_dic[A_list[i][0:2]] = i+1\n",
        "print(ans_dic)"
      ],
      "execution_count": 377,
      "outputs": [
        {
          "output_type": "stream",
          "text": [
            "{'H': 1, 'He': 2, 'Li': 3, 'Be': 4, 'B': 5, 'C': 6, 'N': 7, 'O': 8, 'F': 9, 'Ne': 10, 'Na': 11, 'Mi': 12, 'Al': 13, 'Si': 14, 'P': 15, 'S': 16, 'Cl': 17, 'Ar': 18, 'K': 19, 'Ca': 20}\n"
          ],
          "name": "stdout"
        }
      ]
    },
    {
      "cell_type": "markdown",
      "metadata": {
        "id": "ql0_Mx0LQ4TG"
      },
      "source": [
        "#05. n-gram\n",
        "#### 与えられたシーケンス（文字列やリストなど）からn-gramを作る関数を作成せよ．\n",
        "#### この関数を用い，”I am an NLPer”という文から単語bi-gram，文字bi-gramを得よ．"
      ]
    },
    {
      "cell_type": "code",
      "metadata": {
        "id": "c1_rxkJ0IDuw"
      },
      "source": [
        "def n_gram(A_list,n):\n",
        "  # n-gram\n",
        "  ngram_list = []\n",
        "  for i in range(len(A_list)-n+1):\n",
        "    ngram = \"\"\n",
        "    for j in range(n):\n",
        "      ngram += A_list[i+j]\n",
        "    ngram_list.append(ngram)\n",
        "  return ngram_list"
      ],
      "execution_count": 378,
      "outputs": []
    },
    {
      "cell_type": "code",
      "metadata": {
        "id": "q1JMKGB4Jv00"
      },
      "source": [
        "A = \"I am an NLPer\""
      ],
      "execution_count": 379,
      "outputs": []
    },
    {
      "cell_type": "code",
      "metadata": {
        "colab": {
          "base_uri": "https://localhost:8080/"
        },
        "id": "fZ6ZLEieN-OJ",
        "outputId": "ac11465a-3d21-4476-b40e-24aa43914a86"
      },
      "source": [
        "#単語bi-gram\n",
        "A_list = A.split()\n",
        "n_gram(A_list ,2)"
      ],
      "execution_count": 380,
      "outputs": [
        {
          "output_type": "execute_result",
          "data": {
            "text/plain": [
              "['Iam', 'aman', 'anNLPer']"
            ]
          },
          "metadata": {
            "tags": []
          },
          "execution_count": 380
        }
      ]
    },
    {
      "cell_type": "code",
      "metadata": {
        "colab": {
          "base_uri": "https://localhost:8080/"
        },
        "id": "hy5LG6YTN5Vq",
        "outputId": "e8646c06-0324-4ab9-d5fe-8fd6466c4267"
      },
      "source": [
        "#文字bi-gram\n",
        "A = A.replace(' ', '')\n",
        "A_list = list(A)\n",
        "n_gram(A_list,2)"
      ],
      "execution_count": 381,
      "outputs": [
        {
          "output_type": "execute_result",
          "data": {
            "text/plain": [
              "['Ia', 'am', 'ma', 'an', 'nN', 'NL', 'LP', 'Pe', 'er']"
            ]
          },
          "metadata": {
            "tags": []
          },
          "execution_count": 381
        }
      ]
    },
    {
      "cell_type": "markdown",
      "metadata": {
        "id": "o0RdpOpGQ9DA"
      },
      "source": [
        "#06. 集合\n",
        "#### “paraparaparadise”と”paragraph”に含まれる文字bi-gramの集合を，それぞれ, XとYとして求め，XとYの和集合，積集合，差集合を求めよ．\n",
        "#### さらに，’se’というbi-gramがXおよびYに含まれるかどうかを調べよ．"
      ]
    },
    {
      "cell_type": "code",
      "metadata": {
        "colab": {
          "base_uri": "https://localhost:8080/"
        },
        "id": "_tzu88F5Mvsx",
        "outputId": "e4efaf4b-4cda-47ad-e638-87377e069179"
      },
      "source": [
        "x = \"paraparaparadise\"\n",
        "x_list = list(x)\n",
        "X = set(n_gram(x_list,2))\n",
        "print(X)"
      ],
      "execution_count": 382,
      "outputs": [
        {
          "output_type": "stream",
          "text": [
            "{'di', 'is', 'ra', 'ad', 'se', 'ar', 'pa', 'ap'}\n"
          ],
          "name": "stdout"
        }
      ]
    },
    {
      "cell_type": "code",
      "metadata": {
        "colab": {
          "base_uri": "https://localhost:8080/"
        },
        "id": "NfWHD67rOKXE",
        "outputId": "485e3e6b-48fc-49ee-a61e-7e70e77f65fb"
      },
      "source": [
        "y = \"paragraph\"\n",
        "y_list = list(y)\n",
        "Y = set(n_gram(y_list,2))\n",
        "print(Y)"
      ],
      "execution_count": 383,
      "outputs": [
        {
          "output_type": "stream",
          "text": [
            "{'ra', 'ar', 'pa', 'ap', 'ph', 'ag', 'gr'}\n"
          ],
          "name": "stdout"
        }
      ]
    },
    {
      "cell_type": "code",
      "metadata": {
        "colab": {
          "base_uri": "https://localhost:8080/"
        },
        "id": "Dgq8i3sXOfsU",
        "outputId": "7fa2b2d0-d9a8-4fe8-ca27-9d9574bea75b"
      },
      "source": [
        "#和集合\n",
        "union = X | Y\n",
        "print(union)"
      ],
      "execution_count": 384,
      "outputs": [
        {
          "output_type": "stream",
          "text": [
            "{'di', 'is', 'ra', 'ad', 'se', 'ar', 'pa', 'ap', 'ph', 'ag', 'gr'}\n"
          ],
          "name": "stdout"
        }
      ]
    },
    {
      "cell_type": "code",
      "metadata": {
        "colab": {
          "base_uri": "https://localhost:8080/"
        },
        "id": "6jSvfrIyPgxG",
        "outputId": "5af54cc3-99b2-40f4-ff9c-5c2aa264d311"
      },
      "source": [
        "#積集合\n",
        "intersection = X & Y\n",
        "print(intersection)"
      ],
      "execution_count": 385,
      "outputs": [
        {
          "output_type": "stream",
          "text": [
            "{'ap', 'pa', 'ra', 'ar'}\n"
          ],
          "name": "stdout"
        }
      ]
    },
    {
      "cell_type": "code",
      "metadata": {
        "colab": {
          "base_uri": "https://localhost:8080/"
        },
        "id": "8Wv3sPYxPOxC",
        "outputId": "472d05f3-3e9e-4718-8118-bea233213c96"
      },
      "source": [
        "#差集合\n",
        "difference = X - Y\n",
        "print(difference)"
      ],
      "execution_count": 386,
      "outputs": [
        {
          "output_type": "stream",
          "text": [
            "{'se', 'di', 'is', 'ad'}\n"
          ],
          "name": "stdout"
        }
      ]
    },
    {
      "cell_type": "markdown",
      "metadata": {
        "id": "iHEnhIV4T6yp"
      },
      "source": [
        "#07. テンプレートによる文生成\n",
        "#### 引数x, y, zを受け取り「x時のyはz」という文字列を返す関数を実装せよ．\n",
        "#### さらに，x=12, y=”気温”, z=22.4として，実行結果を確認せよ．"
      ]
    },
    {
      "cell_type": "code",
      "metadata": {
        "id": "lzt8pkr1PQFH"
      },
      "source": [
        "def template(x,y,z):\n",
        "  ans =  str(x)+\"時の\"+str(y)+\"は\"+str(z)\n",
        "  return ans"
      ],
      "execution_count": 387,
      "outputs": []
    },
    {
      "cell_type": "code",
      "metadata": {
        "colab": {
          "base_uri": "https://localhost:8080/",
          "height": 37
        },
        "id": "4LGHFnETUTjc",
        "outputId": "125a9ef4-8675-4788-a1a3-b650d4aed9df"
      },
      "source": [
        "x=12\n",
        "y=\"気温\"\n",
        "z=22.4\n",
        "template(x,y,z)"
      ],
      "execution_count": 388,
      "outputs": [
        {
          "output_type": "execute_result",
          "data": {
            "application/vnd.google.colaboratory.intrinsic+json": {
              "type": "string"
            },
            "text/plain": [
              "'12時の気温は22.4'"
            ]
          },
          "metadata": {
            "tags": []
          },
          "execution_count": 388
        }
      ]
    },
    {
      "cell_type": "markdown",
      "metadata": {
        "id": "87cILWYCUzlE"
      },
      "source": [
        "#08. 暗号文Permalink\n",
        "#### 与えられた文字列の各文字を，以下の仕様で変換する関数cipherを実装せよ．\n",
        "\n",
        "#### 英小文字ならば(219 - 文字コード)の文字に置換\n",
        "#### その他の文字はそのまま出力\n",
        "#### この関数を用い，英語のメッセージを暗号化・復号化せよ．"
      ]
    },
    {
      "cell_type": "code",
      "metadata": {
        "id": "HuDYf1vuUY-f"
      },
      "source": [
        "def cipher(N):\n",
        "  N_list = list(N)\n",
        "  for i in range(len(N_list)):\n",
        "    if(N_list[i].islower() == True):\n",
        "     N_list[i] = chr(219-ord(N_list[i]))\n",
        "  return \"\".join(N_list)"
      ],
      "execution_count": 389,
      "outputs": []
    },
    {
      "cell_type": "code",
      "metadata": {
        "colab": {
          "base_uri": "https://localhost:8080/"
        },
        "id": "YcB2iwCTVpwn",
        "outputId": "bed0ac2a-5798-470c-caa7-71a238b35e48"
      },
      "source": [
        "N = \"I am an NLPer.\"\n",
        "N_ = cipher(N)\n",
        "print(\"暗号化：\",N_)\n",
        "N = cipher(N_)\n",
        "print(\"復号化：\",N)"
      ],
      "execution_count": 390,
      "outputs": [
        {
          "output_type": "stream",
          "text": [
            "暗号化： I zn zm NLPvi.\n",
            "復号化： I am an NLPer.\n"
          ],
          "name": "stdout"
        }
      ]
    },
    {
      "cell_type": "markdown",
      "metadata": {
        "id": "K9Ky2IblXNRR"
      },
      "source": [
        "#09. Typoglycemia\n",
        "#### スペースで区切られた単語列に対して，各単語の先頭と末尾の文字は残し，それ以外の文字の順序をランダムに並び替えるプログラムを作成せよ．\n",
        "#### ただし，長さが４以下の単語は並び替えないこととする．\n",
        "#### 適当な英語の文（例えば”I couldn’t believe that I could actually understand what I was reading : the phenomenal power of the human mind .”）を与え，その実行結果を確認せよ．"
      ]
    },
    {
      "cell_type": "code",
      "metadata": {
        "colab": {
          "base_uri": "https://localhost:8080/"
        },
        "id": "eWR3DcwaXS4m",
        "outputId": "37945227-39e9-4ab9-f091-8ebb2bfd2250"
      },
      "source": [
        "import random\n",
        "\n",
        "A = \"I couldn’t believe that I could actually understand what I was reading : the phenomenal power of the human mind .\"\n",
        "A_list = A.split()\n",
        "for i in range(len(A_list)):\n",
        "  if(len(A_list[i]) > 4):\n",
        "    #先頭・末尾以外\n",
        "    shuffle_list = list(A_list[i][1:len(A_list[i])-1])\n",
        "    shuffled = ''.join(random.sample(shuffle_list, len(shuffle_list)))\n",
        "    A_list[i] = A_list[i][0] + shuffled + A_list[i][len(A_list[i])-1]\n",
        "print(\" \".join(A_list))"
      ],
      "execution_count": 391,
      "outputs": [
        {
          "output_type": "stream",
          "text": [
            "I cdnul’ot bleivee that I could altaculy unndarsted what I was ranideg : the pohenenaml pwoer of the hmaun mind .\n"
          ],
          "name": "stdout"
        }
      ]
    },
    {
      "cell_type": "code",
      "metadata": {
        "id": "tTY3oLpDX3g_"
      },
      "source": [
        ""
      ],
      "execution_count": 391,
      "outputs": []
    }
  ]
}